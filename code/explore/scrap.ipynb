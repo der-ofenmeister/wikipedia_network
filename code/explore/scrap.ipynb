{
 "metadata": {
  "name": "",
  "signature": "sha256:102708101744c5f8b8342e81e9c504fe4a84348ac664c389576bdde85b61a6ae"
 },
 "nbformat": 3,
 "nbformat_minor": 0,
 "worksheets": [
  {
   "cells": [
    {
     "cell_type": "code",
     "collapsed": false,
     "input": [
      "%load get_loop.py"
     ],
     "language": "python",
     "metadata": {},
     "outputs": [],
     "prompt_number": 4
    },
    {
     "cell_type": "code",
     "collapsed": false,
     "input": [
      "\"\"\"create a dictionary of links traversed for nth fl chuck\"\"\"\n",
      "#takes a file num and creates xpath.json\n",
      "\n",
      "import json, gc, sys\n",
      "\n",
      "\n",
      "#goal path[page] = [link1, link2, link3]\n",
      "\n",
      "#load fln dictionary\n",
      "net_path = \"/Users/mark/Desktop/wiki_v4/\"\n",
      "\n",
      "with open(net_path + \"fln.json\") as f:\n",
      "    fln = json.load(f)\n",
      "def correct_cap(title):\n",
      "    \"\"\"returns properly capitalized key, blank otherwise\"\"\"\n",
      "    try:\n",
      "        fl = fln[title]\n",
      "        return title\n",
      "    except:\n",
      "    #capitalize first letter only\n",
      "        try:\n",
      "            fl = fln[title[0].upper() + title[1:]]\n",
      "            return title[0].upper() + title[1:]\n",
      "        except:\n",
      "    #try title case\n",
      "            try:\n",
      "                fl = fln[title.title()]\n",
      "                return title.title()\n",
      "            except KeyError:\n",
      "                return \"\"\n",
      "\n",
      "def traverse(start):\n",
      "    \"\"\"returns list of links traversed\"\"\"\n",
      "    #stop when link is repeated or dead link\n",
      "    links_traversed = []\n",
      "    try:\n",
      "        fl = correct_cap(fln[start])\n",
      "    except KeyError:\n",
      "        return \"broken link\" \n",
      "    i = 0\n",
      "    while fl not in links_traversed and fl !=\"\":\n",
      "        #maybe add clicks here?\n",
      "        i += 1\n",
      "        #break if too large\n",
      "        if i > 10000: \n",
      "            fl = \"exceeded 10k click limit\"\n",
      "            break\n",
      "        #append fl\n",
      "        links_traversed.append(fl)\n",
      "        #jump to next link\n",
      "        fl = correct_cap(fln[fl])\n",
      "    return links_traversed\n",
      "\n",
      "            \n"
     ],
     "language": "python",
     "metadata": {},
     "outputs": [],
     "prompt_number": 5
    },
    {
     "cell_type": "code",
     "collapsed": false,
     "input": [],
     "language": "python",
     "metadata": {},
     "outputs": [],
     "prompt_number": 12
    },
    {
     "cell_type": "code",
     "collapsed": false,
     "input": [],
     "language": "python",
     "metadata": {},
     "outputs": []
    }
   ],
   "metadata": {}
  }
 ]
}