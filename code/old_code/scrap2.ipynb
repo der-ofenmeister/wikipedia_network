{
 "metadata": {
  "name": "",
  "signature": "sha256:45138a69eb6e3f69a19c6bcb786a9bb4321b746f1358869e968e397920b21254"
 },
 "nbformat": 3,
 "nbformat_minor": 0,
 "worksheets": [
  {
   "cells": [
    {
     "cell_type": "code",
     "collapsed": false,
     "input": [
      "#load dicitonary of first links\n",
      "import signal"
     ],
     "language": "python",
     "metadata": {},
     "outputs": [],
     "prompt_number": 4
    },
    {
     "cell_type": "code",
     "collapsed": false,
     "input": [
      "#traverse until repeated\n",
      "def traverse(start):\n",
      "    \"\"\"traverses first link network until repeated link (or dead)\"\"\"\n",
      "    pass\n",
      "\n",
      "#test above\n",
      "#add +1 click\n",
      "\n",
      "#store cycle length (how many clicks before termination)\n",
      "    # = len(links traversed)"
     ],
     "language": "python",
     "metadata": {},
     "outputs": [],
     "prompt_number": 5
    },
    {
     "cell_type": "code",
     "collapsed": false,
     "input": [
      "class TimedOutExc(Exception):\n",
      "  pass\n",
      "\n",
      "def deadline(timeout, *args):\n",
      "  def decorate(f):\n",
      "    def handler(signum, frame):\n",
      "      raise TimedOutExc()\n",
      "\n",
      "    def new_f(*args):\n",
      "\n",
      "      signal.signal(signal.SIGALRM, handler)\n",
      "      signal.alarm(timeout)\n",
      "      return f(*args)\n",
      "      signa.alarm(0)\n",
      "\n",
      "    new_f.__name__ = f.__name__\n",
      "    return new_f\n",
      "  return decorate\n",
      " "
     ],
     "language": "python",
     "metadata": {},
     "outputs": [],
     "prompt_number": 1
    },
    {
     "cell_type": "code",
     "collapsed": false,
     "input": [
      "@deadline(5)\n",
      "def take_a_long_time():\n",
      "  while(True):\n",
      "    pass"
     ],
     "language": "python",
     "metadata": {},
     "outputs": [],
     "prompt_number": 2
    },
    {
     "cell_type": "code",
     "collapsed": false,
     "input": [
      "try:\n",
      "  take_a_long_time()\n",
      "except TimedOutExc as e:\n",
      "  print \"took too long\"\n"
     ],
     "language": "python",
     "metadata": {},
     "outputs": [
      {
       "output_type": "stream",
       "stream": "stdout",
       "text": [
        "took too long\n"
       ]
      }
     ],
     "prompt_number": 5
    },
    {
     "cell_type": "code",
     "collapsed": false,
     "input": [
      "a = {'Fact':[0,1,\"hi\"], 'Experience':[0, 1,\"\"]}\n",
      "b = {'Fact':[2,3,\"hi\"], 'Experience':[2, 4,\"hello\"]}\n",
      "     "
     ],
     "language": "python",
     "metadata": {},
     "outputs": [],
     "prompt_number": 4
    },
    {
     "cell_type": "code",
     "collapsed": false,
     "input": [
      "a.update(b)"
     ],
     "language": "python",
     "metadata": {},
     "outputs": [],
     "prompt_number": 5
    },
    {
     "cell_type": "code",
     "collapsed": false,
     "input": [
      "a"
     ],
     "language": "python",
     "metadata": {},
     "outputs": [
      {
       "metadata": {},
       "output_type": "pyout",
       "prompt_number": 6,
       "text": [
        "{'Experience': [2, 4, 'hello'], 'Fact': [2, 3, 'hi']}"
       ]
      }
     ],
     "prompt_number": 6
    },
    {
     "cell_type": "code",
     "collapsed": false,
     "input": [],
     "language": "python",
     "metadata": {},
     "outputs": []
    }
   ],
   "metadata": {}
  }
 ]
}