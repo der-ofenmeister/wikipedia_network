{
 "metadata": {
  "name": "",
  "signature": "sha256:c6c4533748f2e5a767519722283b2a3538a28ffd4effd34a674c462dbc36c417"
 },
 "nbformat": 3,
 "nbformat_minor": 0,
 "worksheets": [
  {
   "cells": [
    {
     "cell_type": "code",
     "collapsed": false,
     "input": [
      "#loop through entries in dictionary\n",
      "#traverse adding +1\n",
      "#stop once already traversed or dead\n",
      "\n",
      "\n",
      "#TODO: \n",
      "    # test loops a bit more (10min)\n",
      "    # While true implementation \n",
      "    # test while true\n",
      "    #transfer to vacc to run?\n",
      "\n",
      "import json, gc\n",
      "\n",
      "net_path = \"/Users/mark/Desktop/wiki_v3/results/fldict.json\"\n"
     ],
     "language": "python",
     "metadata": {},
     "outputs": [],
     "prompt_number": 1
    },
    {
     "cell_type": "code",
     "collapsed": false,
     "input": [
      "with open(net_path) as f:\n",
      "    fldict = json.load(f)"
     ],
     "language": "python",
     "metadata": {},
     "outputs": [],
     "prompt_number": 2
    },
    {
     "cell_type": "code",
     "collapsed": false,
     "input": [
      "#tdict = {page: end page, clicks, cycle length}\n",
      "\n",
      "def get_fl(fldict, title):\n",
      "    \"\"\"adjusts case until title is a valid key, returns fl\"\"\"\n",
      "    #try as is\n",
      "    try:\n",
      "        fl = fldict[title]\n",
      "    except:\n",
      "    #capitalize first letter only\n",
      "        try:\n",
      "            fl = fldict[title[0].upper() + title[1:]]\n",
      "        except:\n",
      "    #try title case\n",
      "            try:\n",
      "                fl = fldict[title.title()]\n",
      "            except:\n",
      "                fl = \"\"\n",
      "    return fl\n",
      "            \n",
      "def test_traverse(fldict, start, n):\n",
      "    fl = get_fl(fldict, start)\n",
      "    for i in range(n):\n",
      "        print fl\n",
      "        if fl == \"\": break\n",
      "        fl = get_fl(fldict, fl)\n",
      "        \n",
      "def correct_cap(fldict, title):\n",
      "    \"\"\"returns properly capitalized key, blank otherwise\"\"\"\n",
      "    try:\n",
      "        fl = fldict[title]\n",
      "        return title\n",
      "    except:\n",
      "    #capitalize first letter only\n",
      "        try:\n",
      "            fl = fldict[title[0].upper() + title[1:]]\n",
      "            return title[0].upper() + title[1:]\n",
      "        except:\n",
      "    #try title case\n",
      "            try:\n",
      "                fl = fldict[title.title()]\n",
      "                return title.title()\n",
      "            except KeyError:\n",
      "                return \"\"\n",
      "                \n",
      "\n",
      "    \n",
      "        \n",
      "def traverse(fldict, start):\n",
      "    \"\"\"traverses first link network until repeated link (or dead)\n",
      "    returns tdict: {page: clicks, cycle length, end page}\"\"\"\n",
      "    gc.collect() #memory\n",
      "    links_traversed = [] #change to set?\n",
      "    fl = get_fl(fldict, start)\n",
      "    \n",
      "    while fl not in links_traversed and fl != \"\":\n",
      "        fl = correct_cap(fldict, fl)\n",
      "        links_traversed.append(fl)\n",
      "        #add +1 click\n",
      "        if fl:\n",
      "            clicks = tdict.get(fl, [0,0,\"\"])[0] + 1\n",
      "            tdict[fl] = [clicks, tdict.get(fl, [0,0,\"\"])[1], tdict.get(fl, [0,0,\"\"])[2]]\n",
      "        #next click    \n",
      "        fl = get_fl(fldict, fl)\n",
      "    #store cycle length and end page\n",
      "    end_page = fl\n",
      "    tdict[start] = [tdict.get(start, [0,0,\"\"])[0],len(links_traversed), fl]\n",
      "        \n",
      "    \n",
      "#add +1 click\n",
      "\n",
      "#store cycle length (how many clicks before termination)\n",
      "    # = len(links traversed)\n",
      "\n",
      "    \n",
      "    "
     ],
     "language": "python",
     "metadata": {},
     "outputs": [],
     "prompt_number": 3
    },
    {
     "cell_type": "code",
     "collapsed": false,
     "input": [
      "tdict = {}\n",
      "traverse(fldict, 'Saippuaprinsessa')\n"
     ],
     "language": "python",
     "metadata": {},
     "outputs": [],
     "prompt_number": 4
    },
    {
     "cell_type": "code",
     "collapsed": false,
     "input": [
      "test_traverse(fldict, 'United States', 50)"
     ],
     "language": "python",
     "metadata": {},
     "outputs": [
      {
       "output_type": "stream",
       "stream": "stdout",
       "text": [
        "federal republic\n",
        "federation\n",
        "political union\n",
        "State (polity)\n",
        "community\n",
        "Level of analysis#Meso-level\n",
        "\n"
       ]
      }
     ],
     "prompt_number": 5
    },
    {
     "cell_type": "code",
     "collapsed": false,
     "input": [],
     "language": "python",
     "metadata": {},
     "outputs": [],
     "prompt_number": 5
    },
    {
     "cell_type": "code",
     "collapsed": false,
     "input": [],
     "language": "python",
     "metadata": {},
     "outputs": [],
     "prompt_number": 5
    },
    {
     "cell_type": "code",
     "collapsed": false,
     "input": [],
     "language": "python",
     "metadata": {},
     "outputs": [],
     "prompt_number": 5
    },
    {
     "cell_type": "code",
     "collapsed": false,
     "input": [],
     "language": "python",
     "metadata": {},
     "outputs": [],
     "prompt_number": 139
    },
    {
     "cell_type": "code",
     "collapsed": false,
     "input": [
      "tdict = {}\n",
      "i = 0 \n",
      "\n",
      "for k in fldict.iterkeys():\n",
      "    i += 1\n",
      "    if i > 2: break\n",
      "    print k\n",
      "    traverse(fldict, k)\n",
      "    "
     ],
     "language": "python",
     "metadata": {},
     "outputs": [
      {
       "output_type": "stream",
       "stream": "stdout",
       "text": [
        "Pig (1998 film)\n",
        "Save the Manatee\n"
       ]
      }
     ],
     "prompt_number": 18
    },
    {
     "cell_type": "code",
     "collapsed": false,
     "input": [
      "print tdict"
     ],
     "language": "python",
     "metadata": {},
     "outputs": [
      {
       "output_type": "stream",
       "stream": "stdout",
       "text": [
        "{u'Pig (1998 film)': [0, 36, u'Awareness'], u'Save the Manatee': [0, 32, u'Awareness'], u'Knowledge': [2, 0, ''], u'Manatee conservation status': [1, 0, ''], u'Reality': [4, 0, ''], u'Language family': [1, 0, ''], u'Experiment': [2, 0, ''], u'Experimental film': [1, 0, ''], u'Animal': [1, 0, ''], u'Herbivory': [1, 0, ''], u'Mathematics': [2, 0, ''], u'Awareness': [2, 0, ''], u'Herbivore': [1, 0, ''], u'Biology': [2, 0, ''], u'Set (mathematics)': [2, 0, ''], u'Explanation': [2, 0, ''], u'Philosophy': [4, 0, ''], u'Manatee': [1, 0, ''], u'Hypothesis': [2, 0, ''], u'Quantity': [2, 0, ''], u'Hominini': [1, 0, ''], u'Modern philosophy': [2, 0, ''], u'Language': [1, 0, ''], u'Conscious': [2, 0, ''], u'Science': [2, 0, ''], u'Property (philosophy)': [2, 0, ''], u'Natural science': [2, 0, ''], u'Experience': [2, 0, ''], u'Tribe (biology)': [1, 0, ''], u'Indo-European languages': [1, 0, ''], u'Organism': [1, 0, ''], u'Fact': [2, 0, ''], u'Phi': [1, 0, ''], u'Phi phenomenon': [1, 0, ''], u'Greek language': [1, 0, ''], u'Consciousness': [2, 0, ''], u'Greek alphabet': [1, 0, ''], u'Multicellular organism': [1, 0, ''], u'Multicellular': [1, 0, ''], u'Quality (philosophy)': [2, 0, ''], u'Human': [1, 0, ''], u'Existence': [4, 0, ''], u'Film': [1, 0, '']}\n"
       ]
      }
     ],
     "prompt_number": 19
    },
    {
     "cell_type": "code",
     "collapsed": false,
     "input": [],
     "language": "python",
     "metadata": {},
     "outputs": []
    }
   ],
   "metadata": {}
  }
 ]
}