{
 "metadata": {
  "name": "",
  "signature": "sha256:5f7b3b3f0e8efbc6293e86e7e2760df1af0300f3ab4e92aa2e816727c66de507"
 },
 "nbformat": 3,
 "nbformat_minor": 0,
 "worksheets": [
  {
   "cells": [
    {
     "cell_type": "code",
     "collapsed": false,
     "input": [
      "#load all dictionaries into memory\n",
      "#load fldict into memory\n",
      "\n",
      "#loop through fldict, building master tdict\n",
      "\n",
      "import json, gc"
     ],
     "language": "python",
     "metadata": {},
     "outputs": [],
     "prompt_number": 21
    },
    {
     "cell_type": "code",
     "collapsed": false,
     "input": [
      "#load\n",
      "\n",
      "ntdict_list = []\n",
      "\n",
      "tdict0 = {'Fact':[2,3,\"hi\"], 'Experience':[2, 4,\"hello\"]}\n",
      "ntdict_list.append(tdict0)\n",
      "\n",
      "tdict1 = {'Fact':[2,3,\"hi\"], 'Experience':[2, 4,\"hello\"]}\n",
      "ntdict_list.append(tdict1)\n",
      "\n",
      "tdict2 = {'Fact':[2,3,\"hi\"], 'Experience':[2, 4,\"hello\"]}\n",
      "ntdict_list.append(tdict2)"
     ],
     "language": "python",
     "metadata": {},
     "outputs": [],
     "prompt_number": 8
    },
    {
     "cell_type": "code",
     "collapsed": false,
     "input": [
      "#tdict = {page: clicks, cycle length, end page}\n",
      "tdict = {}\n",
      "\n",
      "\n",
      "def update_tdict(page, n):\n",
      "    \"\"\"updates tdict with entry from nth tdict\"\"\"\n",
      "    ntdict = ntdict_list[n]\n",
      "    clicks, cycle_length, end_page = ntdict[page]\n",
      "    \n",
      "    #update \n",
      "    clicks = clicks + tdict.get(page,[0])[0]\n",
      "    cycle_length = cycle_length + tdict.get(page,[0,0])[1]\n",
      "    end_page = end_page + tdict.get(page, [0,0,\"\"])[2]\n",
      "    \n",
      "    #assign\n",
      "    tdict[page] = [clicks, cycle_length, end_page]\n",
      "\n",
      "    \n",
      "\n",
      "    \n",
      "    "
     ],
     "language": "python",
     "metadata": {},
     "outputs": [],
     "prompt_number": 22
    },
    {
     "cell_type": "code",
     "collapsed": false,
     "input": [
      "#loop through fldict\n",
      "i = 0\n",
      "for page in fldict.iterkeys():\n",
      "    i += 1\n",
      "    if i > 100: break\n",
      "    if i % 1000 == 0: gc.collect() #memory\n",
      "    \n",
      "    for n in range(0,112):\n",
      "        update_tdict(page,n)"
     ],
     "language": "python",
     "metadata": {},
     "outputs": [],
     "prompt_number": 18
    },
    {
     "cell_type": "code",
     "collapsed": false,
     "input": [
      "tdict"
     ],
     "language": "python",
     "metadata": {},
     "outputs": [
      {
       "metadata": {},
       "output_type": "pyout",
       "prompt_number": 19,
       "text": [
        "{'Fact': [6, 9, 'hihihi']}"
       ]
      }
     ],
     "prompt_number": 19
    },
    {
     "cell_type": "code",
     "collapsed": false,
     "input": [],
     "language": "python",
     "metadata": {},
     "outputs": []
    }
   ],
   "metadata": {}
  }
 ]
}