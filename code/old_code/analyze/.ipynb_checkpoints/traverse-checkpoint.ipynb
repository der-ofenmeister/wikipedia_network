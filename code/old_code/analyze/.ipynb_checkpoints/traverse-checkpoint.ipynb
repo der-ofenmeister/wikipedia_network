{
 "metadata": {
  "name": "",
  "signature": "sha256:680da4ec8992e2cd94246cabf1a0f6c2ff6235d6fdf9f6227ab7ef73d4570dc9"
 },
 "nbformat": 3,
 "nbformat_minor": 0,
 "worksheets": [
  {
   "cells": [
    {
     "cell_type": "code",
     "collapsed": false,
     "input": [
      "#loop through entries in dictionary\n",
      "#traverse adding +1\n",
      "#stop once already traversed or dead\n",
      "\n",
      "\n",
      "import json, gc\n",
      "import pandas as pd\n",
      "\n",
      "net_path = \"/Users/mark/Desktop/wiki_v3/results/fldict.json\""
     ],
     "language": "python",
     "metadata": {},
     "outputs": [],
     "prompt_number": 11
    },
    {
     "cell_type": "code",
     "collapsed": false,
     "input": [
      "with open(net_path) as f:\n",
      "    fldict = json.load(f)"
     ],
     "language": "python",
     "metadata": {},
     "outputs": [],
     "prompt_number": 12
    },
    {
     "cell_type": "code",
     "collapsed": false,
     "input": [
      "\n",
      "\n",
      "#tdict = {page: clicks, cycle length, end page}\n",
      "\n",
      "def get_fl(fldict, title):\n",
      "    \"\"\"adjusts case until title is a valid key, returns fl\"\"\"\n",
      "    #try as is\n",
      "    try:\n",
      "        fl = fldict[title]\n",
      "    except:\n",
      "    #capitalize first letter only\n",
      "        try:\n",
      "            fl = fldict[title[0].upper() + title[1:]]\n",
      "        except:\n",
      "    #try title case\n",
      "            try:\n",
      "                fl = fldict[title.title()]\n",
      "            except:\n",
      "                fl = \"\"\n",
      "    return fl\n",
      "            \n",
      "def test_traverse(fldict, start, n):\n",
      "    fl = get_fl(fldict, start)\n",
      "    for i in range(n):\n",
      "        print fl\n",
      "        if fl == \"\": break\n",
      "        fl = get_fl(fldict, fl)\n",
      "        \n",
      "def correct_cap(fldict, title):\n",
      "    \"\"\"returns properly capitalized key, blank otherwise\"\"\"\n",
      "    try:\n",
      "        fl = fldict[title]\n",
      "        return title\n",
      "    except:\n",
      "    #capitalize first letter only\n",
      "        try:\n",
      "            fl = fldict[title[0].upper() + title[1:]]\n",
      "            return title[0].upper() + title[1:]\n",
      "        except:\n",
      "    #try title case\n",
      "            try:\n",
      "                fl = fldict[title.title()]\n",
      "                return title.title()\n",
      "            except KeyError:\n",
      "                return \"\"\n",
      "                \n",
      "\n",
      "    \n",
      "def traverse(fldict, start):\n",
      "    \"\"\"traverses first link network until repeated link (or dead)\n",
      "    returns tdict: {page: clicks, cycle length, end page}\"\"\"\n",
      "    gc.collect() #memory\n",
      "    links_traversed = [] #change to set?\n",
      "    fl = get_fl(fldict, start)\n",
      "    i = 0 \n",
      "    while fl not in links_traversed and fl != \"\":\n",
      "        i +=1\n",
      "        if i > 10000: #limit to 10000 traverses\n",
      "            fl = \"exceeded 10000 click limit\"\n",
      "            break\n",
      "        fl = correct_cap(fldict, fl)\n",
      "        links_traversed.append(fl)\n",
      "        #add +1 click\n",
      "        clicks = tdict.get(fl, [0,0,\"\"])[0] + 1\n",
      "        tdict[fl] = [clicks, tdict.get(fl, [0,0,\"\"])[1], tdict.get(fl, [0,0,\"\"])[2]]\n",
      "        #next click    \n",
      "        fl = get_fl(fldict, fl)\n",
      "    #store cycle length and end page\n",
      "    if fl == \"\": fl = \"dead link\"\n",
      "    tdict[start] = [tdict.get(start, [0,0,\"\"])[0],len(links_traversed), fl]\n",
      "        \n",
      "\n",
      "    \n",
      "#distinguish: dead link versus "
     ],
     "language": "python",
     "metadata": {},
     "outputs": [],
     "prompt_number": 13
    },
    {
     "cell_type": "code",
     "collapsed": false,
     "input": [],
     "language": "python",
     "metadata": {},
     "outputs": [],
     "prompt_number": 13
    },
    {
     "cell_type": "code",
     "collapsed": false,
     "input": [],
     "language": "python",
     "metadata": {},
     "outputs": [],
     "prompt_number": 13
    },
    {
     "cell_type": "code",
     "collapsed": false,
     "input": [
      "tdict = {}\n",
      "i = 0\n",
      "\n",
      "for k in fldict.iterkeys():\n",
      "    i +=1\n",
      "    if i > 1000: break\n",
      "    if i % 10000 == 0: print i\n",
      "    traverse(fldict,k)"
     ],
     "language": "python",
     "metadata": {},
     "outputs": []
    },
    {
     "cell_type": "code",
     "collapsed": false,
     "input": [
      "#write tdict to json\n",
      "out_path = \"/Users/mark/Desktop/wiki_v3/results/tdict.json\"\n",
      "with open(out_path, 'w') as outfile:\n",
      "    json.dump(tdict, outfile)"
     ],
     "language": "python",
     "metadata": {},
     "outputs": []
    },
    {
     "cell_type": "code",
     "collapsed": false,
     "input": [],
     "language": "python",
     "metadata": {},
     "outputs": [],
     "prompt_number": 2
    },
    {
     "cell_type": "code",
     "collapsed": false,
     "input": [],
     "language": "python",
     "metadata": {},
     "outputs": []
    }
   ],
   "metadata": {}
  }
 ]
}