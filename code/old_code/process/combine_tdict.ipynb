{
 "metadata": {
  "name": "",
  "signature": "sha256:cd1a0b9c476a3cf703fac0c4f17502af8584b82f69691f8de76ffe017b9e5f67"
 },
 "nbformat": 3,
 "nbformat_minor": 0,
 "worksheets": [
  {
   "cells": [
    {
     "cell_type": "code",
     "collapsed": false,
     "input": [
      "#load all dictionaries into memory\n",
      "#load fldict into memory\n",
      "\n",
      "#loop through fldict, building master tdict\n",
      "\n",
      "import json, gc"
     ],
     "language": "python",
     "metadata": {},
     "outputs": [],
     "prompt_number": 4
    },
    {
     "cell_type": "code",
     "collapsed": false,
     "input": [
      "\n",
      "#load\n",
      "\n",
      "#fldict\n",
      "net_path = \"/users/m/s/msibrahi/v3/results/flnetwork/fldict.json\"\n",
      "net_path = \"/Users/mark/Desktop/wiki_v3/results/fldict.json\"\n",
      "with open(net_path) as f:\n",
      "    fldict = json.load(f)\n"
     ],
     "language": "python",
     "metadata": {},
     "outputs": [],
     "prompt_number": 5
    },
    {
     "cell_type": "code",
     "collapsed": false,
     "input": [
      "#load ntdict\n",
      "ntdict_path = \"/users/m/s/msibrahi/v3/results/tdict/\"\n",
      "ntdict_path = \"/Users/mark/Desktop/wiki_v3/results/tdict/\"\n",
      "ntdict_names = [\"tdict\"+str(i)+\".json\" for i in range(0, 112)]\n",
      "ntdict_list = []\n",
      "\n",
      "for ntdict_name in ntdict_names:\n",
      "    with open(ntdict_path + ntdict_name) as f:\n",
      "        ntdict_list.append(json.load(f))"
     ],
     "language": "python",
     "metadata": {},
     "outputs": [],
     "prompt_number": 8
    },
    {
     "cell_type": "code",
     "collapsed": false,
     "input": [
      "\n",
      "\n",
      "#tdict = {page: clicks, cycle length, end page}\n",
      "tdict = {}\n",
      "\n",
      "\n",
      "def update_tdict(page, n):\n",
      "    \"\"\"updates tdict with entry from nth tdict\"\"\"\n",
      "    ntdict = ntdict_list[n]\n",
      "    clicks, cycle_length, end_page = ntdict.get(page,[0,0,\"\"])\n",
      "    \n",
      "    #update \n",
      "    clicks = clicks + tdict.get(page,[0])[0]\n",
      "    cycle_length = cycle_length + tdict.get(page,[0,0])[1]\n",
      "    end_page = end_page + tdict.get(page, [0,0,\"\"])[2]\n",
      "    \n",
      "    #assign\n",
      "    tdict[page] = [clicks, cycle_length, end_page]\n",
      "\n",
      "\n",
      "#loop through fldict\n",
      "i = 0\n",
      "for page in fldict.iterkeys():\n",
      "    i += 1\n",
      "    #if i > 100: break\n",
      "    if i % 1000 == 0: gc.collect() #memory\n",
      "    \n",
      "    for n in range(0,112):\n",
      "        update_tdict(page,n)\n"
     ],
     "language": "python",
     "metadata": {},
     "outputs": [
      {
       "ename": "KeyboardInterrupt",
       "evalue": "",
       "output_type": "pyerr",
       "traceback": [
        "\u001b[0;31m---------------------------------------------------------------------------\u001b[0m\n\u001b[0;31mKeyboardInterrupt\u001b[0m                         Traceback (most recent call last)",
        "\u001b[0;32m<ipython-input-13-b460d5cdaef0>\u001b[0m in \u001b[0;36m<module>\u001b[0;34m()\u001b[0m\n\u001b[1;32m     24\u001b[0m     \u001b[0mi\u001b[0m \u001b[0;34m+=\u001b[0m \u001b[0;36m1\u001b[0m\u001b[0;34m\u001b[0m\u001b[0m\n\u001b[1;32m     25\u001b[0m     \u001b[0;31m#if i > 100: break\u001b[0m\u001b[0;34m\u001b[0m\u001b[0;34m\u001b[0m\u001b[0m\n\u001b[0;32m---> 26\u001b[0;31m     \u001b[0;32mif\u001b[0m \u001b[0mi\u001b[0m \u001b[0;34m%\u001b[0m \u001b[0;36m1000\u001b[0m \u001b[0;34m==\u001b[0m \u001b[0;36m0\u001b[0m\u001b[0;34m:\u001b[0m \u001b[0mgc\u001b[0m\u001b[0;34m.\u001b[0m\u001b[0mcollect\u001b[0m\u001b[0;34m(\u001b[0m\u001b[0;34m)\u001b[0m \u001b[0;31m#memory\u001b[0m\u001b[0;34m\u001b[0m\u001b[0m\n\u001b[0m\u001b[1;32m     27\u001b[0m \u001b[0;34m\u001b[0m\u001b[0m\n\u001b[1;32m     28\u001b[0m     \u001b[0;32mfor\u001b[0m \u001b[0mn\u001b[0m \u001b[0;32min\u001b[0m \u001b[0mrange\u001b[0m\u001b[0;34m(\u001b[0m\u001b[0;36m0\u001b[0m\u001b[0;34m,\u001b[0m\u001b[0;36m112\u001b[0m\u001b[0;34m)\u001b[0m\u001b[0;34m:\u001b[0m\u001b[0;34m\u001b[0m\u001b[0m\n",
        "\u001b[0;31mKeyboardInterrupt\u001b[0m: "
       ]
      }
     ],
     "prompt_number": 13
    },
    {
     "cell_type": "code",
     "collapsed": false,
     "input": [],
     "language": "python",
     "metadata": {},
     "outputs": [],
     "prompt_number": 11
    },
    {
     "cell_type": "code",
     "collapsed": false,
     "input": [
      "\n",
      "#write tdict\n",
      "with open(ntdict_path + \"tdict.json\", 'w') as outfile:\n",
      "    json.dump(tdict, outfile)"
     ],
     "language": "python",
     "metadata": {},
     "outputs": [],
     "prompt_number": 12
    },
    {
     "cell_type": "code",
     "collapsed": false,
     "input": [],
     "language": "python",
     "metadata": {},
     "outputs": [],
     "prompt_number": 10
    },
    {
     "cell_type": "code",
     "collapsed": false,
     "input": [],
     "language": "python",
     "metadata": {},
     "outputs": []
    }
   ],
   "metadata": {}
  }
 ]
}