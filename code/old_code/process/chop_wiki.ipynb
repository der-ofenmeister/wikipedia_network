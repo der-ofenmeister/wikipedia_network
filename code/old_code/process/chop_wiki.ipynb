{
 "metadata": {
  "name": "",
  "signature": "sha256:05851b7263011cfd6a71dcbd935a2053dda75305cba64130a0fadd8ce8ca78ba"
 },
 "nbformat": 3,
 "nbformat_minor": 0,
 "worksheets": [
  {
   "cells": [
    {
     "cell_type": "code",
     "collapsed": false,
     "input": [
      "#create smallaa.xml with proper pages tags\n",
      "\n",
      "import string, os"
     ],
     "language": "python",
     "metadata": {},
     "outputs": [],
     "prompt_number": 20
    },
    {
     "cell_type": "code",
     "collapsed": false,
     "input": [],
     "language": "python",
     "metadata": {},
     "outputs": [],
     "prompt_number": 20
    },
    {
     "cell_type": "code",
     "collapsed": false,
     "input": [
      "#construct list of 100 files\n",
      "letter_range = [\"a\", \"b\", \"c\", \"d\"]\n",
      "file_list = [a + b for a in [\"small\" + a for a in letter_range] for b in list(string.ascii_lowercase)]\n",
      "extra_files = [\"small\" + a for a in [\"ea\", \"eb\", \"ec\", \"ed\", \"ef\", \"eg\", \"eh\"]]\n",
      "\n",
      "full_file_list = file_list + extra_files\n",
      "\n",
      "\n",
      "#data location\n",
      "data_path = \"/Users/mark/Desktop/wiki_split/\"\n",
      "data_path = \"/Volumes/mark external/wikipedia/clean_small/\"\n",
      "\n",
      "for file_num in range(len(full_file_list)):\n",
      "    #get lines\n",
      "    xml_file = data_path + full_file_list[file_num+1]\n",
      "    cut_off = \"\"\n",
      "    with open(xml_file, 'r') as f:\n",
      "        for line in f:\n",
      "            cut_off = cut_off + line\n",
      "            if \"</page>\" in line:\n",
      "                break\n",
      "\n",
      "    #append lines\n",
      "    xml_write_file = data_path + full_file_list[file_num]\n",
      "    with open(xml_write_file, 'a') as f:\n",
      "        f.write(cut_off)\n",
      "    \n",
      "    #rename file\n",
      "    os.rename(xml_write_file, xml_write_file+\".xml\")"
     ],
     "language": "python",
     "metadata": {},
     "outputs": [
      {
       "ename": "IndexError",
       "evalue": "list index out of range",
       "output_type": "pyerr",
       "traceback": [
        "\u001b[0;31m---------------------------------------------------------------------------\u001b[0m\n\u001b[0;31mIndexError\u001b[0m                                Traceback (most recent call last)",
        "\u001b[0;32m<ipython-input-21-aa0ddd807b86>\u001b[0m in \u001b[0;36m<module>\u001b[0;34m()\u001b[0m\n\u001b[1;32m     13\u001b[0m \u001b[0;32mfor\u001b[0m \u001b[0mfile_num\u001b[0m \u001b[0;32min\u001b[0m \u001b[0mrange\u001b[0m\u001b[0;34m(\u001b[0m\u001b[0mlen\u001b[0m\u001b[0;34m(\u001b[0m\u001b[0mfull_file_list\u001b[0m\u001b[0;34m)\u001b[0m\u001b[0;34m)\u001b[0m\u001b[0;34m:\u001b[0m\u001b[0;34m\u001b[0m\u001b[0m\n\u001b[1;32m     14\u001b[0m     \u001b[0;31m#get lines\u001b[0m\u001b[0;34m\u001b[0m\u001b[0;34m\u001b[0m\u001b[0m\n\u001b[0;32m---> 15\u001b[0;31m     \u001b[0mxml_file\u001b[0m \u001b[0;34m=\u001b[0m \u001b[0mdata_path\u001b[0m \u001b[0;34m+\u001b[0m \u001b[0mfull_file_list\u001b[0m\u001b[0;34m[\u001b[0m\u001b[0mfile_num\u001b[0m\u001b[0;34m+\u001b[0m\u001b[0;36m1\u001b[0m\u001b[0;34m]\u001b[0m\u001b[0;34m\u001b[0m\u001b[0m\n\u001b[0m\u001b[1;32m     16\u001b[0m     \u001b[0mcut_off\u001b[0m \u001b[0;34m=\u001b[0m \u001b[0;34m\"\"\u001b[0m\u001b[0;34m\u001b[0m\u001b[0m\n\u001b[1;32m     17\u001b[0m     \u001b[0;32mwith\u001b[0m \u001b[0mopen\u001b[0m\u001b[0;34m(\u001b[0m\u001b[0mxml_file\u001b[0m\u001b[0;34m,\u001b[0m \u001b[0;34m'r'\u001b[0m\u001b[0;34m)\u001b[0m \u001b[0;32mas\u001b[0m \u001b[0mf\u001b[0m\u001b[0;34m:\u001b[0m\u001b[0;34m\u001b[0m\u001b[0m\n",
        "\u001b[0;31mIndexError\u001b[0m: list index out of range"
       ]
      }
     ],
     "prompt_number": 21
    },
    {
     "cell_type": "code",
     "collapsed": false,
     "input": [
      "\n"
     ],
     "language": "python",
     "metadata": {},
     "outputs": [],
     "prompt_number": 14
    },
    {
     "cell_type": "code",
     "collapsed": false,
     "input": [],
     "language": "python",
     "metadata": {},
     "outputs": [],
     "prompt_number": 14
    },
    {
     "cell_type": "code",
     "collapsed": false,
     "input": [],
     "language": "python",
     "metadata": {},
     "outputs": [],
     "prompt_number": 14
    },
    {
     "cell_type": "code",
     "collapsed": false,
     "input": [],
     "language": "python",
     "metadata": {},
     "outputs": []
    }
   ],
   "metadata": {}
  }
 ]
}