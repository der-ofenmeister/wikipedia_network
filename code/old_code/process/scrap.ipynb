{
 "metadata": {
  "name": "",
  "signature": "sha256:ba8bbd5b18a03e2115b80f677beb80c92976480a56d223b18605cd538c71e5f0"
 },
 "nbformat": 3,
 "nbformat_minor": 0,
 "worksheets": [
  {
   "cells": [
    {
     "cell_type": "code",
     "collapsed": false,
     "input": [
      "import urllib2, first_link_txt, gc, first_link"
     ],
     "language": "python",
     "metadata": {},
     "outputs": [],
     "prompt_number": 1
    },
    {
     "cell_type": "code",
     "collapsed": false,
     "input": [
      "page_name = \"Fact\"\n",
      "article_url = \"http://en.wikipedia.org/wiki/Special:Export/\" + page_name\n",
      "page_xml = urllib2.urlopen(article_url).read() #page xml"
     ],
     "language": "python",
     "metadata": {},
     "outputs": [],
     "prompt_number": 2
    },
    {
     "cell_type": "code",
     "collapsed": false,
     "input": [],
     "language": "python",
     "metadata": {},
     "outputs": [],
     "prompt_number": 2
    },
    {
     "cell_type": "code",
     "collapsed": false,
     "input": [
      "#xml get article"
     ],
     "language": "python",
     "metadata": {},
     "outputs": [],
     "prompt_number": 8
    },
    {
     "cell_type": "code",
     "collapsed": false,
     "input": [
      "#try navigating tree of original file\n",
      "import xml.etree.ElementTree as ET\n",
      "\n",
      "data_path = \"/Volumes/mark external/wikipedia/enwiki_20141106.xml\"\n",
      "data_path = \"/Users/mark/Desktop/wiki_v3/clean_small.xml\"\n",
      "tree = ET.iterparse(data_path)\n"
     ],
     "language": "python",
     "metadata": {},
     "outputs": [],
     "prompt_number": 10
    },
    {
     "cell_type": "code",
     "collapsed": false,
     "input": [
      "i = 0\n",
      "for action, elem in tree:\n",
      "    i += 1\n",
      "    if i > 10000: break\n",
      "    if i % 100 == 0: gc.collect()\n",
      "    if elem.tag[-5:] == \"title\": \n",
      "        print elem.text,\"\\n\", first_link_txt.check_link(elem.text)\n",
      "        if not first_link_txt.check_link(elem.text):\n",
      "            continue\n",
      "    if elem.tag[-4:] == \"text\": print \"first link: \", first_link_txt.run_parser(elem.text)\n",
      "    elem.clear()\n",
      "    \n",
      "    "
     ],
     "language": "python",
     "metadata": {},
     "outputs": [],
     "prompt_number": 2
    },
    {
     "cell_type": "code",
     "collapsed": false,
     "input": [],
     "language": "python",
     "metadata": {},
     "outputs": []
    }
   ],
   "metadata": {}
  }
 ]
}