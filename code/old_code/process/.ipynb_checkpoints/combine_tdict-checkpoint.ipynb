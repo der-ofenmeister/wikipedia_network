{
 "metadata": {
  "name": "",
  "signature": "sha256:7488480694e337f5f34a61e61b0d886763a989651653854a3b93cea40a879dc5"
 },
 "nbformat": 3,
 "nbformat_minor": 0,
 "worksheets": [
  {
   "cells": [
    {
     "cell_type": "code",
     "collapsed": false,
     "input": [
      "\n",
      "\n",
      "#load all dictionaries into memory\n",
      "#load fldict into memory\n",
      "\n",
      "#loop through fldict, building master tdict\n",
      "\n",
      "import json, gc\n",
      "\n"
     ],
     "language": "python",
     "metadata": {},
     "outputs": [],
     "prompt_number": 2
    },
    {
     "cell_type": "code",
     "collapsed": false,
     "input": [
      "\n",
      "#load\n",
      "\n",
      "#fldict\n",
      "net_path = \"/users/m/s/msibrahi/v3/results/flnetwork/fldict.json\"\n",
      "net_path = \"/Users/mark/Desktop/wiki_v3/results/fldict.json\"\n",
      "with open(net_path) as f:\n",
      "    fldict = json.load(f)\n",
      "    \n"
     ],
     "language": "python",
     "metadata": {},
     "outputs": [
      {
       "ename": "SyntaxError",
       "evalue": "EOL while scanning string literal (<ipython-input-3-0f00eeb9572c>, line 6)",
       "output_type": "pyerr",
       "traceback": [
        "\u001b[0;36m  File \u001b[0;32m\"<ipython-input-3-0f00eeb9572c>\"\u001b[0;36m, line \u001b[0;32m6\u001b[0m\n\u001b[0;31m    net_path = \"\u001b[0m\n\u001b[0m               ^\u001b[0m\n\u001b[0;31mSyntaxError\u001b[0m\u001b[0;31m:\u001b[0m EOL while scanning string literal\n"
       ]
      }
     ],
     "prompt_number": 3
    },
    {
     "cell_type": "code",
     "collapsed": false,
     "input": [
      "\n",
      "    \n",
      "#load ntdict\n",
      "ntdict_path = \"/users/m/s/msibrahi/v3/results/tdict/\"\n",
      "ntdict_names = [\"tdict\"+str(i)+\".json\" for i in range(0, 112)]\n",
      "ntdict_list = []\n",
      "\n",
      "for ntdict_name in ntdict_names:\n",
      "    with open(ntdict_path + ntdict_name) as f:\n",
      "        ntdict_list.append(json.load(f))\n",
      "\n",
      "\n",
      "\n",
      "\n",
      "\n",
      "\n",
      "\n",
      "\n"
     ],
     "language": "python",
     "metadata": {},
     "outputs": [],
     "prompt_number": 7
    },
    {
     "cell_type": "code",
     "collapsed": false,
     "input": [
      "\n",
      "\n",
      "#tdict = {page: clicks, cycle length, end page}\n",
      "tdict = {}\n",
      "\n",
      "\n",
      "def update_tdict(page, n):\n",
      "    \"\"\"updates tdict with entry from nth tdict\"\"\"\n",
      "    ntdict = ntdict_list[n]\n",
      "    clicks, cycle_length, end_page = ntdict.get(page,[0,0,\"\"])\n",
      "    \n",
      "    #update \n",
      "    clicks = clicks + tdict.get(page,[0])[0]\n",
      "    cycle_length = cycle_length + tdict.get(page,[0,0])[1]\n",
      "    end_page = end_page + tdict.get(page, [0,0,\"\"])[2]\n",
      "    \n",
      "    #assign\n",
      "    tdict[page] = [clicks, cycle_length, end_page]\n",
      "\n",
      "\n",
      "#loop through fldict\n",
      "i = 0\n",
      "for page in fldict.iterkeys():\n",
      "    i += 1\n",
      "    if i > 100: break\n",
      "    if i % 1000 == 0: gc.collect() #memory\n",
      "    \n",
      "    for n in range(0,112):\n",
      "        update_tdict(page,n)\n",
      "\n"
     ],
     "language": "python",
     "metadata": {},
     "outputs": [],
     "prompt_number": 9
    },
    {
     "cell_type": "code",
     "collapsed": false,
     "input": [
      "\n",
      "#write tdict\n",
      "with open(ntdict_path + \"tdict.json\", 'w') as outfile:\n",
      "    json.dump(tdict, outfile)"
     ],
     "language": "python",
     "metadata": {},
     "outputs": []
    }
   ],
   "metadata": {}
  }
 ]
}