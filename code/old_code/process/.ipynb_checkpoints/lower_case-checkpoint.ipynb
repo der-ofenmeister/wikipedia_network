{
 "metadata": {
  "name": "",
  "signature": "sha256:b4bc6abba37803e5498c63df0074513cf87a2f73d7fe834b832c49ba04580acf"
 },
 "nbformat": 3,
 "nbformat_minor": 0,
 "worksheets": [
  {
   "cells": [
    {
     "cell_type": "code",
     "collapsed": false,
     "input": [
      "import json, gc\n"
     ],
     "language": "python",
     "metadata": {},
     "outputs": [],
     "prompt_number": 2
    },
    {
     "cell_type": "code",
     "collapsed": false,
     "input": [
      "data_path = \"/Users/mark/Dropbox/Math/Complex_Systems/project/v3/results/fldict.json\"\n",
      "\n",
      "with open(data_path) as f:\n",
      "    data = json.load(f)\n"
     ],
     "language": "python",
     "metadata": {},
     "outputs": [],
     "prompt_number": 3
    },
    {
     "cell_type": "code",
     "collapsed": false,
     "input": [
      "def write_to_json(dict):\n",
      "    ndata_path = \"/Users/mark/Dropbox/Math/Complex_Systems/project/v3/results/cfldict.json\"\n",
      "    with open(ndata_path, 'a') as f:\n",
      "        json.dump(cfldict, f)\n",
      "\n",
      "cfldict = {}\n",
      "i = 0\n",
      "            \n",
      "for k, v in data.iteritems():\n",
      "  i += 1\n",
      "  if i % 500 == 0: \n",
      "      write_to_json(cfldict)\n",
      "      cfldict = {}\n",
      "      gc.collect()\n",
      "  #if i > 1500: break\n",
      "  title = k.lower()\n",
      "  cfldict[title] = v\n"
     ],
     "language": "python",
     "metadata": {},
     "outputs": [],
     "prompt_number": 7
    },
    {
     "cell_type": "code",
     "collapsed": false,
     "input": [],
     "language": "python",
     "metadata": {},
     "outputs": []
    }
   ],
   "metadata": {}
  }
 ]
}