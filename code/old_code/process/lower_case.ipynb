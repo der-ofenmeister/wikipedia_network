{
 "metadata": {
  "name": "",
  "signature": "sha256:e0706c8b6427dbaea62d40b48778ec43f4bbf0c7fd41c4f8cac94f65bde76a05"
 },
 "nbformat": 3,
 "nbformat_minor": 0,
 "worksheets": [
  {
   "cells": [
    {
     "cell_type": "code",
     "collapsed": false,
     "input": [
      "import json, gc\n"
     ],
     "language": "python",
     "metadata": {},
     "outputs": [],
     "prompt_number": 1
    },
    {
     "cell_type": "code",
     "collapsed": false,
     "input": [
      "data_path = \"/Users/mark/Desktop/wiki_v3/results/fldict.json\"\n",
      "\n",
      "with open(data_path) as f:\n",
      "    data = json.load(f)\n"
     ],
     "language": "python",
     "metadata": {},
     "outputs": [],
     "prompt_number": 2
    },
    {
     "cell_type": "code",
     "collapsed": false,
     "input": [
      "def write_to_json(cfldict):\n",
      "    ndata_path = \"/Users/mark/Desktop/wiki_v3/results/cfldict2.json\"\n",
      "    with open(ndata_path, 'w') as f:\n",
      "        json.dump(cfldict, f)\n",
      "\n",
      "cfldict = {}\n",
      "i = 0\n",
      "            \n",
      "for k, v in data.iteritems():\n",
      "  i += 1\n",
      "  if i % 500 == 0: \n",
      "      gc.collect()\n",
      "  #if i > 1500: break\n",
      "  title = k.lower()\n",
      "  cfldict[title] = v\n",
      "\n",
      "write_to_json(cfldict)"
     ],
     "language": "python",
     "metadata": {},
     "outputs": [],
     "prompt_number": 5
    },
    {
     "cell_type": "code",
     "collapsed": false,
     "input": [
      "ndata_path = \"/Users/mark/Desktop/wiki_v3/results/cfldict2.json\"\n",
      "with open(ndata_path) as f:\n",
      "    ndata = json.load(f)"
     ],
     "language": "python",
     "metadata": {},
     "outputs": [],
     "prompt_number": 6
    },
    {
     "cell_type": "code",
     "collapsed": false,
     "input": [
      "ndata['fact']"
     ],
     "language": "python",
     "metadata": {},
     "outputs": [
      {
       "metadata": {},
       "output_type": "pyout",
       "prompt_number": 29,
       "text": [
        "u'web ontology language'"
       ]
      }
     ],
     "prompt_number": 29
    },
    {
     "cell_type": "code",
     "collapsed": false,
     "input": [
      "data['Knowledge']"
     ],
     "language": "python",
     "metadata": {},
     "outputs": [
      {
       "metadata": {},
       "output_type": "pyout",
       "prompt_number": 23,
       "text": [
        "u'fact'"
       ]
      }
     ],
     "prompt_number": 23
    },
    {
     "cell_type": "code",
     "collapsed": false,
     "input": [
      "data['United States']"
     ],
     "language": "python",
     "metadata": {},
     "outputs": [
      {
       "metadata": {},
       "output_type": "pyout",
       "prompt_number": 30,
       "text": [
        "u'federal republic'"
       ]
      }
     ],
     "prompt_number": 30
    },
    {
     "cell_type": "code",
     "collapsed": false,
     "input": [],
     "language": "python",
     "metadata": {},
     "outputs": [],
     "prompt_number": 21
    },
    {
     "cell_type": "code",
     "collapsed": false,
     "input": [],
     "language": "python",
     "metadata": {},
     "outputs": []
    }
   ],
   "metadata": {}
  }
 ]
}