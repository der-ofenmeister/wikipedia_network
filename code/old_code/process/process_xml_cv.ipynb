{
 "metadata": {
  "name": "",
  "signature": "sha256:da4e1430ca4f4a201c86595c71097406044d5d0e67e220dccd5d972163c921f3"
 },
 "nbformat": 3,
 "nbformat_minor": 0,
 "worksheets": [
  {
   "cells": [
    {
     "cell_type": "code",
     "collapsed": false,
     "input": [
      "import first_link_txt, gc, re, json\n",
      "data_path = \"/Users/mark/Desktop/wiki_v3/smallab.xml\"\n",
      "out_path = \"/Users/mark/Desktop/test.json\""
     ],
     "language": "python",
     "metadata": {},
     "outputs": [],
     "prompt_number": 37
    },
    {
     "cell_type": "code",
     "collapsed": false,
     "input": [
      "def get_title(line):\n",
      "    \"\"\"return title after checking\"\"\"\n",
      "    #get title\n",
      "    try:\n",
      "        title = re.findall(r'<title>(.*?)</title>', line)[0]\n",
      "        title = title.lower()\n",
      "    except:\n",
      "        title = \"\"\n",
      "        return title\n",
      "\n",
      "    #validate title\n",
      "    if not first_link_txt.check_link(title):\n",
      "        title = \"\"\n",
      "    return title\n",
      "def get_fl(article):\n",
      "    \"\"\"return the first link after validating\"\"\"\n",
      "    try:\n",
      "        fl = first_link_txt.run_parser(article)\n",
      "    except:\n",
      "        fl = \"\"\n",
      "    return fl\n",
      "\n",
      "def process_xml(data_path):\n",
      "    \"\"\"goes through each page in xml\n",
      "    returns dictionary: title -> first link\"\"\"\n",
      "    #initialize vars\n",
      "    fldict = {}\n",
      "    p = 0\n",
      "    article = \"\"\n",
      "    title = \"\"\n",
      "    fl = \"\"\n",
      "    grab_text = False\n",
      "    \n",
      "    with open(data_path, 'r') as f:\n",
      "        for line in f:\n",
      "            if \"</page>\" in line:\n",
      "                if p % 500 == 0: gc.collect()\n",
      "                #count \n",
      "                p += 1\n",
      "                if p > 10000: break\n",
      "                \n",
      "                #write\n",
      "                fl = get_fl(article)\n",
      "                if title and fl:\n",
      "                    fldict[title] = fl\n",
      "                    \n",
      "                #reset\n",
      "                title = \"\"\n",
      "                article = \"\"\n",
      "                fl = \"\"\n",
      "                \n",
      "            if \"<title>\" in line:\n",
      "                title = get_title(line)\n",
      "            \n",
      "            if \"<text xml:\" in line and title:\n",
      "                grab_text = True\n",
      "            \n",
      "            if \"</text>\" in line:\n",
      "                grab_text = False\n",
      "            \n",
      "            if grab_text:\n",
      "                article = article + line\n",
      "    return fldict\n",
      "\n",
      "def store_json(fldict, out_path):\n",
      "    \"\"\"stores fldict as json file\"\"\"\n",
      "    with open(out_path, 'w') as outfile:\n",
      "        json.dump(fldict, outfile)\n",
      "\n",
      "def run_process(data_path, out_path):\n",
      "    \"\"\"process xml and stores result in json\"\"\"\n",
      "    fldict = process_xml(data_path)\n",
      "    store_json(fldict, out_path)\n",
      "#to load json\n",
      "#with open(out_path, 'r') as jdict:\n",
      "#    fldict = json.load(jdict)"
     ],
     "language": "python",
     "metadata": {},
     "outputs": [],
     "prompt_number": 45
    },
    {
     "cell_type": "code",
     "collapsed": false,
     "input": [
      "%%timeit\n",
      "run_process(data_path, out_path)"
     ],
     "language": "python",
     "metadata": {},
     "outputs": [
      {
       "output_type": "stream",
       "stream": "stdout",
       "text": [
        "1 loops, best of 3: 6min 10s per loop\n"
       ]
      }
     ],
     "prompt_number": 46
    },
    {
     "cell_type": "code",
     "collapsed": false,
     "input": [],
     "language": "python",
     "metadata": {},
     "outputs": []
    }
   ],
   "metadata": {}
  }
 ]
}