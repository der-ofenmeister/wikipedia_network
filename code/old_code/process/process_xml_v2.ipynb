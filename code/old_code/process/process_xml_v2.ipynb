{
 "metadata": {
  "name": "",
  "signature": "sha256:6caa7122551795f8a9ee59705c236bc672446f5f0fe600f981a26474b239d420"
 },
 "nbformat": 3,
 "nbformat_minor": 0,
 "worksheets": [
  {
   "cells": [
    {
     "cell_type": "code",
     "collapsed": false,
     "input": [
      "import xml.etree.ElementTree as ET\n",
      "import first_link_txt, gc, json"
     ],
     "language": "python",
     "metadata": {},
     "outputs": [],
     "prompt_number": 37
    },
    {
     "cell_type": "code",
     "collapsed": false,
     "input": [
      "\n",
      "\n",
      "def process_xml(tree, fldict):\n",
      "    \"\"\"goes through each page in xml\n",
      "    updates title -> first link in fldict\"\"\"\n",
      "    \n",
      "    #loop through xml tags\n",
      "    title = \"\"\n",
      "    fl = \"\"\n",
      "    p = 0 #page count\n",
      "    \n",
      "    for action, elem in tree:            \n",
      "\n",
      "        if p % 100 == 0: gc.collect() #free memory\n",
      "            \n",
      "        #reset title, fl at every page tag\n",
      "        if elem.tag[-4:] == \"/page\":\n",
      "            #write to fldict\n",
      "            if title and fl:\n",
      "                fldict[title] = fl\n",
      "                print p\n",
      "                print title, \"->\", fl\n",
      "            #reset\n",
      "            title = \"\"\n",
      "            fl = \"\"\n",
      "            \n",
      "            #page count\n",
      "            p += 1\n",
      "            if p > 100: break\n",
      "                \n",
      "\n",
      "        \n",
      "        #get title\n",
      "        try:\n",
      "            if elem.tag[-5:] == \"title\":\n",
      "                if first_link_txt.check_link(elem.text):\n",
      "                    #check article\n",
      "                    try:\n",
      "                        title = elem.text\n",
      "                    except:\n",
      "                        title = \"\"\n",
      "        except:\n",
      "            print \"title error\"\n",
      "            \n",
      "        #get first link\n",
      "        if elem.tag[-4:] == \"text\":\n",
      "            try:\n",
      "                fl = first_link_txt.run_parser(elem.text)\n",
      "            except:\n",
      "                fl = \"\"\n",
      "    \n",
      "    \n",
      "        \n",
      "        "
     ],
     "language": "python",
     "metadata": {},
     "outputs": [],
     "prompt_number": 38
    },
    {
     "cell_type": "code",
     "collapsed": false,
     "input": [
      "fldict = {}\n",
      "process_xml(tree, fldict)"
     ],
     "language": "python",
     "metadata": {},
     "outputs": []
    },
    {
     "cell_type": "code",
     "collapsed": false,
     "input": [
      "#connect to data\n",
      "#data_path = \"/Volumes/mark external/wikipedia/enwiki_20141106.xml\"\n",
      "#data_path = \"/Volumes/mark external/wikipedia/clean_small/smallaf.xml\"\n",
      "data_path = \"/Users/mark/Desktop/wiki_v3/smallag.xml\"\n",
      "\n",
      "#create xml tree for processing\n",
      "parser = ET.XMLParser()\n",
      "tree = ET.iterparse(data_path)"
     ],
     "language": "python",
     "metadata": {},
     "outputs": [],
     "prompt_number": 35
    },
    {
     "cell_type": "code",
     "collapsed": false,
     "input": [
      "    "
     ],
     "language": "python",
     "metadata": {},
     "outputs": [],
     "prompt_number": 27
    },
    {
     "cell_type": "code",
     "collapsed": false,
     "input": [],
     "language": "python",
     "metadata": {},
     "outputs": []
    }
   ],
   "metadata": {}
  }
 ]
}