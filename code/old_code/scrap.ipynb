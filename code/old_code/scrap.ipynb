{
 "metadata": {
  "name": "",
  "signature": "sha256:4ffa21d894d922cc43118c5498ec629a13a8efaa11a500409a9845b7da86b205"
 },
 "nbformat": 3,
 "nbformat_minor": 0,
 "worksheets": [
  {
   "cells": [
    {
     "cell_type": "code",
     "collapsed": false,
     "input": [
      "import pandas as pd\n",
      "import json\n",
      "\n",
      "net_path = \"/Users/mark/Desktop/wiki_v3/results/fldict.json\""
     ],
     "language": "python",
     "metadata": {},
     "outputs": [],
     "prompt_number": 1
    },
    {
     "cell_type": "code",
     "collapsed": false,
     "input": [
      "with open(net_path) as f:\n",
      "    flinks = json.load(f)"
     ],
     "language": "python",
     "metadata": {},
     "outputs": [],
     "prompt_number": 2
    },
    {
     "cell_type": "code",
     "collapsed": false,
     "input": [],
     "language": "python",
     "metadata": {},
     "outputs": [],
     "prompt_number": 17
    },
    {
     "cell_type": "code",
     "collapsed": false,
     "input": [
      "flinks['Train']"
     ],
     "language": "python",
     "metadata": {},
     "outputs": [
      {
       "metadata": {},
       "output_type": "pyout",
       "prompt_number": 6,
       "text": [
        "u'rail transport'"
       ]
      }
     ],
     "prompt_number": 6
    },
    {
     "cell_type": "code",
     "collapsed": false,
     "input": [
      "flinks['2012 IIHF Challenge Cup of Asia']"
     ],
     "language": "python",
     "metadata": {},
     "outputs": [
      {
       "metadata": {},
       "output_type": "pyout",
       "prompt_number": 9,
       "text": [
        "u'iihf challenge cup of asia'"
       ]
      }
     ],
     "prompt_number": 9
    },
    {
     "cell_type": "code",
     "collapsed": false,
     "input": [
      "flinks['Take Five']"
     ],
     "language": "python",
     "metadata": {},
     "outputs": [
      {
       "metadata": {},
       "output_type": "pyout",
       "prompt_number": 11,
       "text": [
        "u'paul desmond'"
       ]
      }
     ],
     "prompt_number": 11
    },
    {
     "cell_type": "code",
     "collapsed": false,
     "input": [
      "flinks['Paul Desmond']"
     ],
     "language": "python",
     "metadata": {},
     "outputs": [
      {
       "metadata": {},
       "output_type": "pyout",
       "prompt_number": 12,
       "text": [
        "u'jazz'"
       ]
      }
     ],
     "prompt_number": 12
    },
    {
     "cell_type": "code",
     "collapsed": false,
     "input": [
      "flinks['Jazz']"
     ],
     "language": "python",
     "metadata": {},
     "outputs": [
      {
       "metadata": {},
       "output_type": "pyout",
       "prompt_number": 15,
       "text": [
        "u'music genre'"
       ]
      }
     ],
     "prompt_number": 15
    },
    {
     "cell_type": "code",
     "collapsed": false,
     "input": [
      "flinks[flinks['Paul Desmond'].title()]"
     ],
     "language": "python",
     "metadata": {},
     "outputs": [
      {
       "metadata": {},
       "output_type": "pyout",
       "prompt_number": 16,
       "text": [
        "u'music genre'"
       ]
      }
     ],
     "prompt_number": 16
    },
    {
     "cell_type": "code",
     "collapsed": false,
     "input": [
      "flinks['Manin (surname)']"
     ],
     "language": "python",
     "metadata": {},
     "outputs": [
      {
       "metadata": {},
       "output_type": "pyout",
       "prompt_number": 18,
       "text": [
        "u'daniele manin'"
       ]
      }
     ],
     "prompt_number": 18
    },
    {
     "cell_type": "code",
     "collapsed": false,
     "input": [],
     "language": "python",
     "metadata": {},
     "outputs": [],
     "prompt_number": 19
    },
    {
     "cell_type": "code",
     "collapsed": false,
     "input": [],
     "language": "python",
     "metadata": {},
     "outputs": []
    },
    {
     "cell_type": "code",
     "collapsed": false,
     "input": [],
     "language": "python",
     "metadata": {},
     "outputs": []
    },
    {
     "cell_type": "code",
     "collapsed": false,
     "input": [],
     "language": "python",
     "metadata": {},
     "outputs": []
    },
    {
     "cell_type": "code",
     "collapsed": false,
     "input": [],
     "language": "python",
     "metadata": {},
     "outputs": [],
     "prompt_number": 18
    },
    {
     "cell_type": "code",
     "collapsed": false,
     "input": [
      "df = pd.DataFrame(flinks.items(), columns=['title', 'flink'])"
     ],
     "language": "python",
     "metadata": {},
     "outputs": [],
     "prompt_number": 23
    },
    {
     "cell_type": "code",
     "collapsed": false,
     "input": [
      "df.head()"
     ],
     "language": "python",
     "metadata": {},
     "outputs": [
      {
       "html": [
        "<div style=\"max-height:1000px;max-width:1500px;overflow:auto;\">\n",
        "<table border=\"1\" class=\"dataframe\">\n",
        "  <thead>\n",
        "    <tr style=\"text-align: right;\">\n",
        "      <th></th>\n",
        "      <th>title</th>\n",
        "      <th>flink</th>\n",
        "    </tr>\n",
        "  </thead>\n",
        "  <tbody>\n",
        "    <tr>\n",
        "      <th>0</th>\n",
        "      <td>     Pig (1998 film)</td>\n",
        "      <td>           experimental film</td>\n",
        "    </tr>\n",
        "    <tr>\n",
        "      <th>1</th>\n",
        "      <td>    Save the Manatee</td>\n",
        "      <td> manatee conservation status</td>\n",
        "    </tr>\n",
        "    <tr>\n",
        "      <th>2</th>\n",
        "      <td>        Whatsappitis</td>\n",
        "      <td>    repetitive strain injury</td>\n",
        "    </tr>\n",
        "    <tr>\n",
        "      <th>3</th>\n",
        "      <td> Canton of Chalamont</td>\n",
        "      <td>            canton in france</td>\n",
        "    </tr>\n",
        "    <tr>\n",
        "      <th>4</th>\n",
        "      <td>     Orania purpurea</td>\n",
        "      <td>                     species</td>\n",
        "    </tr>\n",
        "  </tbody>\n",
        "</table>\n",
        "</div>"
       ],
       "metadata": {},
       "output_type": "pyout",
       "prompt_number": 24,
       "text": [
        "                 title                        flink\n",
        "0      Pig (1998 film)            experimental film\n",
        "1     Save the Manatee  manatee conservation status\n",
        "2         Whatsappitis     repetitive strain injury\n",
        "3  Canton of Chalamont             canton in france\n",
        "4      Orania purpurea                      species"
       ]
      }
     ],
     "prompt_number": 24
    },
    {
     "cell_type": "code",
     "collapsed": false,
     "input": [
      "df.tail(5)"
     ],
     "language": "python",
     "metadata": {},
     "outputs": [
      {
       "html": [
        "<div style=\"max-height:1000px;max-width:1500px;overflow:auto;\">\n",
        "<table border=\"1\" class=\"dataframe\">\n",
        "  <thead>\n",
        "    <tr style=\"text-align: right;\">\n",
        "      <th></th>\n",
        "      <th>title</th>\n",
        "      <th>flink</th>\n",
        "    </tr>\n",
        "  </thead>\n",
        "  <tbody>\n",
        "    <tr>\n",
        "      <th>11277529</th>\n",
        "      <td> Charles Cousin-Montauban, Comte de Palikao</td>\n",
        "      <td>                       france</td>\n",
        "    </tr>\n",
        "    <tr>\n",
        "      <th>11277530</th>\n",
        "      <td>                             Janzour Museum</td>\n",
        "      <td>                       museum</td>\n",
        "    </tr>\n",
        "    <tr>\n",
        "      <th>11277531</th>\n",
        "      <td>                 Paraguayan Communist Party</td>\n",
        "      <td>              political party</td>\n",
        "    </tr>\n",
        "    <tr>\n",
        "      <th>11277532</th>\n",
        "      <td>             List of Alabama-related topics</td>\n",
        "      <td>           outline of alabama</td>\n",
        "    </tr>\n",
        "    <tr>\n",
        "      <th>11277533</th>\n",
        "      <td>                           Dungannon Middle</td>\n",
        "      <td> barony (country subdivision)</td>\n",
        "    </tr>\n",
        "  </tbody>\n",
        "</table>\n",
        "</div>"
       ],
       "metadata": {},
       "output_type": "pyout",
       "prompt_number": 26,
       "text": [
        "                                               title  \\\n",
        "11277529  Charles Cousin-Montauban, Comte de Palikao   \n",
        "11277530                              Janzour Museum   \n",
        "11277531                  Paraguayan Communist Party   \n",
        "11277532              List of Alabama-related topics   \n",
        "11277533                            Dungannon Middle   \n",
        "\n",
        "                                 flink  \n",
        "11277529                        france  \n",
        "11277530                        museum  \n",
        "11277531               political party  \n",
        "11277532            outline of alabama  \n",
        "11277533  barony (country subdivision)  "
       ]
      }
     ],
     "prompt_number": 26
    },
    {
     "cell_type": "code",
     "collapsed": false,
     "input": [
      "df['ltitle'] = df.title.str.lower()"
     ],
     "language": "python",
     "metadata": {},
     "outputs": [],
     "prompt_number": 32
    },
    {
     "cell_type": "code",
     "collapsed": false,
     "input": [
      "df.head()"
     ],
     "language": "python",
     "metadata": {},
     "outputs": [
      {
       "html": [
        "<div style=\"max-height:1000px;max-width:1500px;overflow:auto;\">\n",
        "<table border=\"1\" class=\"dataframe\">\n",
        "  <thead>\n",
        "    <tr style=\"text-align: right;\">\n",
        "      <th></th>\n",
        "      <th>title</th>\n",
        "      <th>flink</th>\n",
        "      <th>ltitle</th>\n",
        "    </tr>\n",
        "  </thead>\n",
        "  <tbody>\n",
        "    <tr>\n",
        "      <th>0</th>\n",
        "      <td>     Pig (1998 film)</td>\n",
        "      <td>           experimental film</td>\n",
        "      <td>     pig (1998 film)</td>\n",
        "    </tr>\n",
        "    <tr>\n",
        "      <th>1</th>\n",
        "      <td>    Save the Manatee</td>\n",
        "      <td> manatee conservation status</td>\n",
        "      <td>    save the manatee</td>\n",
        "    </tr>\n",
        "    <tr>\n",
        "      <th>2</th>\n",
        "      <td>        Whatsappitis</td>\n",
        "      <td>    repetitive strain injury</td>\n",
        "      <td>        whatsappitis</td>\n",
        "    </tr>\n",
        "    <tr>\n",
        "      <th>3</th>\n",
        "      <td> Canton of Chalamont</td>\n",
        "      <td>            canton in france</td>\n",
        "      <td> canton of chalamont</td>\n",
        "    </tr>\n",
        "    <tr>\n",
        "      <th>4</th>\n",
        "      <td>     Orania purpurea</td>\n",
        "      <td>                     species</td>\n",
        "      <td>     orania purpurea</td>\n",
        "    </tr>\n",
        "  </tbody>\n",
        "</table>\n",
        "</div>"
       ],
       "metadata": {},
       "output_type": "pyout",
       "prompt_number": 33,
       "text": [
        "                 title                        flink               ltitle\n",
        "0      Pig (1998 film)            experimental film      pig (1998 film)\n",
        "1     Save the Manatee  manatee conservation status     save the manatee\n",
        "2         Whatsappitis     repetitive strain injury         whatsappitis\n",
        "3  Canton of Chalamont             canton in france  canton of chalamont\n",
        "4      Orania purpurea                      species      orania purpurea"
       ]
      }
     ],
     "prompt_number": 33
    },
    {
     "cell_type": "code",
     "collapsed": false,
     "input": [
      "df2 = df[['ltitle', 'flink']]"
     ],
     "language": "python",
     "metadata": {},
     "outputs": [],
     "prompt_number": 38
    },
    {
     "cell_type": "code",
     "collapsed": false,
     "input": [
      "df2.head()"
     ],
     "language": "python",
     "metadata": {},
     "outputs": [
      {
       "html": [
        "<div style=\"max-height:1000px;max-width:1500px;overflow:auto;\">\n",
        "<table border=\"1\" class=\"dataframe\">\n",
        "  <thead>\n",
        "    <tr style=\"text-align: right;\">\n",
        "      <th></th>\n",
        "      <th>ltitle</th>\n",
        "      <th>flink</th>\n",
        "    </tr>\n",
        "  </thead>\n",
        "  <tbody>\n",
        "    <tr>\n",
        "      <th>0</th>\n",
        "      <td>     pig (1998 film)</td>\n",
        "      <td>           experimental film</td>\n",
        "    </tr>\n",
        "    <tr>\n",
        "      <th>1</th>\n",
        "      <td>    save the manatee</td>\n",
        "      <td> manatee conservation status</td>\n",
        "    </tr>\n",
        "    <tr>\n",
        "      <th>2</th>\n",
        "      <td>        whatsappitis</td>\n",
        "      <td>    repetitive strain injury</td>\n",
        "    </tr>\n",
        "    <tr>\n",
        "      <th>3</th>\n",
        "      <td> canton of chalamont</td>\n",
        "      <td>            canton in france</td>\n",
        "    </tr>\n",
        "    <tr>\n",
        "      <th>4</th>\n",
        "      <td>     orania purpurea</td>\n",
        "      <td>                     species</td>\n",
        "    </tr>\n",
        "  </tbody>\n",
        "</table>\n",
        "</div>"
       ],
       "metadata": {},
       "output_type": "pyout",
       "prompt_number": 39,
       "text": [
        "                ltitle                        flink\n",
        "0      pig (1998 film)            experimental film\n",
        "1     save the manatee  manatee conservation status\n",
        "2         whatsappitis     repetitive strain injury\n",
        "3  canton of chalamont             canton in france\n",
        "4      orania purpurea                      species"
       ]
      }
     ],
     "prompt_number": 39
    },
    {
     "cell_type": "code",
     "collapsed": false,
     "input": [
      "df2.tail()"
     ],
     "language": "python",
     "metadata": {},
     "outputs": [
      {
       "html": [
        "<div style=\"max-height:1000px;max-width:1500px;overflow:auto;\">\n",
        "<table border=\"1\" class=\"dataframe\">\n",
        "  <thead>\n",
        "    <tr style=\"text-align: right;\">\n",
        "      <th></th>\n",
        "      <th>ltitle</th>\n",
        "      <th>flink</th>\n",
        "    </tr>\n",
        "  </thead>\n",
        "  <tbody>\n",
        "    <tr>\n",
        "      <th>11277529</th>\n",
        "      <td> charles cousin-montauban, comte de palikao</td>\n",
        "      <td>                       france</td>\n",
        "    </tr>\n",
        "    <tr>\n",
        "      <th>11277530</th>\n",
        "      <td>                             janzour museum</td>\n",
        "      <td>                       museum</td>\n",
        "    </tr>\n",
        "    <tr>\n",
        "      <th>11277531</th>\n",
        "      <td>                 paraguayan communist party</td>\n",
        "      <td>              political party</td>\n",
        "    </tr>\n",
        "    <tr>\n",
        "      <th>11277532</th>\n",
        "      <td>             list of alabama-related topics</td>\n",
        "      <td>           outline of alabama</td>\n",
        "    </tr>\n",
        "    <tr>\n",
        "      <th>11277533</th>\n",
        "      <td>                           dungannon middle</td>\n",
        "      <td> barony (country subdivision)</td>\n",
        "    </tr>\n",
        "  </tbody>\n",
        "</table>\n",
        "</div>"
       ],
       "metadata": {},
       "output_type": "pyout",
       "prompt_number": 40,
       "text": [
        "                                              ltitle  \\\n",
        "11277529  charles cousin-montauban, comte de palikao   \n",
        "11277530                              janzour museum   \n",
        "11277531                  paraguayan communist party   \n",
        "11277532              list of alabama-related topics   \n",
        "11277533                            dungannon middle   \n",
        "\n",
        "                                 flink  \n",
        "11277529                        france  \n",
        "11277530                        museum  \n",
        "11277531               political party  \n",
        "11277532            outline of alabama  \n",
        "11277533  barony (country subdivision)  "
       ]
      }
     ],
     "prompt_number": 40
    },
    {
     "cell_type": "code",
     "collapsed": false,
     "input": [
      "ndict = df2.to_json()"
     ],
     "language": "python",
     "metadata": {},
     "outputs": []
    },
    {
     "cell_type": "code",
     "collapsed": false,
     "input": [
      "#test ndict"
     ],
     "language": "python",
     "metadata": {},
     "outputs": []
    },
    {
     "cell_type": "code",
     "collapsed": false,
     "input": [
      "#write ndict to json"
     ],
     "language": "python",
     "metadata": {},
     "outputs": []
    }
   ],
   "metadata": {}
  }
 ]
}