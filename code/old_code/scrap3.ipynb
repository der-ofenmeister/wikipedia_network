{
 "metadata": {
  "name": "",
  "signature": "sha256:81cedcd9be6786c99bd8615b51c43132e340206094f7cf8e8c35af152907b213"
 },
 "nbformat": 3,
 "nbformat_minor": 0,
 "worksheets": [
  {
   "cells": [
    {
     "cell_type": "code",
     "collapsed": false,
     "input": [
      "#load all dictionaries into memory\n",
      "#load fldict into memory\n",
      "\n",
      "#loop through fldict, building master tdict\n",
      "\n",
      "\n",
      "import json, gc"
     ],
     "language": "python",
     "metadata": {},
     "outputs": [],
     "prompt_number": 1
    },
    {
     "cell_type": "code",
     "collapsed": false,
     "input": [
      "#load\n",
      "\n",
      "#fldict\n",
      "net_path = \"/Users/mark/Desktop/wiki_v3/results/fldict.json\"\n",
      "with open(net_path) as f:\n",
      "    fldict = json.load(f)\n",
      "    \n",
      "\n"
     ],
     "language": "python",
     "metadata": {},
     "outputs": [],
     "prompt_number": 5
    },
    {
     "cell_type": "code",
     "collapsed": false,
     "input": [
      "#load ntdict\n",
      "ntdict_path = \"/Users/mark/Desktop/wiki_v3/results/tdict/\"\n",
      "ntdict_names = [\"tdict\"+str(i)+\".json\" for i in range(0, 112)]\n",
      "ntdict_list = []\n",
      "\n",
      "for ntdict_name in ntdict_names:\n",
      "    with open(ntdict_path + ntdict_name) as f:\n",
      "        ntdict_list.append(json.load(f))\n"
     ],
     "language": "python",
     "metadata": {},
     "outputs": [],
     "prompt_number": 18
    },
    {
     "cell_type": "code",
     "collapsed": false,
     "input": [],
     "language": "python",
     "metadata": {},
     "outputs": [],
     "prompt_number": 9
    },
    {
     "cell_type": "code",
     "collapsed": false,
     "input": [
      "#tdict = {page: clicks, cycle length, end page}\n",
      "tdict = {}\n",
      "\n",
      "\n",
      "def update_tdict(page, n):\n",
      "    \"\"\"updates tdict with entry from nth tdict\"\"\"\n",
      "    ntdict = ntdict_list[n]\n",
      "    clicks, cycle_length, end_page = ntdict.get(page,[0,0,\"\"])\n",
      "    \n",
      "    #update \n",
      "    clicks = clicks + tdict.get(page,[0])[0]\n",
      "    cycle_length = cycle_length + tdict.get(page,[0,0])[1]\n",
      "    end_page = end_page + tdict.get(page, [0,0,\"\"])[2]\n",
      "    \n",
      "    #assign\n",
      "    tdict[page] = [clicks, cycle_length, end_page]\n",
      "\n",
      "    \n",
      "\n",
      "    \n",
      "    "
     ],
     "language": "python",
     "metadata": {},
     "outputs": [],
     "prompt_number": 15
    },
    {
     "cell_type": "code",
     "collapsed": false,
     "input": [
      "#loop through fldict\n",
      "i = 0\n",
      "for page in fldict.iterkeys():\n",
      "    i += 1\n",
      "    if i > 100: break\n",
      "    if i % 1000 == 0: gc.collect() #memory\n",
      "    \n",
      "    for n in range(0,112):\n",
      "        update_tdict(page,n)"
     ],
     "language": "python",
     "metadata": {},
     "outputs": [],
     "prompt_number": 16
    },
    {
     "cell_type": "code",
     "collapsed": false,
     "input": [
      "#test tdict\n"
     ],
     "language": "python",
     "metadata": {},
     "outputs": [],
     "prompt_number": 19
    },
    {
     "cell_type": "code",
     "collapsed": false,
     "input": [],
     "language": "python",
     "metadata": {},
     "outputs": [],
     "prompt_number": 2
    },
    {
     "cell_type": "code",
     "collapsed": false,
     "input": [],
     "language": "python",
     "metadata": {},
     "outputs": []
    }
   ],
   "metadata": {}
  }
 ]
}