{
 "metadata": {
  "name": "",
  "signature": "sha256:1c3305dd0c4ae4a3427fb8623868c59e4df095fcf757f8a37fd956daf8d47b16"
 },
 "nbformat": 3,
 "nbformat_minor": 0,
 "worksheets": [
  {
   "cells": [
    {
     "cell_type": "code",
     "collapsed": false,
     "input": [
      "import xml.etree.ElementTree as ET\n",
      "import first_link_txt, gc, json, string, sys\n",
      "\n",
      "\n",
      "#data_path = \"/Volumes/mark external/wikipedia/enwiki_20141106.xml\"\n",
      "#data_path = \"/Volumes/mark external/wikipedia/clean_small/smallaf.xml\"\n",
      "data_path = \"/Users/mark/Desktop/wiki_v3/smallca.xml\"\n",
      "out_path = \"/Users/mark/Desktop/test2.json\""
     ],
     "language": "python",
     "metadata": {},
     "outputs": [],
     "prompt_number": 11
    },
    {
     "cell_type": "code",
     "collapsed": false,
     "input": [
      "def create_tree(data_path):\n",
      "    \"\"\"xml tree object for parsing\"\"\"\n",
      "    tree = ET.iterparse(data_path, events=('end',))\n",
      "    tree = iter(tree) #iterable\n",
      "    return tree\n",
      "\n",
      "def get_title(elem):\n",
      "    \"\"\"return title after checking\"\"\"\n",
      "    #validate title\n",
      "    if first_link_txt.check_link(elem.text):\n",
      "        try: \n",
      "            title = elem.text\n",
      "        except:\n",
      "            title = \"\"\n",
      "    else: \n",
      "        title = \"\"\n",
      "    return title\n",
      "\n",
      "def get_fl(elem):\n",
      "    \"\"\"validate, return first link\"\"\"\n",
      "    try:\n",
      "        fl = first_link_txt.run_parser(elem.text)\n",
      "    except:\n",
      "        fl = \"\"\n",
      "    return fl\n",
      "            \n",
      "def process_xml(data_path):\n",
      "    \"\"\"goes through each page in xml\n",
      "    returns dictionary: title -> first link\"\"\"\n",
      "    tree = create_tree(data_path)\n",
      "    \n",
      "    #initialize vars\n",
      "    fldict = {}\n",
      "    p = 0\n",
      "    title = \"\"\n",
      "    fl = \"\"\n",
      "    \n",
      "    #root\n",
      "    event, root = tree.next()\n",
      "    \n",
      "    for action, elem in tree:\n",
      "        #free memory\n",
      "        if p % 500 == 0: gc.collect() \n",
      "        if elem.tag[-4:] == \"page\":\n",
      "            #count\n",
      "            p += 1\n",
      "            if p > 1000: break\n",
      "            \n",
      "            #write\n",
      "            if title and fl:\n",
      "                fldict[title] = fl\n",
      "            \n",
      "            #reset\n",
      "            title = \"\"\n",
      "            fl = \"\"\n",
      "            \n",
      "        if elem.tag[-5:] == \"title\":\n",
      "            title = get_title(elem)\n",
      "        \n",
      "        if elem.tag[-4:] == \"text\" and title:\n",
      "            fl = get_fl(elem)\n",
      "            \n",
      "        elem.clear()\n",
      "        root.clear()\n",
      "    \n",
      "    return fldict\n",
      "\n",
      "def store_json(fldict, out_path):\n",
      "    \"\"\"stores fldict as json file\"\"\"\n",
      "    with open(out_path, 'w') as outfile:\n",
      "        json.dump(fldict, outfile)\n",
      "\n",
      "def run_process(data_path, out_path):\n",
      "    \"\"\"process xml and stores result in json\"\"\"\n",
      "    fldict = process_xml(data_path)\n",
      "    store_json(fldict, out_path)\n",
      "    \n",
      "#to load json\n",
      "#with open(out_path, 'r') as jdict:\n",
      "#    fldict = json.load(jdict)\n",
      "\n",
      "\n",
      "\n",
      "\n",
      "\n",
      "\n",
      "\n"
     ],
     "language": "python",
     "metadata": {},
     "outputs": [],
     "prompt_number": 12
    },
    {
     "cell_type": "code",
     "collapsed": false,
     "input": [
      "%%timeit\n",
      "run_process(data_path, out_path)\n"
     ],
     "language": "python",
     "metadata": {},
     "outputs": [
      {
       "output_type": "stream",
       "stream": "stdout",
       "text": [
        "1 loops, best of 3: 3.35 s per loop\n"
       ]
      }
     ],
     "prompt_number": 13
    },
    {
     "cell_type": "code",
     "collapsed": false,
     "input": [],
     "language": "python",
     "metadata": {},
     "outputs": [],
     "prompt_number": 49
    },
    {
     "cell_type": "code",
     "collapsed": false,
     "input": [],
     "language": "python",
     "metadata": {},
     "outputs": []
    }
   ],
   "metadata": {}
  }
 ]
}