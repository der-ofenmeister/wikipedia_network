{
 "metadata": {
  "name": "",
  "signature": "sha256:f0ae35c40012bf53de16939ed02bf91ed723d7b90b92977bb1cf50fc1f3bcd73"
 },
 "nbformat": 3,
 "nbformat_minor": 0,
 "worksheets": [
  {
   "cells": [
    {
     "cell_type": "code",
     "collapsed": false,
     "input": [
      "get_page_xml(\"Train\")"
     ],
     "language": "python",
     "metadata": {},
     "outputs": [],
     "prompt_number": 8
    },
    {
     "cell_type": "code",
     "collapsed": false,
     "input": [],
     "language": "python",
     "metadata": {},
     "outputs": [],
     "prompt_number": 9
    },
    {
     "cell_type": "code",
     "collapsed": false,
     "input": [],
     "language": "python",
     "metadata": {},
     "outputs": [],
     "prompt_number": 19
    },
    {
     "cell_type": "code",
     "collapsed": false,
     "input": [
      "#TESTS\n",
      "import urllib2\n",
      "\n"
     ],
     "language": "python",
     "metadata": {},
     "outputs": [],
     "prompt_number": 11
    },
    {
     "cell_type": "code",
     "collapsed": false,
     "input": [
      "#get live page xml\n",
      "def get_page_xml(page):\n",
      "    response = urllib2.urlopen(\"https://en.wikipedia.org/wiki/Special:Export/\"+page)\n",
      "    page_xml = response.read()\n",
      "    return page_xml"
     ],
     "language": "python",
     "metadata": {},
     "outputs": [],
     "prompt_number": 12
    },
    {
     "cell_type": "code",
     "collapsed": false,
     "input": [
      "test_pages = [(\"Donaukanal\", \"Danube\"), (\"2008_OFC_U-20_Championship\", \"OFC_U-20_Championship\"),\n",
      "                    (\"Metrorail_KwaZulu-Natal\", \"Commuter_rail\"), \n",
      "                    ('Suburbs_and_localities_(Australia)', 'Address_(geography)'),('Hotel#Historic_hotels', 'Lodging'),\n",
      "                    ('Lavon_Lake', 'Fresh_water'), ('1960_Gator_Bowl', '1960_Gator_Bowl_(January)'),\n",
      "                    ('Nalconagar,_Angul', 'Census_town'), \n",
      "                    ('Prince_Pieter-Christiaan_of_Orange-Nassau,_van_Vollenhoven', 'Princess_Margriet_of_the_Netherlands'),\n",
      "                    ('West_Kingsdown', 'Civil_parishes_in_England'), ('Strait_of_Bonifacio', 'Strait'),\n",
      "                    ('Too_Hot_to_Sleep_(song)', 'R.C._Bannon'), ('John_Brackenborough', 'Canada'),\n",
      "                    ('Neudesic', 'Irvine,_California'),\n",
      "                    ('An_Foras_P%C3%A1tr%C3%BAnachta', 'Gaelscoil'),\n",
      "                    ('Seven_Days_Confederate_order_of_battle', 'Confederate_States_Army'), ('Blue_law', 'Blue_law'),\n",
      "                    ('Adelaide_by-election,_1988', 'By-election'),\n",
      "                    ('Super_PI', 'Computer_program'),\n",
      "                    ('Mutation_(knot_theory)', 'Mathematics'),\n",
      "                    ('National_Democratic_Alliance_(Aruba)', 'Political_party'),\n",
      "                    ('Williams_FW20', 'Williams_Grand_Prix_Engineering'),\n",
      "                    ('Novo_Virje', 'Koprivnica-Kri%C5%BEevci_County'),\n",
      "                    ('Yeddi_Gumbaz_mausoleum', 'Shamakhi'),\n",
      "                    ('Hurricane_Maria_(2011)',\n",
      "                      'Saffir%E2%80%93Simpson_hurricane_wind_scale#Category_1'),\n",
      "                    ('Rakusui-en', 'Hakata-ku,_Fukuoka'),\n",
      "                    ('Islam_in_Angola', 'Angola'),\n",
      "                    ('James_Nicol', 'Traquair'),\n",
      "                    ('Crnopod', 'Village'),\n",
      "                    ('Half-cock', 'Hammer_(firearm)'),\n",
      "                    ('Amplypterus_sumbawanensis', 'Moth'),\n",
      "                    ('Brobham', 'Brobham'),\n",
      "                    ('Oyur', 'Snideh'),\n",
      "                    ('New_York_gubernatorial_election,_1986', 'Governor_of_New_York'),\n",
      "                    ('.22_Extra_Long', 'United_States'),\n",
      "                    ('Pontos_K%C3%BClt%C3%BCr%C3%BC', 'Turkey'),\n",
      "                    ('Banana', 'Fruit'), \n",
      "                    ('France', 'Unitary_state'),\n",
      "                    ('Ryotaro_Tanose', 'Japan'),\n",
      "                    ('Emma_Lundh', 'Swedes'),\n",
      "                    ('Self-portrait_(Hans_Holbein_the_Younger)',\n",
      "                      'Self-portrait_(Hans_Holbein_the_Younger)'),\n",
      "                    ('Omphalotropis_latilabris', 'Species'),\n",
      "                    ('CAE_Global_Academy_Phoenix', 'CAE_Inc.'),\n",
      "                    ('Author', 'Writer'),\n",
      "                    ('Devonshire', 'Devon'),\n",
      "                    ('Ringmore', 'Village'),\n",
      "                    ('Mordellistena_aliena', 'Beetle'),\n",
      "                    ('Enrico_Fermi', 'Italians'),\n",
      "                    ('Freddie_Viggers', 'Lieutenant-general_(United_Kingdom)'),\n",
      "                    ('Pete_Schourek', 'Major_League_Baseball')]"
     ],
     "language": "python",
     "metadata": {},
     "outputs": [],
     "prompt_number": 20
    },
    {
     "cell_type": "code",
     "collapsed": false,
     "input": [
      "for page in test_pages:\n",
      "    fl = run_parser(get_page_xml(page[0]))\n",
      "    if fl != page[1]:\n",
      "        print page, \" VERSUS \", fl\n"
     ],
     "language": "python",
     "metadata": {},
     "outputs": [
      {
       "output_type": "stream",
       "stream": "stdout",
       "text": [
        "('Donaukanal', 'Danube')  VERSUS  Project:AWB\n",
        "('2008_OFC_U-20_Championship', 'OFC_U-20_Championship')"
       ]
      },
      {
       "output_type": "stream",
       "stream": "stdout",
       "text": [
        "  VERSUS  WP:CFDS\n",
        "('Metrorail_KwaZulu-Natal', 'Commuter_rail')"
       ]
      },
      {
       "output_type": "stream",
       "stream": "stdout",
       "text": [
        "  VERSUS  None\n",
        "('Suburbs_and_localities_(Australia)', 'Address_(geography)')"
       ]
      },
      {
       "output_type": "stream",
       "stream": "stdout",
       "text": [
        "  VERSUS  Address (geography)\n",
        "('Hotel#Historic_hotels', 'Lodging')"
       ]
      },
      {
       "output_type": "stream",
       "stream": "stdout",
       "text": [
        "  VERSUS  lodging\n",
        "('Lavon_Lake', 'Fresh_water')"
       ]
      },
      {
       "output_type": "stream",
       "stream": "stdout",
       "text": [
        "  VERSUS  fresh water\n",
        "('1960_Gator_Bowl', '1960_Gator_Bowl_(January)')"
       ]
      },
      {
       "output_type": "stream",
       "stream": "stdout",
       "text": [
        "  VERSUS  1960 Gator Bowl (January)\n",
        "('Nalconagar,_Angul', 'Census_town')"
       ]
      },
      {
       "output_type": "stream",
       "stream": "stdout",
       "text": [
        "  VERSUS  census town\n",
        "('Prince_Pieter-Christiaan_of_Orange-Nassau,_van_Vollenhoven', 'Princess_Margriet_of_the_Netherlands')"
       ]
      },
      {
       "output_type": "stream",
       "stream": "stdout",
       "text": [
        "  VERSUS  Princess Margriet of the Netherlands\n",
        "('West_Kingsdown', 'Civil_parishes_in_England')"
       ]
      },
      {
       "output_type": "stream",
       "stream": "stdout",
       "text": [
        "  VERSUS  Civil parishes in England\n",
        "('Strait_of_Bonifacio', 'Strait')"
       ]
      },
      {
       "output_type": "stream",
       "stream": "stdout",
       "text": [
        "  VERSUS  strait\n",
        "('Too_Hot_to_Sleep_(song)', 'R.C._Bannon')"
       ]
      },
      {
       "output_type": "stream",
       "stream": "stdout",
       "text": [
        "  VERSUS  R.C. Bannon\n",
        "('Neudesic', 'Irvine,_California')"
       ]
      },
      {
       "output_type": "stream",
       "stream": "stdout",
       "text": [
        "  VERSUS  Project:AWB\n",
        "('An_Foras_P%C3%A1tr%C3%BAnachta', 'Gaelscoil')"
       ]
      },
      {
       "output_type": "stream",
       "stream": "stdout",
       "text": [
        "  VERSUS  gaelscoil\n",
        "('Seven_Days_Confederate_order_of_battle', 'Confederate_States_Army')"
       ]
      },
      {
       "output_type": "stream",
       "stream": "stdout",
       "text": [
        "  VERSUS  Confederate States Army\n",
        "('Blue_law', 'Blue_law')"
       ]
      },
      {
       "output_type": "stream",
       "stream": "stdout",
       "text": [
        "  VERSUS  alcoholic beverages\n",
        "('Adelaide_by-election,_1988', 'By-election')"
       ]
      },
      {
       "output_type": "stream",
       "stream": "stdout",
       "text": [
        "  VERSUS  by-election\n",
        "('Super_PI', 'Computer_program')"
       ]
      },
      {
       "output_type": "stream",
       "stream": "stdout",
       "text": [
        "  VERSUS  computer program\n",
        "('Mutation_(knot_theory)', 'Mathematics')"
       ]
      },
      {
       "output_type": "stream",
       "stream": "stdout",
       "text": [
        "  VERSUS  knot genus\n",
        "('National_Democratic_Alliance_(Aruba)', 'Political_party')"
       ]
      },
      {
       "output_type": "stream",
       "stream": "stdout",
       "text": [
        "  VERSUS  political party\n",
        "('Williams_FW20', 'Williams_Grand_Prix_Engineering')"
       ]
      },
      {
       "output_type": "stream",
       "stream": "stdout",
       "text": [
        "  VERSUS  Project:AWB\n",
        "('Novo_Virje', 'Koprivnica-Kri%C5%BEevci_County')"
       ]
      },
      {
       "output_type": "stream",
       "stream": "stdout",
       "text": [
        "  VERSUS  Koprivnica-Kri\u017eevci county\n",
        "('Yeddi_Gumbaz_mausoleum', 'Shamakhi')"
       ]
      },
      {
       "output_type": "stream",
       "stream": "stdout",
       "text": [
        "  VERSUS  WP:HC\n",
        "('Hurricane_Maria_(2011)', 'Saffir%E2%80%93Simpson_hurricane_wind_scale#Category_1')"
       ]
      },
      {
       "output_type": "stream",
       "stream": "stdout",
       "text": [
        "  VERSUS  Saffir-Simpson Hurricane Scale#Category 1\n",
        "('Rakusui-en', 'Hakata-ku,_Fukuoka')"
       ]
      },
      {
       "output_type": "stream",
       "stream": "stdout",
       "text": [
        "  VERSUS  Hakata-ku, Fukuoka\n",
        "('Crnopod', 'Village')"
       ]
      },
      {
       "output_type": "stream",
       "stream": "stdout",
       "text": [
        "  VERSUS  village\n",
        "('Half-cock', 'Hammer_(firearm)')"
       ]
      },
      {
       "output_type": "stream",
       "stream": "stdout",
       "text": [
        "  VERSUS  hammer (firearm)\n",
        "('Amplypterus_sumbawanensis', 'Moth')"
       ]
      },
      {
       "output_type": "stream",
       "stream": "stdout",
       "text": [
        "  VERSUS  moth\n",
        "('Oyur', 'Snideh')"
       ]
      },
      {
       "output_type": "stream",
       "stream": "stdout",
       "text": [
        "  VERSUS  Syrian\n",
        "('New_York_gubernatorial_election,_1986', 'Governor_of_New_York')"
       ]
      },
      {
       "output_type": "stream",
       "stream": "stdout",
       "text": [
        "  VERSUS  Governor of New York\n",
        "('.22_Extra_Long', 'United_States')"
       ]
      },
      {
       "output_type": "stream",
       "stream": "stdout",
       "text": [
        "  VERSUS  United States\n",
        "('Pontos_K%C3%BClt%C3%BCr%C3%BC', 'Turkey')"
       ]
      },
      {
       "output_type": "stream",
       "stream": "stdout",
       "text": [
        "  VERSUS  WP:CHECKWIKI\n",
        "('Banana', 'Fruit')"
       ]
      },
      {
       "output_type": "stream",
       "stream": "stdout",
       "text": [
        "  VERSUS  WP:HC\n",
        "('France', 'Unitary_state')"
       ]
      },
      {
       "output_type": "stream",
       "stream": "stdout",
       "text": [
        "  VERSUS  WP:AWB/T\n",
        "('Ryotaro_Tanose', 'Japan')"
       ]
      },
      {
       "output_type": "stream",
       "stream": "stdout",
       "text": [
        "  VERSUS  WP:CFDS\n",
        "('Emma_Lundh', 'Swedes')"
       ]
      },
      {
       "output_type": "stream",
       "stream": "stdout",
       "text": [
        "  VERSUS  Association football\n",
        "('Self-portrait_(Hans_Holbein_the_Younger)', 'Self-portrait_(Hans_Holbein_the_Younger)')"
       ]
      },
      {
       "output_type": "stream",
       "stream": "stdout",
       "text": [
        "  VERSUS  Hans Holbein the Younger\n",
        "('Omphalotropis_latilabris', 'Species')"
       ]
      },
      {
       "output_type": "stream",
       "stream": "stdout",
       "text": [
        "  VERSUS  species\n",
        "('CAE_Global_Academy_Phoenix', 'CAE_Inc.')"
       ]
      },
      {
       "output_type": "stream",
       "stream": "stdout",
       "text": [
        "  VERSUS  CAE Inc.\n",
        "('Author', 'Writer')"
       ]
      },
      {
       "output_type": "stream",
       "stream": "stdout",
       "text": [
        "  VERSUS  writer\n",
        "('Ringmore', 'Village')"
       ]
      },
      {
       "output_type": "stream",
       "stream": "stdout",
       "text": [
        "  VERSUS  village\n",
        "('Mordellistena_aliena', 'Beetle')"
       ]
      },
      {
       "output_type": "stream",
       "stream": "stdout",
       "text": [
        "  VERSUS  beetle\n",
        "('Freddie_Viggers', 'Lieutenant-general_(United_Kingdom)')"
       ]
      },
      {
       "output_type": "stream",
       "stream": "stdout",
       "text": [
        "  VERSUS  Lieutenant-general (United Kingdom)\n",
        "('Pete_Schourek', 'Major_League_Baseball')"
       ]
      },
      {
       "output_type": "stream",
       "stream": "stdout",
       "text": [
        "  VERSUS  WP:CHECKWIKI\n"
       ]
      }
     ],
     "prompt_number": 17
    },
    {
     "cell_type": "code",
     "collapsed": false,
     "input": [
      "%load ../first_link_txt.py\n"
     ],
     "language": "python",
     "metadata": {},
     "outputs": [],
     "prompt_number": 18
    },
    {
     "cell_type": "code",
     "collapsed": false,
     "input": [
      "#parse page text for first link\n",
      "\n",
      "#for a list of pages: https://en.wikipedia.org/wiki/Special:AllPages\n",
      "#entire dump is https://dumps.wikimedia.org/enwiki/20141008/\n",
      "\"\"\"\n",
      "1. article body via xml tag\n",
      "2. clean tags: <ref>, <div>\n",
      "3. clean Media wiki templates {{ }}\n",
      "5. disregard parenthesis, not embedeed in links\n",
      "6. find first link \n",
      "    * elimanting outermost false links:\n",
      "        *Image, wiktionary etc.\n",
      "\"\"\"\n",
      "import xml.etree.ElementTree as ET\n",
      "\n",
      "#first level of hierachy is check whether {{}}\n",
      "    #proceed to ()\n",
      "    #then test link\n",
      "    #link\n",
      "\n",
      "def inside_char(char, marker, tracker, i):\n",
      "    #checks whether inside char such as parentheses or wiki_template\n",
      "        #handles nested \n",
      "    if char == marker[0]:\n",
      "        tracker.append(i)\n",
      "    elif char == marker[1]:\n",
      "        try:\n",
      "            tracker.pop()\n",
      "        except IndexError:\n",
      "            pass\n",
      "    return tracker\n",
      "        \n",
      "def grab_links(body):\n",
      "    #returns list of outer-most links not in parentheses or template or tags\n",
      "    links = []\n",
      "    link_char = []\n",
      "    \n",
      "    w_marker = [\"{{\", \"}}\"]\n",
      "    w_temp = [] #in template?\n",
      "    \n",
      "    par_marker = [\"(\", \")\"]\n",
      "    par = [] #in parentheses?\n",
      "    \n",
      "    rtag_marker = [\"<ref\", \"</re\"]\n",
      "    rtag = [] #in <ref> tag?\n",
      "    \n",
      "    dtag_marker = [\"<div\", \"</di\"]\n",
      "    dtag = []\n",
      "    \n",
      "    skip_char = []\n",
      "    \n",
      "    for i, c in enumerate(body):\n",
      "        if i in skip_char: continue #eliminates double counting\n",
      "        char = body[i:i+2]\n",
      "        tag = body[i:i+4]\n",
      "        \n",
      "        #wiki template\n",
      "        w_temp = inside_char(char, w_marker, w_temp, i)\n",
      "        if char in w_marker: skip_char.append(i+1)\n",
      "        if w_temp:\n",
      "            continue #doesn't process if inside wiki template\n",
      "        \n",
      "        #parentheses\n",
      "        par = inside_char(c, par_marker, par, i)\n",
      "        if par:\n",
      "            continue\n",
      "        \n",
      "        #<ref> or <div>\n",
      "        rtag = inside_char(tag, rtag_marker, rtag, i)\n",
      "        dtag = inside_char(tag, dtag_marker, dtag, i)\n",
      "        if rtag or dtag:\n",
      "            continue\n",
      "        \n",
      "        #clear to add outer-most link\n",
      "        if char == '[[':\n",
      "            link_char.append(i)\n",
      "        elif char == ']]' and len(link_char) == 1:\n",
      "            links.append(body[link_char[0]:i+2])\n",
      "            link_char.pop()\n",
      "        elif char == ']]' and len(link_char) > 1:\n",
      "            link_char.pop()\n",
      "    return links\n",
      "\n",
      "def check_link(link):\n",
      "    #filter links to images or files\n",
      "    #returns false if for a bad link\n",
      "        #includes links begining with colon\n",
      "    false_links = [\"wikipedia:\", \"w:\", \"wikitionary:\", \"wikt:\", \"wikinews:\",\n",
      "                    \"n:\", \"wikibooks:\", \"b:\", \"wikiquote:\", \"q:\", \"wikisource:\",\n",
      "                    \"s:\", \"wikispecies:\", \"species:\", \"wikiversity\", \"v:\", \n",
      "                    \"wikivoyage:\", \"voy:\", \"wikimedia:\", \"foundation:\", \"wmf:\", \n",
      "                    \"commonds:\", \"c:\", \"chapter:\", \"metawikipedia:\", \"meta:\", \n",
      "                    \"m:\", \"incubator:\", \"outreach:\", \"mw:\", \"mediazilla:\", \n",
      "                    \"bugzilla:\", \"testwiki:\", \"wikitech:\", \"wikidata:\", \"d:\",\n",
      "                    \"phabricator:\", \"phab:\", \"talk:\", \"user talk:\", \"file:\", \n",
      "                    \"user:\", \"template:\", \"category:\", \"file talk:\", \n",
      "                    \"category talk:\", \"image:\", \"media:\", \"special:\", \n",
      "                    \"help:\", \"portal:\", \"portal talk:\", \"\\#\"]\n",
      "    is_bad = any(false_link in link.lower() for false_link in false_links)\n",
      "    if is_bad or link[0] == \":\":\n",
      "        return False\n",
      "    else:\n",
      "        return True\n",
      "\n",
      "\n",
      "def clean_link(link):\n",
      "    #strips brackets, returns link destination (not display name)\n",
      "    link = link.strip(\"[]\")\n",
      "    if \"|\" in link:            \n",
      "        link = link.split(\"|\",1)[0]\n",
      "    link = link.strip() #remove trailing white space\n",
      "    return link \n",
      "\n",
      "def run_parser(page_xml):\n",
      "    links = grab_links(page_xml)\n",
      "    for link in links:\n",
      "        if check_link(link):\n",
      "            return clean_link(link)\n",
      "    return None\n",
      "\n"
     ],
     "language": "python",
     "metadata": {},
     "outputs": [],
     "prompt_number": 19
    },
    {
     "cell_type": "code",
     "collapsed": false,
     "input": [],
     "language": "python",
     "metadata": {},
     "outputs": [],
     "prompt_number": 22
    },
    {
     "cell_type": "code",
     "collapsed": false,
     "input": [],
     "language": "python",
     "metadata": {},
     "outputs": [],
     "prompt_number": 23
    },
    {
     "cell_type": "code",
     "collapsed": false,
     "input": [],
     "language": "python",
     "metadata": {},
     "outputs": []
    }
   ],
   "metadata": {}
  }
 ]
}