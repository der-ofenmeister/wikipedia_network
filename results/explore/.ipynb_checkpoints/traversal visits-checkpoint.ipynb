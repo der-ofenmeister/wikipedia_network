{
 "metadata": {
  "name": "",
  "signature": "sha256:35901347c8d7b5e58d61bcae38d432f7614d0a288bc122a48d5f335bba58ac28"
 },
 "nbformat": 3,
 "nbformat_minor": 0,
 "worksheets": [
  {
   "cells": [
    {
     "cell_type": "markdown",
     "metadata": {},
     "source": [
      "#Traversal Visits"
     ]
    },
    {
     "cell_type": "markdown",
     "metadata": {},
     "source": [
      "measured as the accumulated number of visits after traversing the network:\n",
      " 1. begin at every article\n",
      " 2. first link receives +1 visit\n",
      " 3. continue to next first link, +1 visit \n",
      "     - stop at a repeated article or invalid link"
     ]
    },
    {
     "cell_type": "code",
     "collapsed": false,
     "input": [
      "import pandas as pd\n",
      "from scipy import stats \n",
      "import numpy as np\n",
      "import json\n",
      "\n",
      "import matplotlib.pyplot as plt\n",
      "%matplotlib inline\n",
      "import seaborn as sns\n",
      "\n",
      "path = \"/Users/mark/Dropbox/Math/Complex_Systems/research/writeup/graphics/\""
     ],
     "language": "python",
     "metadata": {},
     "outputs": [],
     "prompt_number": 6
    },
    {
     "cell_type": "code",
     "collapsed": false,
     "input": [
      "#load results into dataframe (~ 1min runtime)\n",
      "\n",
      "results_path = \"/Users/mark/Desktop/wiki_v4/\"\n",
      "with open(results_path + \"clicks.json\") as f:\n",
      "    dict = json.load(f)\n",
      "df = pd.DataFrame(dict.items())\n",
      "df.columns = ['article', 'traversal visits']\n",
      "\n",
      "df = df.sort(columns='traversal visits', ascending=False)"
     ],
     "language": "python",
     "metadata": {},
     "outputs": [],
     "prompt_number": 4
    },
    {
     "cell_type": "code",
     "collapsed": false,
     "input": [
      "#add a rank column and log scaled columns\n",
      "\n",
      "df['log(traversal visits)'] = np.log(df['traversal visits']+1)\n",
      "df['rank'] = np.arange(1, df.shape[0]+1)\n",
      "df['log(rank)'] = np.log(df['rank'])"
     ],
     "language": "python",
     "metadata": {},
     "outputs": [],
     "prompt_number": 9
    },
    {
     "cell_type": "markdown",
     "metadata": {},
     "source": [
      "##Top 50 Articles"
     ]
    },
    {
     "cell_type": "code",
     "collapsed": false,
     "input": [
      "df.head(50)\n"
     ],
     "language": "python",
     "metadata": {},
     "outputs": [
      {
       "html": [
        "<div style=\"max-height:1000px;max-width:1500px;overflow:auto;\">\n",
        "<table border=\"1\" class=\"dataframe\">\n",
        "  <thead>\n",
        "    <tr style=\"text-align: right;\">\n",
        "      <th></th>\n",
        "      <th>article</th>\n",
        "      <th>traversal visits</th>\n",
        "    </tr>\n",
        "  </thead>\n",
        "  <tbody>\n",
        "    <tr>\n",
        "      <th>1031718 </th>\n",
        "      <td>                    Existence</td>\n",
        "      <td> 7400884</td>\n",
        "    </tr>\n",
        "    <tr>\n",
        "      <th>3381363 </th>\n",
        "      <td>         Quality (philosophy)</td>\n",
        "      <td> 7400884</td>\n",
        "    </tr>\n",
        "    <tr>\n",
        "      <th>4495967 </th>\n",
        "      <td>                Consciousness</td>\n",
        "      <td> 7400884</td>\n",
        "    </tr>\n",
        "    <tr>\n",
        "      <th>1020904 </th>\n",
        "      <td>                    Conscious</td>\n",
        "      <td> 7400884</td>\n",
        "    </tr>\n",
        "    <tr>\n",
        "      <th>973077  </th>\n",
        "      <td>                    Awareness</td>\n",
        "      <td> 7400884</td>\n",
        "    </tr>\n",
        "    <tr>\n",
        "      <th>7948850 </th>\n",
        "      <td>                   Philosophy</td>\n",
        "      <td> 7400884</td>\n",
        "    </tr>\n",
        "    <tr>\n",
        "      <th>7974918 </th>\n",
        "      <td>                      Reality</td>\n",
        "      <td> 7400884</td>\n",
        "    </tr>\n",
        "    <tr>\n",
        "      <th>4042014 </th>\n",
        "      <td>            Modern philosophy</td>\n",
        "      <td> 7269259</td>\n",
        "    </tr>\n",
        "    <tr>\n",
        "      <th>1584377 </th>\n",
        "      <td>        Property (philosophy)</td>\n",
        "      <td> 7269255</td>\n",
        "    </tr>\n",
        "    <tr>\n",
        "      <th>7062295 </th>\n",
        "      <td>                     Quantity</td>\n",
        "      <td> 7259791</td>\n",
        "    </tr>\n",
        "    <tr>\n",
        "      <th>6069882 </th>\n",
        "      <td>                  Mathematics</td>\n",
        "      <td> 7255122</td>\n",
        "    </tr>\n",
        "    <tr>\n",
        "      <th>2860219 </th>\n",
        "      <td>            Set (mathematics)</td>\n",
        "      <td> 7079148</td>\n",
        "    </tr>\n",
        "    <tr>\n",
        "      <th>7332038 </th>\n",
        "      <td>                  Explanation</td>\n",
        "      <td> 6622934</td>\n",
        "    </tr>\n",
        "    <tr>\n",
        "      <th>10976731</th>\n",
        "      <td>                   Hypothesis</td>\n",
        "      <td> 6616886</td>\n",
        "    </tr>\n",
        "    <tr>\n",
        "      <th>5125755 </th>\n",
        "      <td>                   Experiment</td>\n",
        "      <td> 6616203</td>\n",
        "    </tr>\n",
        "    <tr>\n",
        "      <th>3512481 </th>\n",
        "      <td>                   Experience</td>\n",
        "      <td> 6614083</td>\n",
        "    </tr>\n",
        "    <tr>\n",
        "      <th>9387432 </th>\n",
        "      <td>                         Fact</td>\n",
        "      <td> 6613815</td>\n",
        "    </tr>\n",
        "    <tr>\n",
        "      <th>4514332 </th>\n",
        "      <td>                    Knowledge</td>\n",
        "      <td> 6613248</td>\n",
        "    </tr>\n",
        "    <tr>\n",
        "      <th>9531996 </th>\n",
        "      <td>                      Science</td>\n",
        "      <td> 6444926</td>\n",
        "    </tr>\n",
        "    <tr>\n",
        "      <th>6731720 </th>\n",
        "      <td>              Natural science</td>\n",
        "      <td> 4633960</td>\n",
        "    </tr>\n",
        "    <tr>\n",
        "      <th>9081904 </th>\n",
        "      <td>                      Biology</td>\n",
        "      <td> 3400690</td>\n",
        "    </tr>\n",
        "    <tr>\n",
        "      <th>4579566 </th>\n",
        "      <td>              Tribe (biology)</td>\n",
        "      <td> 2028827</td>\n",
        "    </tr>\n",
        "    <tr>\n",
        "      <th>5133222 </th>\n",
        "      <td>                     Hominini</td>\n",
        "      <td> 2027606</td>\n",
        "    </tr>\n",
        "    <tr>\n",
        "      <th>7799954 </th>\n",
        "      <td>                        Human</td>\n",
        "      <td> 2027495</td>\n",
        "    </tr>\n",
        "    <tr>\n",
        "      <th>5997652 </th>\n",
        "      <td>                        World</td>\n",
        "      <td> 1509110</td>\n",
        "    </tr>\n",
        "    <tr>\n",
        "      <th>8371182 </th>\n",
        "      <td>                    Community</td>\n",
        "      <td> 1412646</td>\n",
        "    </tr>\n",
        "    <tr>\n",
        "      <th>5587156 </th>\n",
        "      <td>               State (polity)</td>\n",
        "      <td> 1401610</td>\n",
        "    </tr>\n",
        "    <tr>\n",
        "      <th>4178551 </th>\n",
        "      <td>                        Earth</td>\n",
        "      <td> 1335477</td>\n",
        "    </tr>\n",
        "    <tr>\n",
        "      <th>462809  </th>\n",
        "      <td>                    Geography</td>\n",
        "      <td> 1297144</td>\n",
        "    </tr>\n",
        "    <tr>\n",
        "      <th>4911286 </th>\n",
        "      <td>                     Organism</td>\n",
        "      <td>  993743</td>\n",
        "    </tr>\n",
        "    <tr>\n",
        "      <th>1101605 </th>\n",
        "      <td>              Human geography</td>\n",
        "      <td>  910619</td>\n",
        "    </tr>\n",
        "    <tr>\n",
        "      <th>9429023 </th>\n",
        "      <td>          Political geography</td>\n",
        "      <td>  910554</td>\n",
        "    </tr>\n",
        "    <tr>\n",
        "      <th>501901  </th>\n",
        "      <td>                      Country</td>\n",
        "      <td>  910528</td>\n",
        "    </tr>\n",
        "    <tr>\n",
        "      <th>2579735 </th>\n",
        "      <td>                      Physics</td>\n",
        "      <td>  905296</td>\n",
        "    </tr>\n",
        "    <tr>\n",
        "      <th>10256925</th>\n",
        "      <td>              Political union</td>\n",
        "      <td>  858725</td>\n",
        "    </tr>\n",
        "    <tr>\n",
        "      <th>7160526 </th>\n",
        "      <td>                   Federation</td>\n",
        "      <td>  858699</td>\n",
        "    </tr>\n",
        "    <tr>\n",
        "      <th>2193    </th>\n",
        "      <td>               Social science</td>\n",
        "      <td>  835526</td>\n",
        "    </tr>\n",
        "    <tr>\n",
        "      <th>6063250 </th>\n",
        "      <td>             Federal republic</td>\n",
        "      <td>  723998</td>\n",
        "    </tr>\n",
        "    <tr>\n",
        "      <th>7768454 </th>\n",
        "      <td>                United States</td>\n",
        "      <td>  645237</td>\n",
        "    </tr>\n",
        "    <tr>\n",
        "      <th>6527028 </th>\n",
        "      <td>      Administrative division</td>\n",
        "      <td>  466333</td>\n",
        "    </tr>\n",
        "    <tr>\n",
        "      <th>7830566 </th>\n",
        "      <td>                         Data</td>\n",
        "      <td>  455691</td>\n",
        "    </tr>\n",
        "    <tr>\n",
        "      <th>4507680 </th>\n",
        "      <td>                  Information</td>\n",
        "      <td>  425296</td>\n",
        "    </tr>\n",
        "    <tr>\n",
        "      <th>2909326 </th>\n",
        "      <td> Power (social and political)</td>\n",
        "      <td>  417078</td>\n",
        "    </tr>\n",
        "    <tr>\n",
        "      <th>2696928 </th>\n",
        "      <td>       Biological interaction</td>\n",
        "      <td>  413946</td>\n",
        "    </tr>\n",
        "    <tr>\n",
        "      <th>3386346 </th>\n",
        "      <td>        Competition (biology)</td>\n",
        "      <td>  413936</td>\n",
        "    </tr>\n",
        "    <tr>\n",
        "      <th>4513068 </th>\n",
        "      <td>                  Competition</td>\n",
        "      <td>  413358</td>\n",
        "    </tr>\n",
        "    <tr>\n",
        "      <th>6308195 </th>\n",
        "      <td>                        Sport</td>\n",
        "      <td>  407781</td>\n",
        "    </tr>\n",
        "    <tr>\n",
        "      <th>2147984 </th>\n",
        "      <td>                     Landmass</td>\n",
        "      <td>  404722</td>\n",
        "    </tr>\n",
        "    <tr>\n",
        "      <th>5220083 </th>\n",
        "      <td>                    Continent</td>\n",
        "      <td>  404716</td>\n",
        "    </tr>\n",
        "    <tr>\n",
        "      <th>1513596 </th>\n",
        "      <td>                Communication</td>\n",
        "      <td>  390890</td>\n",
        "    </tr>\n",
        "  </tbody>\n",
        "</table>\n",
        "</div>"
       ],
       "metadata": {},
       "output_type": "pyout",
       "prompt_number": 6,
       "text": [
        "                               article  traversal visits\n",
        "1031718                      Existence           7400884\n",
        "3381363           Quality (philosophy)           7400884\n",
        "4495967                  Consciousness           7400884\n",
        "1020904                      Conscious           7400884\n",
        "973077                       Awareness           7400884\n",
        "7948850                     Philosophy           7400884\n",
        "7974918                        Reality           7400884\n",
        "4042014              Modern philosophy           7269259\n",
        "1584377          Property (philosophy)           7269255\n",
        "7062295                       Quantity           7259791\n",
        "6069882                    Mathematics           7255122\n",
        "2860219              Set (mathematics)           7079148\n",
        "7332038                    Explanation           6622934\n",
        "10976731                    Hypothesis           6616886\n",
        "5125755                     Experiment           6616203\n",
        "3512481                     Experience           6614083\n",
        "9387432                           Fact           6613815\n",
        "4514332                      Knowledge           6613248\n",
        "9531996                        Science           6444926\n",
        "6731720                Natural science           4633960\n",
        "9081904                        Biology           3400690\n",
        "4579566                Tribe (biology)           2028827\n",
        "5133222                       Hominini           2027606\n",
        "7799954                          Human           2027495\n",
        "5997652                          World           1509110\n",
        "8371182                      Community           1412646\n",
        "5587156                 State (polity)           1401610\n",
        "4178551                          Earth           1335477\n",
        "462809                       Geography           1297144\n",
        "4911286                       Organism            993743\n",
        "1101605                Human geography            910619\n",
        "9429023            Political geography            910554\n",
        "501901                         Country            910528\n",
        "2579735                        Physics            905296\n",
        "10256925               Political union            858725\n",
        "7160526                     Federation            858699\n",
        "2193                    Social science            835526\n",
        "6063250               Federal republic            723998\n",
        "7768454                  United States            645237\n",
        "6527028        Administrative division            466333\n",
        "7830566                           Data            455691\n",
        "4507680                    Information            425296\n",
        "2909326   Power (social and political)            417078\n",
        "2696928         Biological interaction            413946\n",
        "3386346          Competition (biology)            413936\n",
        "4513068                    Competition            413358\n",
        "6308195                          Sport            407781\n",
        "2147984                       Landmass            404722\n",
        "5220083                      Continent            404716\n",
        "1513596                  Communication            390890"
       ]
      }
     ],
     "prompt_number": 6
    },
    {
     "cell_type": "markdown",
     "metadata": {},
     "source": [
      "##How many articles are there?"
     ]
    },
    {
     "cell_type": "code",
     "collapsed": false,
     "input": [
      "df.count()"
     ],
     "language": "python",
     "metadata": {},
     "outputs": [
      {
       "metadata": {},
       "output_type": "pyout",
       "prompt_number": 7,
       "text": [
        "article             11277534\n",
        "traversal visits    11277534\n",
        "dtype: int64"
       ]
      }
     ],
     "prompt_number": 7
    },
    {
     "cell_type": "markdown",
     "metadata": {},
     "source": [
      "##How many articles have 0 traversal visits?"
     ]
    },
    {
     "cell_type": "code",
     "collapsed": false,
     "input": [
      "df[df['traversal visits'] == 0].count()"
     ],
     "language": "python",
     "metadata": {},
     "outputs": [
      {
       "metadata": {},
       "output_type": "pyout",
       "prompt_number": 6,
       "text": [
        "page      8567636\n",
        "visits    8567636\n",
        "dtype: int64"
       ]
      }
     ],
     "prompt_number": 6
    },
    {
     "cell_type": "markdown",
     "metadata": {},
     "source": [
      "##How many articles have fewer than 100 traversal visits?"
     ]
    },
    {
     "cell_type": "code",
     "collapsed": false,
     "input": [
      "df[df['traversal visits'] < 100].count()"
     ],
     "language": "python",
     "metadata": {},
     "outputs": [
      {
       "metadata": {},
       "output_type": "pyout",
       "prompt_number": 8,
       "text": [
        "article             11251449\n",
        "traversal visits    11251449\n",
        "dtype: int64"
       ]
      }
     ],
     "prompt_number": 8
    },
    {
     "cell_type": "markdown",
     "metadata": {},
     "source": [
      "##How many articles have more than 100 traversal visits?"
     ]
    },
    {
     "cell_type": "code",
     "collapsed": false,
     "input": [
      "df[df['traversal visits'] > 100].count()"
     ],
     "language": "python",
     "metadata": {},
     "outputs": [
      {
       "metadata": {},
       "output_type": "pyout",
       "prompt_number": 8,
       "text": [
        "page      25845\n",
        "visits    25845\n",
        "dtype: int64"
       ]
      }
     ],
     "prompt_number": 8
    },
    {
     "cell_type": "markdown",
     "metadata": {},
     "source": [
      "##What's the distribution of traversal visits?"
     ]
    },
    {
     "cell_type": "code",
     "collapsed": false,
     "input": [
      "plt.figure(figsize=(8,6))\n",
      "visits_plot1 = df['traversal visits'].head(10000).plot(kind='hist', title=\"Top 10,000 Articles\")\n",
      "visits_plot1.set_xlabel(\"traversal visits (millions)\")\n",
      "visits_plot1.set_ylabel(\"frequency\")"
     ],
     "language": "python",
     "metadata": {},
     "outputs": [
      {
       "metadata": {},
       "output_type": "pyout",
       "prompt_number": 19,
       "text": [
        "<matplotlib.text.Text at 0x20a85a290>"
       ]
      },
      {
       "metadata": {},
       "output_type": "display_data",
       "png": "[encoded data removed]",
       "text": [
        "<matplotlib.figure.Figure at 0x2099f7950>"
       ]
      }
     ],
     "prompt_number": 19
    },
    {
     "cell_type": "code",
     "collapsed": false,
     "input": [
      "plt.figure(figsize=(8,6))\n",
      "visits_plot2 = df['traversal visits'].head(1000).plot(kind='hist', title=\"Top 1,000 Articles\")\n",
      "visits_plot2.set_xlabel(\"traversal visits (millions)\")\n",
      "visits_plot2.set_ylabel(\"frequency\")\n",
      "\n",
      "#save figure\n",
      "plt.savefig(path+'top_1k_article_traversals.png', format='png', dpi=300, transparent=True, bbox_inches='tight')"
     ],
     "language": "python",
     "metadata": {},
     "outputs": [
      {
       "metadata": {},
       "output_type": "display_data",
       "png": "[encoded data removed]",
       "text": [
        "<matplotlib.figure.Figure at 0x115d0e690>"
       ]
      }
     ],
     "prompt_number": 20
    },
    {
     "cell_type": "code",
     "collapsed": false,
     "input": [
      "plt.figure(figsize=(8,6))\n",
      "visits_plot3 = df['traversal visits'].head(100).plot(kind='hist', title=\"Top 100 Articles\")\n",
      "visits_plot3.set_xlabel(\"traversal visits (millions)\")\n",
      "visits_plot3.set_ylabel(\"frequency\")\n",
      "\n",
      "#save figure\n",
      "plt.savefig(path+'top_100_article_traversals.png', format='png', dpi=300, transparent=True, bbox_inches='tight')"
     ],
     "language": "python",
     "metadata": {},
     "outputs": [
      {
       "metadata": {},
       "output_type": "display_data",
       "png": "[encoded data removed]",
       "text": [
        "<matplotlib.figure.Figure at 0x207c97f50>"
       ]
      }
     ],
     "prompt_number": 21
    },
    {
     "cell_type": "markdown",
     "metadata": {},
     "source": [
      "### all articles"
     ]
    },
    {
     "cell_type": "code",
     "collapsed": false,
     "input": [
      "plt.figure(figsize=(8,6))\n",
      "sns.violinplot(y='traversal visits', data=df)\n"
     ],
     "language": "python",
     "metadata": {},
     "outputs": [
      {
       "metadata": {},
       "output_type": "pyout",
       "prompt_number": 22,
       "text": [
        "<matplotlib.axes._subplots.AxesSubplot at 0x20cba3b90>"
       ]
      },
      {
       "metadata": {},
       "output_type": "display_data",
       "png": "[encoded data removed]",
       "text": [
        "<matplotlib.figure.Figure at 0x2051d8d50>"
       ]
      }
     ],
     "prompt_number": 22
    },
    {
     "cell_type": "code",
     "collapsed": false,
     "input": [
      "#log traversal visits\n",
      "plt.figure(figsize=(8,6))\n",
      "\n",
      "sns.violinplot(y='log(traversal visits)', data=df)\n"
     ],
     "language": "python",
     "metadata": {},
     "outputs": [
      {
       "metadata": {},
       "output_type": "pyout",
       "prompt_number": 23,
       "text": [
        "<matplotlib.axes._subplots.AxesSubplot at 0x20cba3410>"
       ]
      },
      {
       "metadata": {},
       "output_type": "display_data",
       "png": "[encoded data removed]",
       "text": [
        "<matplotlib.figure.Figure at 0x2086a82d0>"
       ]
      }
     ],
     "prompt_number": 23
    },
    {
     "cell_type": "code",
     "collapsed": false,
     "input": [
      "#traversal visists versus rank\n",
      "plt.figure(figsize=(8,6))\n",
      "\n",
      "plt.scatter(df[\"rank\"], df[\"traversal visits\"], color=\"#6495ED\")\n",
      "plt.title(\"Traversal Visits per Article\")\n",
      "plt.ylabel(\"Number of Traversal Visits\")\n",
      "plt.xlabel(\"Article Rank (by traversal visits)\")\n"
     ],
     "language": "python",
     "metadata": {},
     "outputs": [
      {
       "metadata": {},
       "output_type": "pyout",
       "prompt_number": 24,
       "text": [
        "<matplotlib.text.Text at 0x20bae16d0>"
       ]
      },
      {
       "metadata": {},
       "output_type": "display_data",
       "png": "[encoded data removed]",
       "text": [
        "<matplotlib.figure.Figure at 0x20e41a8d0>"
       ]
      }
     ],
     "prompt_number": 24
    },
    {
     "cell_type": "markdown",
     "metadata": {},
     "source": [
      "## On a Logarithmic Scale"
     ]
    },
    {
     "cell_type": "code",
     "collapsed": false,
     "input": [
      "#linear fit of log(rank) vs. log(traveral visits)\n",
      "slope, intercept, r_value, p_value, std_err = stats.linregress(df[\"log(rank)\"], df[\"log(traversal visits)\"])\n",
      "print slope, intercept, r_value, p_value, std_err \n"
     ],
     "language": "python",
     "metadata": {},
     "outputs": [
      {
       "output_type": "stream",
       "stream": "stdout",
       "text": [
        "-0.636060645731 9.99934534157 -0.930719619388 0.0 7.4428173313e-05\n"
       ]
      }
     ],
     "prompt_number": 11
    },
    {
     "cell_type": "code",
     "collapsed": false,
     "input": [
      "plt.figure(figsize=(8,6))\n",
      "\n",
      "plt.scatter(df[\"log(rank)\"], df[\"log(traversal visits)\"],  color=\"#F08080\", label=\"r-value = -0.93\")\n",
      "\n",
      "plt.title(\"log log\")\n",
      "plt.xlabel(\"log(rank)\")\n",
      "plt.ylabel(\"log(traversal visits)\")\n",
      "plt.legend()"
     ],
     "language": "python",
     "metadata": {},
     "outputs": [
      {
       "metadata": {},
       "output_type": "pyout",
       "prompt_number": 25,
       "text": [
        "<matplotlib.legend.Legend at 0x17fbf9510>"
       ]
      },
      {
       "metadata": {},
       "output_type": "display_data",
       "png": "[encoded data removed]",
       "text": [
        "<matplotlib.figure.Figure at 0x113ea3950>"
       ]
      }
     ],
     "prompt_number": 25
    },
    {
     "cell_type": "markdown",
     "metadata": {},
     "source": [
      "### Fit to a PowerLaw"
     ]
    },
    {
     "cell_type": "code",
     "collapsed": false,
     "input": [
      "plt.figure(figsize=(8,6))\n",
      "\n",
      "sns.distplot(df[\"traversal visits\"], kde=False, fit=stats.powerlaw)"
     ],
     "language": "python",
     "metadata": {},
     "outputs": [
      {
       "metadata": {},
       "output_type": "pyout",
       "prompt_number": 26,
       "text": [
        "<matplotlib.axes._subplots.AxesSubplot at 0x115541810>"
       ]
      },
      {
       "metadata": {},
       "output_type": "display_data",
       "png": "[encoded data removed]",
       "text": [
        "<matplotlib.figure.Figure at 0x113e28e10>"
       ]
      }
     ],
     "prompt_number": 26
    },
    {
     "cell_type": "markdown",
     "metadata": {},
     "source": [
      "### combined plot"
     ]
    },
    {
     "cell_type": "code",
     "collapsed": false,
     "input": [
      "#defaults\n",
      "sns.set()\n",
      "plt.figure(figsize=(8,6))\n",
      "\n",
      "plt.scatter(df[\"rank\"], df[\"traversal visits\"], color=\"#6495ED\")\n",
      "plt.title(\"Traversal Visits per Article\")\n",
      "plt.ylabel(\"Number of Traversal Visits\")\n",
      "plt.xlabel(\"Article Rank (by traversal visits)\")\n",
      "\n",
      "\n",
      "sns.set_style(\"dark\")\n",
      "#subplot in top corner\n",
      "a = plt.axes([.57, .56, .25, .25], axisbg='y')\n",
      "a.scatter(df[\"log(rank)\"], df[\"log(traversal visits)\"],  color=\"#F08080\", label=\"r-value = -0.93\")\n",
      "plt.title(\"log log\")\n",
      "plt.xlabel(\"log(rank)\")\n",
      "plt.ylabel(\"log(traversal visits)\")\n",
      "plt.legend()\n",
      "#no grid lines\n",
      "a.patch.set_alpha(0.1)\n",
      "\n",
      "#save figure\n",
      "plt.savefig(path+'traversals_per_article.png', format='png', dpi=300, transparent=True, bbox_inches='tight')\n",
      "\n",
      "#back to defaults\n",
      "sns.set()"
     ],
     "language": "python",
     "metadata": {},
     "outputs": [
      {
       "metadata": {},
       "output_type": "display_data",
       "png": "[encoded data removed]",
       "text": [
        "<matplotlib.figure.Figure at 0x16fbc9210>"
       ]
      }
     ],
     "prompt_number": 27
    },
    {
     "cell_type": "markdown",
     "metadata": {},
     "source": [
      "##Descriptive Statistics"
     ]
    },
    {
     "cell_type": "code",
     "collapsed": false,
     "input": [
      "df['traversal visits'].describe()"
     ],
     "language": "python",
     "metadata": {},
     "outputs": [
      {
       "metadata": {},
       "output_type": "pyout",
       "prompt_number": 15,
       "text": [
        "count    11277534.000000\n",
        "mean           20.603523\n",
        "std          9501.095584\n",
        "min             0.000000\n",
        "25%             0.000000\n",
        "50%             0.000000\n",
        "75%             0.000000\n",
        "max       7400884.000000\n",
        "Name: traversal visits, dtype: float64"
       ]
      }
     ],
     "prompt_number": 15
    },
    {
     "cell_type": "markdown",
     "metadata": {},
     "source": [
      "##A sample of articles with 0 traversal vists "
     ]
    },
    {
     "cell_type": "code",
     "collapsed": false,
     "input": [
      "df.sort(columns='traversal visits').head(50)\n"
     ],
     "language": "python",
     "metadata": {},
     "outputs": [
      {
       "html": [
        "<div style=\"max-height:1000px;max-width:1500px;overflow:auto;\">\n",
        "<table border=\"1\" class=\"dataframe\">\n",
        "  <thead>\n",
        "    <tr style=\"text-align: right;\">\n",
        "      <th></th>\n",
        "      <th>article</th>\n",
        "      <th>traversal visits</th>\n",
        "    </tr>\n",
        "  </thead>\n",
        "  <tbody>\n",
        "    <tr>\n",
        "      <th>5638766</th>\n",
        "      <td>                                         Topspin 3</td>\n",
        "      <td> 0</td>\n",
        "    </tr>\n",
        "    <tr>\n",
        "      <th>9645400</th>\n",
        "      <td>                                     Marco Zwyssig</td>\n",
        "      <td> 0</td>\n",
        "    </tr>\n",
        "    <tr>\n",
        "      <th>5840661</th>\n",
        "      <td>                                        Bobby Webb</td>\n",
        "      <td> 0</td>\n",
        "    </tr>\n",
        "    <tr>\n",
        "      <th>5840659</th>\n",
        "      <td>                            The Lord of the Nazg\u00fbl</td>\n",
        "      <td> 0</td>\n",
        "    </tr>\n",
        "    <tr>\n",
        "      <th>5840658</th>\n",
        "      <td>                                     Mansuri, Bafq</td>\n",
        "      <td> 0</td>\n",
        "    </tr>\n",
        "    <tr>\n",
        "      <th>5840657</th>\n",
        "      <td>                                Nyctemera fasciata</td>\n",
        "      <td> 0</td>\n",
        "    </tr>\n",
        "    <tr>\n",
        "      <th>5840656</th>\n",
        "      <td>                               Kiss of Life (film)</td>\n",
        "      <td> 0</td>\n",
        "    </tr>\n",
        "    <tr>\n",
        "      <th>9645402</th>\n",
        "      <td>                         Darreh-ye Gachi Ab Deyfeh</td>\n",
        "      <td> 0</td>\n",
        "    </tr>\n",
        "    <tr>\n",
        "      <th>5840654</th>\n",
        "      <td>                                        Billy Lang</td>\n",
        "      <td> 0</td>\n",
        "    </tr>\n",
        "    <tr>\n",
        "      <th>5840653</th>\n",
        "      <td>                                           911 gt3</td>\n",
        "      <td> 0</td>\n",
        "    </tr>\n",
        "    <tr>\n",
        "      <th>9645403</th>\n",
        "      <td>                                  Tony Clownarelli</td>\n",
        "      <td> 0</td>\n",
        "    </tr>\n",
        "    <tr>\n",
        "      <th>5840651</th>\n",
        "      <td>                                      James Molloy</td>\n",
        "      <td> 0</td>\n",
        "    </tr>\n",
        "    <tr>\n",
        "      <th>9645405</th>\n",
        "      <td>                                  Hitlerjunge Quex</td>\n",
        "      <td> 0</td>\n",
        "    </tr>\n",
        "    <tr>\n",
        "      <th>5840649</th>\n",
        "      <td>                                    Andrea Barberi</td>\n",
        "      <td> 0</td>\n",
        "    </tr>\n",
        "    <tr>\n",
        "      <th>5840648</th>\n",
        "      <td>                                1961-62 nhl season</td>\n",
        "      <td> 0</td>\n",
        "    </tr>\n",
        "    <tr>\n",
        "      <th>5840647</th>\n",
        "      <td>                       Jurassic Park (film series)</td>\n",
        "      <td> 0</td>\n",
        "    </tr>\n",
        "    <tr>\n",
        "      <th>9645406</th>\n",
        "      <td>                                     Roberto cabot</td>\n",
        "      <td> 0</td>\n",
        "    </tr>\n",
        "    <tr>\n",
        "      <th>5840645</th>\n",
        "      <td>                                        Al Najjada</td>\n",
        "      <td> 0</td>\n",
        "    </tr>\n",
        "    <tr>\n",
        "      <th>9645407</th>\n",
        "      <td>          2011\u201312 Biathlon World Cup \u2013 World Cup 8</td>\n",
        "      <td> 0</td>\n",
        "    </tr>\n",
        "    <tr>\n",
        "      <th>5840643</th>\n",
        "      <td>                        Dog Eat Dog (US game show)</td>\n",
        "      <td> 0</td>\n",
        "    </tr>\n",
        "    <tr>\n",
        "      <th>5840642</th>\n",
        "      <td>                                         Koraku-en</td>\n",
        "      <td> 0</td>\n",
        "    </tr>\n",
        "    <tr>\n",
        "      <th>9645408</th>\n",
        "      <td>                          Cowiedesmus eroticopodus</td>\n",
        "      <td> 0</td>\n",
        "    </tr>\n",
        "    <tr>\n",
        "      <th>5840640</th>\n",
        "      <td>                                          Kynzvart</td>\n",
        "      <td> 0</td>\n",
        "    </tr>\n",
        "    <tr>\n",
        "      <th>5840639</th>\n",
        "      <td>                                Astrological house</td>\n",
        "      <td> 0</td>\n",
        "    </tr>\n",
        "    <tr>\n",
        "      <th>5840638</th>\n",
        "      <td>                               Underwater Football</td>\n",
        "      <td> 0</td>\n",
        "    </tr>\n",
        "    <tr>\n",
        "      <th>5840637</th>\n",
        "      <td>                                     Doggie kruger</td>\n",
        "      <td> 0</td>\n",
        "    </tr>\n",
        "    <tr>\n",
        "      <th>5840636</th>\n",
        "      <td>                            No Doubt (Petra album)</td>\n",
        "      <td> 0</td>\n",
        "    </tr>\n",
        "    <tr>\n",
        "      <th>5840635</th>\n",
        "      <td>                                     Chala Bagundi</td>\n",
        "      <td> 0</td>\n",
        "    </tr>\n",
        "    <tr>\n",
        "      <th>5840634</th>\n",
        "      <td>                                    A Killer Wthin</td>\n",
        "      <td> 0</td>\n",
        "    </tr>\n",
        "    <tr>\n",
        "      <th>5840633</th>\n",
        "      <td>                                   Paul Chesterton</td>\n",
        "      <td> 0</td>\n",
        "    </tr>\n",
        "    <tr>\n",
        "      <th>5840664</th>\n",
        "      <td>                                   Matt de la Pena</td>\n",
        "      <td> 0</td>\n",
        "    </tr>\n",
        "    <tr>\n",
        "      <th>5840632</th>\n",
        "      <td>                Mount Cook (Saint Elias Mountains)</td>\n",
        "      <td> 0</td>\n",
        "    </tr>\n",
        "    <tr>\n",
        "      <th>9645398</th>\n",
        "      <td>                                  Peter J. Conradi</td>\n",
        "      <td> 0</td>\n",
        "    </tr>\n",
        "    <tr>\n",
        "      <th>5840667</th>\n",
        "      <td> 1990 European Athletics Championships - Women'...</td>\n",
        "      <td> 0</td>\n",
        "    </tr>\n",
        "    <tr>\n",
        "      <th>9645392</th>\n",
        "      <td>                      Kumkum..Ek Pyaara Sa Bandhan</td>\n",
        "      <td> 0</td>\n",
        "    </tr>\n",
        "    <tr>\n",
        "      <th>9645393</th>\n",
        "      <td>                                   Thalia dealbata</td>\n",
        "      <td> 0</td>\n",
        "    </tr>\n",
        "    <tr>\n",
        "      <th>5840694</th>\n",
        "      <td>                                      Mt. Davidson</td>\n",
        "      <td> 0</td>\n",
        "    </tr>\n",
        "    <tr>\n",
        "      <th>5840693</th>\n",
        "      <td>                                         Gum trees</td>\n",
        "      <td> 0</td>\n",
        "    </tr>\n",
        "    <tr>\n",
        "      <th>5840692</th>\n",
        "      <td>                                           Bekhaye</td>\n",
        "      <td> 0</td>\n",
        "    </tr>\n",
        "    <tr>\n",
        "      <th>5840691</th>\n",
        "      <td>                                   Lonsdale Street</td>\n",
        "      <td> 0</td>\n",
        "    </tr>\n",
        "    <tr>\n",
        "      <th>5840690</th>\n",
        "      <td>                          Ecumenical views of Mary</td>\n",
        "      <td> 0</td>\n",
        "    </tr>\n",
        "    <tr>\n",
        "      <th>5840689</th>\n",
        "      <td>                         Beatrice M. Tinsley Prize</td>\n",
        "      <td> 0</td>\n",
        "    </tr>\n",
        "    <tr>\n",
        "      <th>5840688</th>\n",
        "      <td>                                  Joanne C. Benson</td>\n",
        "      <td> 0</td>\n",
        "    </tr>\n",
        "    <tr>\n",
        "      <th>5840687</th>\n",
        "      <td>                     Anonymus Belae regis notarius</td>\n",
        "      <td> 0</td>\n",
        "    </tr>\n",
        "    <tr>\n",
        "      <th>9645394</th>\n",
        "      <td>                                   Chinese Palaces</td>\n",
        "      <td> 0</td>\n",
        "    </tr>\n",
        "    <tr>\n",
        "      <th>5840685</th>\n",
        "      <td>                              Western high plateau</td>\n",
        "      <td> 0</td>\n",
        "    </tr>\n",
        "    <tr>\n",
        "      <th>5840684</th>\n",
        "      <td>                     Sir Derek Milman, 9th Baronet</td>\n",
        "      <td> 0</td>\n",
        "    </tr>\n",
        "    <tr>\n",
        "      <th>5840683</th>\n",
        "      <td>                                          Deghtzut</td>\n",
        "      <td> 0</td>\n",
        "    </tr>\n",
        "    <tr>\n",
        "      <th>5840682</th>\n",
        "      <td>                      Boulengerochromis microlepis</td>\n",
        "      <td> 0</td>\n",
        "    </tr>\n",
        "    <tr>\n",
        "      <th>5840681</th>\n",
        "      <td>                          List of butterflies Niue</td>\n",
        "      <td> 0</td>\n",
        "    </tr>\n",
        "  </tbody>\n",
        "</table>\n",
        "</div>"
       ],
       "metadata": {},
       "output_type": "pyout",
       "prompt_number": 16,
       "text": [
        "                                                   article  traversal visits\n",
        "5638766                                          Topspin 3                 0\n",
        "9645400                                      Marco Zwyssig                 0\n",
        "5840661                                         Bobby Webb                 0\n",
        "5840659                             The Lord of the Nazg\u00fbl                 0\n",
        "5840658                                      Mansuri, Bafq                 0\n",
        "5840657                                 Nyctemera fasciata                 0\n",
        "5840656                                Kiss of Life (film)                 0\n",
        "9645402                          Darreh-ye Gachi Ab Deyfeh                 0\n",
        "5840654                                         Billy Lang                 0\n",
        "5840653                                            911 gt3                 0\n",
        "9645403                                   Tony Clownarelli                 0\n",
        "5840651                                       James Molloy                 0\n",
        "9645405                                   Hitlerjunge Quex                 0\n",
        "5840649                                     Andrea Barberi                 0\n",
        "5840648                                 1961-62 nhl season                 0\n",
        "5840647                        Jurassic Park (film series)                 0\n",
        "9645406                                      Roberto cabot                 0\n",
        "5840645                                         Al Najjada                 0\n",
        "9645407           2011\u201312 Biathlon World Cup \u2013 World Cup 8                 0\n",
        "5840643                         Dog Eat Dog (US game show)                 0\n",
        "5840642                                          Koraku-en                 0\n",
        "9645408                           Cowiedesmus eroticopodus                 0\n",
        "5840640                                           Kynzvart                 0\n",
        "5840639                                 Astrological house                 0\n",
        "5840638                                Underwater Football                 0\n",
        "5840637                                      Doggie kruger                 0\n",
        "5840636                             No Doubt (Petra album)                 0\n",
        "5840635                                      Chala Bagundi                 0\n",
        "5840634                                     A Killer Wthin                 0\n",
        "5840633                                    Paul Chesterton                 0\n",
        "5840664                                    Matt de la Pena                 0\n",
        "5840632                 Mount Cook (Saint Elias Mountains)                 0\n",
        "9645398                                   Peter J. Conradi                 0\n",
        "5840667  1990 European Athletics Championships - Women'...                 0\n",
        "9645392                       Kumkum..Ek Pyaara Sa Bandhan                 0\n",
        "9645393                                    Thalia dealbata                 0\n",
        "5840694                                       Mt. Davidson                 0\n",
        "5840693                                          Gum trees                 0\n",
        "5840692                                            Bekhaye                 0\n",
        "5840691                                    Lonsdale Street                 0\n",
        "5840690                           Ecumenical views of Mary                 0\n",
        "5840689                          Beatrice M. Tinsley Prize                 0\n",
        "5840688                                   Joanne C. Benson                 0\n",
        "5840687                      Anonymus Belae regis notarius                 0\n",
        "9645394                                    Chinese Palaces                 0\n",
        "5840685                               Western high plateau                 0\n",
        "5840684                      Sir Derek Milman, 9th Baronet                 0\n",
        "5840683                                           Deghtzut                 0\n",
        "5840682                       Boulengerochromis microlepis                 0\n",
        "5840681                           List of butterflies Niue                 0"
       ]
      }
     ],
     "prompt_number": 16
    }
   ],
   "metadata": {}
  }
 ]
}