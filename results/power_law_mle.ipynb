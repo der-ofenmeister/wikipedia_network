{
 "cells": [
  {
   "cell_type": "markdown",
   "metadata": {},
   "source": [
    "## Degree Distribution Power Law"
   ]
  },
  {
   "cell_type": "code",
   "execution_count": 1,
   "metadata": {
    "collapsed": false
   },
   "outputs": [
    {
     "name": "stderr",
     "output_type": "stream",
     "text": [
      "/usr/local/lib/python2.7/site-packages/IPython/html.py:14: ShimWarning: The `IPython.html` package has been deprecated. You should import from `notebook` instead. `IPython.html.widgets` has moved to `ipywidgets`.\n",
      "  \"`IPython.html.widgets` has moved to `ipywidgets`.\", ShimWarning)\n"
     ]
    }
   ],
   "source": [
    "from collections import defaultdict\n",
    "\n",
    "import powerlaw\n",
    "import pandas as pd\n",
    "from scipy import stats \n",
    "import numpy as np\n",
    "import json\n",
    "\n",
    "import matplotlib.pyplot as plt\n",
    "%matplotlib inline\n",
    "import seaborn as sns\n",
    "\n",
    "path = \"/Users/mark/Dropbox/Math/Complex_Systems/research/wikipedia-network/paper/writeup/graphics/\"\n",
    "results_path = \"/Users/mark/Desktop/wiki_v4/\"\n"
   ]
  },
  {
   "cell_type": "code",
   "execution_count": 2,
   "metadata": {
    "collapsed": true
   },
   "outputs": [],
   "source": [
    "#load ndegree data\n",
    "\n",
    "with open(results_path + 'direct_links.json', 'r') as fp:\n",
    "    direct_links = json.load(fp)\n",
    "\n",
    "dldf = pd.DataFrame(direct_links.items())\n",
    "dldf.columns = ['article', 'direct links']\n",
    "\n",
    "#add ndegree dataframe column\n",
    "l = lambda x: len(x)\n",
    "dldf['indegree'] = dldf['direct links'].map(l)"
   ]
  },
  {
   "cell_type": "code",
   "execution_count": null,
   "metadata": {
    "collapsed": true
   },
   "outputs": [],
   "source": []
  },
  {
   "cell_type": "code",
   "execution_count": 3,
   "metadata": {
    "collapsed": false
   },
   "outputs": [
    {
     "name": "stderr",
     "output_type": "stream",
     "text": [
      "Calculating best minimal value for power law fit\n"
     ]
    }
   ],
   "source": [
    "powerlaw_fit_degree = powerlaw.Fit(dldf['indegree'])"
   ]
  },
  {
   "cell_type": "code",
   "execution_count": 4,
   "metadata": {
    "collapsed": false
   },
   "outputs": [
    {
     "data": {
      "text/plain": [
       "2.1344256649515962"
      ]
     },
     "execution_count": 4,
     "metadata": {},
     "output_type": "execute_result"
    }
   ],
   "source": [
    "powerlaw_fit_degree.alpha"
   ]
  },
  {
   "cell_type": "code",
   "execution_count": 12,
   "metadata": {
    "collapsed": false
   },
   "outputs": [
    {
     "data": {
      "text/plain": [
       "0.016659148120412914"
      ]
     },
     "execution_count": 12,
     "metadata": {},
     "output_type": "execute_result"
    }
   ],
   "source": [
    "powerlaw_fit_degree.power_law.V"
   ]
  },
  {
   "cell_type": "code",
   "execution_count": 11,
   "metadata": {
    "collapsed": false
   },
   "outputs": [],
   "source": [
    "R, p = powerlaw_fit_degree.distribution_compare('power_law', 'lognormal')"
   ]
  },
  {
   "cell_type": "code",
   "execution_count": 12,
   "metadata": {
    "collapsed": false
   },
   "outputs": [
    {
     "name": "stdout",
     "output_type": "stream",
     "text": [
      "R:  0.0314193446207\n",
      "p:  0.623396177746\n"
     ]
    }
   ],
   "source": [
    "print \"R: \", R\n",
    "print \"p: \", p"
   ]
  },
  {
   "cell_type": "code",
   "execution_count": null,
   "metadata": {
    "collapsed": true
   },
   "outputs": [],
   "source": []
  },
  {
   "cell_type": "markdown",
   "metadata": {},
   "source": [
    "## Traversal Visits Power Law"
   ]
  },
  {
   "cell_type": "code",
   "execution_count": 13,
   "metadata": {
    "collapsed": false
   },
   "outputs": [
    {
     "name": "stderr",
     "output_type": "stream",
     "text": [
      "/usr/local/lib/python2.7/site-packages/ipykernel/__main__.py:9: FutureWarning: sort(columns=....) is deprecated, use sort_values(by=.....)\n"
     ]
    }
   ],
   "source": [
    "#load results into dataframe (~ 1min runtime)\n",
    "\n",
    "results_path = \"/Users/mark/Desktop/wiki_v4/\"\n",
    "with open(results_path + \"clicks.json\") as f:\n",
    "    dict = json.load(f)\n",
    "df = pd.DataFrame(dict.items())\n",
    "df.columns = ['article', 'traversal visits']\n",
    "\n",
    "df = df.sort(columns='traversal visits', ascending=False)\n",
    "df['traversal visits (m)'] = df['traversal visits'] / 1000000"
   ]
  },
  {
   "cell_type": "code",
   "execution_count": 15,
   "metadata": {
    "collapsed": false
   },
   "outputs": [
    {
     "name": "stderr",
     "output_type": "stream",
     "text": [
      "Values less than or equal to 0 in data. Throwing out 0 or negative values\n",
      "Calculating best minimal value for power law fit"
     ]
    },
    {
     "name": "stdout",
     "output_type": "stream",
     "text": [
      "alpha:  1.72123556426\n",
      "R:  -0.00189996945103\n",
      "p:  0.989470057943\n"
     ]
    },
    {
     "name": "stderr",
     "output_type": "stream",
     "text": [
      "\n"
     ]
    }
   ],
   "source": [
    "powerlaw_fit_visits = powerlaw.Fit(df['traversal visits'])\n",
    "R, p = powerlaw_fit_visits.distribution_compare('power_law', 'lognormal')\n",
    "print \"alpha: \", powerlaw_fit_visits.alpha\n",
    "print \"R: \", R\n",
    "print \"p: \", p"
   ]
  },
  {
   "cell_type": "markdown",
   "metadata": {
    "collapsed": true
   },
   "source": [
    "## Notes\n",
    "* Powerfit will create a table for you"
   ]
  },
  {
   "cell_type": "code",
   "execution_count": null,
   "metadata": {
    "collapsed": true
   },
   "outputs": [],
   "source": []
  }
 ],
 "metadata": {
  "kernelspec": {
   "display_name": "Python 2",
   "language": "python",
   "name": "python2"
  },
  "language_info": {
   "codemirror_mode": {
    "name": "ipython",
    "version": 2
   },
   "file_extension": ".py",
   "mimetype": "text/x-python",
   "name": "python",
   "nbconvert_exporter": "python",
   "pygments_lexer": "ipython2",
   "version": "2.7.11"
  }
 },
 "nbformat": 4,
 "nbformat_minor": 0
}
