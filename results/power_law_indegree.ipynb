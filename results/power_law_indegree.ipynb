{
 "cells": [
  {
   "cell_type": "markdown",
   "metadata": {},
   "source": [
    "## Degree Distribution Power Law"
   ]
  },
  {
   "cell_type": "code",
   "execution_count": 1,
   "metadata": {
    "collapsed": false
   },
   "outputs": [],
   "source": [
    "from collections import defaultdict\n",
    "\n",
    "import powerlaw\n",
    "import pandas as pd\n",
    "from scipy import stats \n",
    "import numpy as np\n",
    "import json\n",
    "\n",
    "import matplotlib.pyplot as plt\n",
    "%matplotlib inline\n",
    "import seaborn as sns\n",
    "\n",
    "path = \"/Users/mark/Dropbox/Math/Complex_Systems/research/wikipedia-network/paper/writeup/graphics/\"\n",
    "results_path = \"/Users/mark/Desktop/wiki_v4/\"\n"
   ]
  },
  {
   "cell_type": "code",
   "execution_count": 2,
   "metadata": {
    "collapsed": true
   },
   "outputs": [],
   "source": [
    "#load ndegree data\n",
    "\n",
    "with open(results_path + 'direct_links.json', 'r') as fp:\n",
    "    direct_links = json.load(fp)\n",
    "\n",
    "dldf = pd.DataFrame(direct_links.items())\n",
    "dldf.columns = ['article', 'direct links']\n",
    "\n",
    "#add ndegree dataframe column\n",
    "l = lambda x: len(x)\n",
    "dldf['indegree'] = dldf['direct links'].map(l)"
   ]
  },
  {
   "cell_type": "markdown",
   "metadata": {
    "collapsed": true
   },
   "source": [
    "## Estimate Fit"
   ]
  },
  {
   "cell_type": "code",
   "execution_count": 3,
   "metadata": {
    "collapsed": false
   },
   "outputs": [
    {
     "name": "stderr",
     "output_type": "stream",
     "text": [
      "Calculating best minimal value for power law fit\n"
     ]
    },
    {
     "name": "stdout",
     "output_type": "stream",
     "text": [
      "alpha:  2.43906928286\n",
      "gamma:  1.40999245369\n",
      "xmin:  5.0\n",
      "Kolmogorov Distance:  0.00842867223018\n"
     ]
    }
   ],
   "source": [
    "powerlaw_fit_degree = powerlaw.Fit(dldf['indegree'], discrete=True)\n",
    "print \"alpha: \", powerlaw_fit_degree.alpha\n",
    "print \"gamma: \", 1 / powerlaw_fit_degree.alpha + 1\n",
    "print \"xmin: \", powerlaw_fit_degree.xmin\n",
    "print \"Kolmogorov Distance: \", powerlaw_fit_degree.D"
   ]
  },
  {
   "cell_type": "code",
   "execution_count": 10,
   "metadata": {
    "collapsed": false
   },
   "outputs": [
    {
     "name": "stdout",
     "output_type": "stream",
     "text": [
      "xmax: None\n"
     ]
    }
   ],
   "source": [
    "print \"xmax:\", powerlaw_fit_degree.xmax"
   ]
  },
  {
   "cell_type": "code",
   "execution_count": 6,
   "metadata": {
    "collapsed": false
   },
   "outputs": [
    {
     "data": {
      "text/plain": [
       "1.4098360655737705"
      ]
     },
     "execution_count": 6,
     "metadata": {},
     "output_type": "execute_result"
    }
   ],
   "source": [
    "1/2.44 + 1"
   ]
  },
  {
   "cell_type": "markdown",
   "metadata": {},
   "source": [
    "# Visualize Fit"
   ]
  },
  {
   "cell_type": "markdown",
   "metadata": {},
   "source": [
    "## Log-Log"
   ]
  },
  {
   "cell_type": "code",
   "execution_count": 4,
   "metadata": {
    "collapsed": false
   },
   "outputs": [],
   "source": [
    "dldf_sorted = dldf.sort_values(by='indegree', ascending=False)\n",
    "dldf_sorted['rank'] = np.arange(1, dldf_sorted.shape[0]+1)\n"
   ]
  },
  {
   "cell_type": "code",
   "execution_count": 17,
   "metadata": {
    "collapsed": false
   },
   "outputs": [
    {
     "data": {
      "text/plain": [
       "(-0.1, 100000.0)"
      ]
     },
     "execution_count": 17,
     "metadata": {},
     "output_type": "execute_result"
    },
    {
     "data": {
      "image/png": "[encoded data removed]",
      "text/plain": [
       "<matplotlib.figure.Figure at 0x11cd67810>"
      ]
     },
     "metadata": {},
     "output_type": "display_data"
    }
   ],
   "source": [
    "plt.scatter(dldf_sorted['rank'], dldf_sorted['indegree'], color=\"#F08080\")\n",
    "plt.xlabel(\"$\\log_{10}$(rank)\", fontsize=14)\n",
    "plt.ylabel(\"$\\log_{10}$(in-degree)\", fontsize=14)\n",
    "#make axis font size larger\n",
    "plt.tick_params(axis='both', which='major', labelsize=14)\n",
    "plt.legend(fontsize=14)\n",
    "\n",
    "#change axis labeling to 10^#\n",
    "axis = plt.gca()\n",
    "\n",
    "#symlog accomodates indegree of 0 \n",
    "axis.set_yscale('symlog')\n",
    "axis.set_xscale('symlog')\n",
    "\n",
    "#restrict negative values for x and y-axes\n",
    "plt.gca().set_xlim(left=0)\n",
    "plt.gca().set_ylim(bottom=-.1)"
   ]
  },
  {
   "cell_type": "markdown",
   "metadata": {},
   "source": [
    "## Plot againt Estimated Power Law "
   ]
  },
  {
   "cell_type": "code",
   "execution_count": 7,
   "metadata": {
    "collapsed": true
   },
   "outputs": [],
   "source": [
    "from matplotlib.ticker import MaxNLocator"
   ]
  },
  {
   "cell_type": "code",
   "execution_count": 11,
   "metadata": {
    "collapsed": false
   },
   "outputs": [
    {
     "data": {
      "text/plain": [
       "<matplotlib.legend.Legend at 0x123b0bc10>"
      ]
     },
     "execution_count": 11,
     "metadata": {},
     "output_type": "execute_result"
    },
    {
     "data": {
      "image/png": "[encoded data removed]",
      "text/plain": [
       "<matplotlib.figure.Figure at 0x11bf97790>"
      ]
     },
     "metadata": {},
     "output_type": "display_data"
    }
   ],
   "source": [
    "figCCDF = powerlaw_fit_degree.plot_pdf(color='r', linewidth=2)\n",
    "powerlaw_fit_degree.power_law.plot_pdf(color='g', linestyle='--', ax=figCCDF, \n",
    "                                       label=\"power law fit\\n\"+ r'$\\alpha$ = 2.4,' + r'$\\gamma$ = 1.41')\n",
    "plt.tick_params(axis='both', which='major', labelsize=14)\n",
    "\n",
    "\n",
    "#fewer y-axis ticks\n",
    "yticks = plt.gca().yaxis.get_major_ticks()\n",
    "for i, y_l in enumerate(yticks):\n",
    "    if i % 2 == 0:\n",
    "        y_l.label1.set_visible(False)\n",
    "    \n",
    "#extend axis views\n",
    "plt.gca().set_xlim(right=10**7)\n",
    "plt.gca().set_ylim(bottom=10**(-13))\n",
    "\n",
    "\n",
    "plt.ylabel(\"PDF\", fontsize=14)\n",
    "plt.xlabel(\"in-degree\", fontsize=14)\n",
    "plt.legend(numpoints=2, fontsize=14)"
   ]
  },
  {
   "cell_type": "markdown",
   "metadata": {},
   "source": [
    "## Combined Plot"
   ]
  },
  {
   "cell_type": "code",
   "execution_count": 5,
   "metadata": {
    "collapsed": false
   },
   "outputs": [
    {
     "data": {
      "image/png": "[encoded data removed]",
      "text/plain": [
       "<matplotlib.figure.Figure at 0x119f04050>"
      ]
     },
     "metadata": {},
     "output_type": "display_data"
    }
   ],
   "source": [
    "#defaults\n",
    "sns.set()\n",
    "plt.figure(figsize=(8,6))\n",
    "\n",
    "plt.scatter(dldf_sorted['rank'], dldf_sorted['indegree'], color=\"#F08080\", label=None)\n",
    "plt.xlabel(\"rank\", fontsize=14)\n",
    "plt.ylabel(\"in-degree\", fontsize=14)\n",
    "#make axis font size larger\n",
    "plt.tick_params(axis='both', which='major', labelsize=14)\n",
    "\n",
    "\n",
    "#change axis labeling to 10^#\n",
    "axis = plt.gca()\n",
    "#symlog accomodates indegree of 0 \n",
    "axis.set_yscale('symlog')\n",
    "axis.set_xscale('symlog')\n",
    "\n",
    "#restrict negative values for x and y-axes\n",
    "plt.gca().set_xlim(left=0, right=10**8)\n",
    "plt.gca().set_ylim(bottom=-.1, top=10**7)\n",
    "\n",
    "sns.set_style(\"dark\")\n",
    "#subplot in top corner\n",
    "a = plt.axes([.50, .53, .38, .34], axisbg='y')\n",
    "\n",
    "figCCDF = powerlaw_fit_degree.plot_pdf(color='r', linewidth=2)\n",
    "powerlaw_fit_degree.power_law.plot_pdf(color='g', linestyle='--', ax=figCCDF, \n",
    "                                       label=\"power law fit\\n\"+ r'$\\alpha \\simeq$ 2.44,' + r'$\\gamma \\simeq$ 1.41')\n",
    "\n",
    "#axis labels and cutoff\n",
    "plt.ylabel(\"PDF\", fontsize=14)\n",
    "plt.xlabel(\"in-degree\", fontsize=14)\n",
    "a.set_xlim(left=1.1, right=10**7)\n",
    "\n",
    "#fewer y-axis ticks\n",
    "yticks = plt.gca().yaxis.get_major_ticks()\n",
    "for i, y_l in enumerate(yticks):\n",
    "    if i % 2 == 0:\n",
    "        y_l.label1.set_visible(False)\n",
    "\n",
    "plt.tick_params(axis='both', which='major', labelsize=14)\n",
    "plt.legend(fontsize=14, loc=1, numpoints=2)\n",
    "\n",
    "#transparent\n",
    "a.patch.set_alpha(0.1)\n",
    "\n",
    "#reset defaults\n",
    "sns.set()\n",
    "\n",
    "#save figure\n",
    "plt.savefig(path+'ndegree_loglog.png', format='png', dpi=300, bbox_inches='tight')"
   ]
  },
  {
   "cell_type": "code",
   "execution_count": null,
   "metadata": {
    "collapsed": true
   },
   "outputs": [],
   "source": []
  },
  {
   "cell_type": "markdown",
   "metadata": {},
   "source": [
    "## Compare against Alternative Distributions\n",
    "\n",
    "* R is the log likelihood ratio\n",
    "* p is the p-value based on a Kolmogorov-Smirnov Test"
   ]
  },
  {
   "cell_type": "code",
   "execution_count": 57,
   "metadata": {
    "collapsed": false
   },
   "outputs": [
    {
     "name": "stdout",
     "output_type": "stream",
     "text": [
      "R:  -6.30857104609\n",
      "p:  0.363811230336\n"
     ]
    }
   ],
   "source": [
    "R, p = powerlaw_fit_degree.distribution_compare('power_law', 'lognormal')\n",
    "print \"R: \", R\n",
    "print \"p: \", p"
   ]
  },
  {
   "cell_type": "code",
   "execution_count": 58,
   "metadata": {
    "collapsed": false
   },
   "outputs": [
    {
     "name": "stdout",
     "output_type": "stream",
     "text": [
      "R:  250021.31546\n",
      "p:  0.0\n"
     ]
    }
   ],
   "source": [
    "R, p = powerlaw_fit_degree.distribution_compare('power_law', 'exponential')\n",
    "print \"R: \", R\n",
    "print \"p: \", p"
   ]
  },
  {
   "cell_type": "code",
   "execution_count": 61,
   "metadata": {
    "collapsed": false
   },
   "outputs": [
    {
     "name": "stdout",
     "output_type": "stream",
     "text": [
      "R:  36904.7776646\n",
      "p:  3.93919872913e-50\n"
     ]
    }
   ],
   "source": [
    "R, p = powerlaw_fit_degree.distribution_compare('power_law', 'stretched_exponential')\n",
    "print \"R: \", R\n",
    "print \"p: \", p"
   ]
  },
  {
   "cell_type": "code",
   "execution_count": 59,
   "metadata": {
    "collapsed": false
   },
   "outputs": [
    {
     "name": "stdout",
     "output_type": "stream",
     "text": [
      "R:  -26.2007368021\n",
      "p:  4.52415882535e-13\n"
     ]
    },
    {
     "name": "stderr",
     "output_type": "stream",
     "text": [
      "Assuming nested distributions\n"
     ]
    }
   ],
   "source": [
    "R, p = powerlaw_fit_degree.distribution_compare('power_law', 'truncated_power_law')\n",
    "print \"R: \", R\n",
    "print \"p: \", p"
   ]
  },
  {
   "cell_type": "code",
   "execution_count": null,
   "metadata": {
    "collapsed": true
   },
   "outputs": [],
   "source": []
  }
 ],
 "metadata": {
  "kernelspec": {
   "display_name": "Python 2",
   "language": "python",
   "name": "python2"
  },
  "language_info": {
   "codemirror_mode": {
    "name": "ipython",
    "version": 2
   },
   "file_extension": ".py",
   "mimetype": "text/x-python",
   "name": "python",
   "nbconvert_exporter": "python",
   "pygments_lexer": "ipython2",
   "version": "2.7.11"
  }
 },
 "nbformat": 4,
 "nbformat_minor": 0
}
