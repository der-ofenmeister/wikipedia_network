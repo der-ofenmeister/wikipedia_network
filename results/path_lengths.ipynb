{
 "cells": [
  {
   "cell_type": "markdown",
   "metadata": {},
   "source": [
    "# Path Lengths"
   ]
  },
  {
   "cell_type": "code",
   "execution_count": 1,
   "metadata": {
    "collapsed": false
   },
   "outputs": [
    {
     "name": "stderr",
     "output_type": "stream",
     "text": [
      "/usr/local/lib/python2.7/site-packages/IPython/html.py:14: ShimWarning: The `IPython.html` package has been deprecated. You should import from `notebook` instead. `IPython.html.widgets` has moved to `ipywidgets`.\n",
      "  \"`IPython.html.widgets` has moved to `ipywidgets`.\", ShimWarning)\n"
     ]
    }
   ],
   "source": [
    "import pandas as pd\n",
    "import numpy as np\n",
    "import json\n",
    "\n",
    "import matplotlib.pyplot as plt\n",
    "%matplotlib inline\n",
    "import seaborn as sns\n",
    "\n",
    "path = \"/Users/mark/Dropbox/Math/Complex_Systems/research/wikipedia-network/paper/writeup/graphics/\""
   ]
  },
  {
   "cell_type": "code",
   "execution_count": 2,
   "metadata": {
    "collapsed": false
   },
   "outputs": [],
   "source": [
    "#load results into dataframe (~ 1min runtime)\n",
    "\n",
    "results_path = \"/Users/mark/Desktop/wiki_v4/\"\n",
    "with open(results_path + \"lengths.json\") as f:\n",
    "    dict = json.load(f)\n",
    "df = pd.DataFrame(dict.items())\n",
    "df.columns = ['page', 'path length']"
   ]
  },
  {
   "cell_type": "markdown",
   "metadata": {},
   "source": [
    "## Articles with the Longest Path Length \n",
    "**path length:** number of first link traversals up to a repeated article or an invalid link"
   ]
  },
  {
   "cell_type": "code",
   "execution_count": 6,
   "metadata": {
    "collapsed": false
   },
   "outputs": [
    {
     "data": {
      "text/html": [
       "<div style=\"max-height:1000px;max-width:1500px;overflow:auto;\">\n",
       "<table border=\"1\" class=\"dataframe\">\n",
       "  <thead>\n",
       "    <tr style=\"text-align: right;\">\n",
       "      <th></th>\n",
       "      <th>page</th>\n",
       "      <th>path length</th>\n",
       "    </tr>\n",
       "  </thead>\n",
       "  <tbody>\n",
       "    <tr>\n",
       "      <th>3822443 </th>\n",
       "      <td>    Holy fathers slain at sinai and raithu</td>\n",
       "      <td> 366</td>\n",
       "    </tr>\n",
       "    <tr>\n",
       "      <th>4307586 </th>\n",
       "      <td>                         Martyrs of Raithu</td>\n",
       "      <td> 366</td>\n",
       "    </tr>\n",
       "    <tr>\n",
       "      <th>348831  </th>\n",
       "      <td>   Holly fathers slain at Sinai and Raithu</td>\n",
       "      <td> 366</td>\n",
       "    </tr>\n",
       "    <tr>\n",
       "      <th>5246648 </th>\n",
       "      <td>   January 19 (Eastern Orthodox liturgics)</td>\n",
       "      <td> 365</td>\n",
       "    </tr>\n",
       "    <tr>\n",
       "      <th>4725606 </th>\n",
       "      <td>      March 5 (Eastern Orthodox liturgics)</td>\n",
       "      <td> 365</td>\n",
       "    </tr>\n",
       "    <tr>\n",
       "      <th>6494442 </th>\n",
       "      <td>         September 12 (Orthodox Liturgics)</td>\n",
       "      <td> 365</td>\n",
       "    </tr>\n",
       "    <tr>\n",
       "      <th>3852463 </th>\n",
       "      <td>      June 28 (Eastern Orthodox liturgics)</td>\n",
       "      <td> 365</td>\n",
       "    </tr>\n",
       "    <tr>\n",
       "      <th>9746286 </th>\n",
       "      <td>    October 8 (Eastern Orthodox liturgics)</td>\n",
       "      <td> 365</td>\n",
       "    </tr>\n",
       "    <tr>\n",
       "      <th>6916418 </th>\n",
       "      <td>      June 10 (Eastern Orthodox Liturgics)</td>\n",
       "      <td> 365</td>\n",
       "    </tr>\n",
       "    <tr>\n",
       "      <th>222840  </th>\n",
       "      <td>    October 2 (Eastern Orthodox liturgics)</td>\n",
       "      <td> 365</td>\n",
       "    </tr>\n",
       "    <tr>\n",
       "      <th>10403282</th>\n",
       "      <td> September 10 (Eastern Orthodox liturgics)</td>\n",
       "      <td> 365</td>\n",
       "    </tr>\n",
       "    <tr>\n",
       "      <th>7255605 </th>\n",
       "      <td>       May 22 (Eastern Orthodox Liturgics)</td>\n",
       "      <td> 365</td>\n",
       "    </tr>\n",
       "    <tr>\n",
       "      <th>2627595 </th>\n",
       "      <td> September 19 (Eastern Orthodox liturgics)</td>\n",
       "      <td> 365</td>\n",
       "    </tr>\n",
       "    <tr>\n",
       "      <th>7238051 </th>\n",
       "      <td>             April 21 (Orthodox Liturgics)</td>\n",
       "      <td> 365</td>\n",
       "    </tr>\n",
       "    <tr>\n",
       "      <th>7866409 </th>\n",
       "      <td>        May 1 (Eastern Orthodox liturgics)</td>\n",
       "      <td> 365</td>\n",
       "    </tr>\n",
       "    <tr>\n",
       "      <th>4833573 </th>\n",
       "      <td>  February 20 (Eastern Orthodox liturgics)</td>\n",
       "      <td> 365</td>\n",
       "    </tr>\n",
       "    <tr>\n",
       "      <th>1704007 </th>\n",
       "      <td>     March 13 (Eastern Orthodox liturgics)</td>\n",
       "      <td> 365</td>\n",
       "    </tr>\n",
       "    <tr>\n",
       "      <th>5140090 </th>\n",
       "      <td>      June 13 (Eastern Orthodox liturgics)</td>\n",
       "      <td> 365</td>\n",
       "    </tr>\n",
       "    <tr>\n",
       "      <th>4947568 </th>\n",
       "      <td>              June 12 (Orthodox Liturgics)</td>\n",
       "      <td> 365</td>\n",
       "    </tr>\n",
       "    <tr>\n",
       "      <th>3076660 </th>\n",
       "      <td>    October 3 (Eastern Orthodox liturgics)</td>\n",
       "      <td> 365</td>\n",
       "    </tr>\n",
       "    <tr>\n",
       "      <th>3384560 </th>\n",
       "      <td>     March 31 (Eastern Orthodox liturgics)</td>\n",
       "      <td> 365</td>\n",
       "    </tr>\n",
       "    <tr>\n",
       "      <th>10471222</th>\n",
       "      <td>              April 2 (Orthodox Liturgics)</td>\n",
       "      <td> 365</td>\n",
       "    </tr>\n",
       "    <tr>\n",
       "      <th>541479  </th>\n",
       "      <td>      March 9 (Eastern Orthodox liturgics)</td>\n",
       "      <td> 365</td>\n",
       "    </tr>\n",
       "    <tr>\n",
       "      <th>6363710 </th>\n",
       "      <td>    January 9 (Eastern Orthodox liturgics)</td>\n",
       "      <td> 365</td>\n",
       "    </tr>\n",
       "    <tr>\n",
       "      <th>10628182</th>\n",
       "      <td>             April 22 (Orthodox Liturgics)</td>\n",
       "      <td> 365</td>\n",
       "    </tr>\n",
       "    <tr>\n",
       "      <th>8188141 </th>\n",
       "      <td>              June 16 (Orthodox liturgics)</td>\n",
       "      <td> 365</td>\n",
       "    </tr>\n",
       "    <tr>\n",
       "      <th>7037526 </th>\n",
       "      <td>   January 24 (Eastern Orthodox liturgics)</td>\n",
       "      <td> 365</td>\n",
       "    </tr>\n",
       "    <tr>\n",
       "      <th>8535203 </th>\n",
       "      <td>        May 7 (Eastern Orthodox Liturgics)</td>\n",
       "      <td> 365</td>\n",
       "    </tr>\n",
       "    <tr>\n",
       "      <th>6240919 </th>\n",
       "      <td>      July 31 (Eastern Orthodox liturgics)</td>\n",
       "      <td> 365</td>\n",
       "    </tr>\n",
       "    <tr>\n",
       "      <th>8927665 </th>\n",
       "      <td>      July 21 (Eastern Orthodox liturgics)</td>\n",
       "      <td> 365</td>\n",
       "    </tr>\n",
       "    <tr>\n",
       "      <th>7484123 </th>\n",
       "      <td>       July 6 (Eastern Orthodox liturgics)</td>\n",
       "      <td> 365</td>\n",
       "    </tr>\n",
       "    <tr>\n",
       "      <th>10912810</th>\n",
       "      <td>         September 10 (Orthodox Liturgics)</td>\n",
       "      <td> 365</td>\n",
       "    </tr>\n",
       "    <tr>\n",
       "      <th>1806792 </th>\n",
       "      <td>   January 13 (Eastern Orthodox liturgics)</td>\n",
       "      <td> 365</td>\n",
       "    </tr>\n",
       "    <tr>\n",
       "      <th>26741   </th>\n",
       "      <td>     April 29 (Eastern Orthodox Liturgics)</td>\n",
       "      <td> 365</td>\n",
       "    </tr>\n",
       "    <tr>\n",
       "      <th>5427351 </th>\n",
       "      <td>      July 12 (Eastern Orthodox liturgics)</td>\n",
       "      <td> 365</td>\n",
       "    </tr>\n",
       "    <tr>\n",
       "      <th>4721922 </th>\n",
       "      <td>     April 24 (Eastern Orthodox liturgics)</td>\n",
       "      <td> 365</td>\n",
       "    </tr>\n",
       "    <tr>\n",
       "      <th>4120771 </th>\n",
       "      <td>              April 4 (Orthodox Liturgics)</td>\n",
       "      <td> 365</td>\n",
       "    </tr>\n",
       "    <tr>\n",
       "      <th>10787369</th>\n",
       "      <td>                May 1 (Orthodox Liturgics)</td>\n",
       "      <td> 365</td>\n",
       "    </tr>\n",
       "    <tr>\n",
       "      <th>3076639 </th>\n",
       "      <td> September 29 (Eastern Orthodox liturgics)</td>\n",
       "      <td> 365</td>\n",
       "    </tr>\n",
       "    <tr>\n",
       "      <th>1993279 </th>\n",
       "      <td>   January 17 (Eastern Orthodox liturgics)</td>\n",
       "      <td> 365</td>\n",
       "    </tr>\n",
       "    <tr>\n",
       "      <th>11152069</th>\n",
       "      <td>         September 21 (Orthodox Liturgics)</td>\n",
       "      <td> 365</td>\n",
       "    </tr>\n",
       "    <tr>\n",
       "      <th>2371682 </th>\n",
       "      <td>     April 18 (Eastern Orthodox liturgics)</td>\n",
       "      <td> 365</td>\n",
       "    </tr>\n",
       "    <tr>\n",
       "      <th>11152068</th>\n",
       "      <td>       May 19 (Eastern Orthodox Liturgics)</td>\n",
       "      <td> 365</td>\n",
       "    </tr>\n",
       "    <tr>\n",
       "      <th>8892979 </th>\n",
       "      <td>        May 2 (Eastern Orthodox Liturgics)</td>\n",
       "      <td> 365</td>\n",
       "    </tr>\n",
       "    <tr>\n",
       "      <th>6928389 </th>\n",
       "      <td>  December 29 (Eastern Orthodox liturgics)</td>\n",
       "      <td> 365</td>\n",
       "    </tr>\n",
       "    <tr>\n",
       "      <th>8675961 </th>\n",
       "      <td>       July 9 (Eastern Orthodox liturgics)</td>\n",
       "      <td> 365</td>\n",
       "    </tr>\n",
       "    <tr>\n",
       "      <th>4086292 </th>\n",
       "      <td>   January 11 (Eastern Orthodox liturgics)</td>\n",
       "      <td> 365</td>\n",
       "    </tr>\n",
       "    <tr>\n",
       "      <th>5352005 </th>\n",
       "      <td>                May 2 (Orthodox Liturgics)</td>\n",
       "      <td> 365</td>\n",
       "    </tr>\n",
       "    <tr>\n",
       "      <th>8813140 </th>\n",
       "      <td>      March 6 (Eastern Orthodox liturgics)</td>\n",
       "      <td> 365</td>\n",
       "    </tr>\n",
       "    <tr>\n",
       "      <th>3625925 </th>\n",
       "      <td>     April 11 (Eastern Orthodox liturgics)</td>\n",
       "      <td> 365</td>\n",
       "    </tr>\n",
       "  </tbody>\n",
       "</table>\n",
       "</div>"
      ],
      "text/plain": [
       "                                               page  path length\n",
       "3822443      Holy fathers slain at sinai and raithu          366\n",
       "4307586                           Martyrs of Raithu          366\n",
       "348831      Holly fathers slain at Sinai and Raithu          366\n",
       "5246648     January 19 (Eastern Orthodox liturgics)          365\n",
       "4725606        March 5 (Eastern Orthodox liturgics)          365\n",
       "6494442           September 12 (Orthodox Liturgics)          365\n",
       "3852463        June 28 (Eastern Orthodox liturgics)          365\n",
       "9746286      October 8 (Eastern Orthodox liturgics)          365\n",
       "6916418        June 10 (Eastern Orthodox Liturgics)          365\n",
       "222840       October 2 (Eastern Orthodox liturgics)          365\n",
       "10403282  September 10 (Eastern Orthodox liturgics)          365\n",
       "7255605         May 22 (Eastern Orthodox Liturgics)          365\n",
       "2627595   September 19 (Eastern Orthodox liturgics)          365\n",
       "7238051               April 21 (Orthodox Liturgics)          365\n",
       "7866409          May 1 (Eastern Orthodox liturgics)          365\n",
       "4833573    February 20 (Eastern Orthodox liturgics)          365\n",
       "1704007       March 13 (Eastern Orthodox liturgics)          365\n",
       "5140090        June 13 (Eastern Orthodox liturgics)          365\n",
       "4947568                June 12 (Orthodox Liturgics)          365\n",
       "3076660      October 3 (Eastern Orthodox liturgics)          365\n",
       "3384560       March 31 (Eastern Orthodox liturgics)          365\n",
       "10471222               April 2 (Orthodox Liturgics)          365\n",
       "541479         March 9 (Eastern Orthodox liturgics)          365\n",
       "6363710      January 9 (Eastern Orthodox liturgics)          365\n",
       "10628182              April 22 (Orthodox Liturgics)          365\n",
       "8188141                June 16 (Orthodox liturgics)          365\n",
       "7037526     January 24 (Eastern Orthodox liturgics)          365\n",
       "8535203          May 7 (Eastern Orthodox Liturgics)          365\n",
       "6240919        July 31 (Eastern Orthodox liturgics)          365\n",
       "8927665        July 21 (Eastern Orthodox liturgics)          365\n",
       "7484123         July 6 (Eastern Orthodox liturgics)          365\n",
       "10912810          September 10 (Orthodox Liturgics)          365\n",
       "1806792     January 13 (Eastern Orthodox liturgics)          365\n",
       "26741         April 29 (Eastern Orthodox Liturgics)          365\n",
       "5427351        July 12 (Eastern Orthodox liturgics)          365\n",
       "4721922       April 24 (Eastern Orthodox liturgics)          365\n",
       "4120771                April 4 (Orthodox Liturgics)          365\n",
       "10787369                 May 1 (Orthodox Liturgics)          365\n",
       "3076639   September 29 (Eastern Orthodox liturgics)          365\n",
       "1993279     January 17 (Eastern Orthodox liturgics)          365\n",
       "11152069          September 21 (Orthodox Liturgics)          365\n",
       "2371682       April 18 (Eastern Orthodox liturgics)          365\n",
       "11152068        May 19 (Eastern Orthodox Liturgics)          365\n",
       "8892979          May 2 (Eastern Orthodox Liturgics)          365\n",
       "6928389    December 29 (Eastern Orthodox liturgics)          365\n",
       "8675961         July 9 (Eastern Orthodox liturgics)          365\n",
       "4086292     January 11 (Eastern Orthodox liturgics)          365\n",
       "5352005                  May 2 (Orthodox Liturgics)          365\n",
       "8813140        March 6 (Eastern Orthodox liturgics)          365\n",
       "3625925       April 11 (Eastern Orthodox liturgics)          365"
      ]
     },
     "execution_count": 6,
     "metadata": {},
     "output_type": "execute_result"
    }
   ],
   "source": [
    "df.sort(columns='path length', ascending=False).head(50)\n",
    " "
   ]
  },
  {
   "cell_type": "markdown",
   "metadata": {},
   "source": [
    "## Excluding Liturgics...\n"
   ]
  },
  {
   "cell_type": "code",
   "execution_count": 3,
   "metadata": {
    "collapsed": false
   },
   "outputs": [
    {
     "name": "stderr",
     "output_type": "stream",
     "text": [
      "/usr/local/lib/python2.7/site-packages/ipykernel/__main__.py:1: FutureWarning: sort(columns=....) is deprecated, use sort_values(by=.....)\n",
      "  if __name__ == '__main__':\n"
     ]
    },
    {
     "data": {
      "text/html": [
       "<div>\n",
       "<table border=\"1\" class=\"dataframe\">\n",
       "  <thead>\n",
       "    <tr style=\"text-align: right;\">\n",
       "      <th></th>\n",
       "      <th>page</th>\n",
       "      <th>path length</th>\n",
       "    </tr>\n",
       "  </thead>\n",
       "  <tbody>\n",
       "    <tr>\n",
       "      <th>3822443</th>\n",
       "      <td>Holy fathers slain at sinai and raithu</td>\n",
       "      <td>366</td>\n",
       "    </tr>\n",
       "    <tr>\n",
       "      <th>4307586</th>\n",
       "      <td>Martyrs of Raithu</td>\n",
       "      <td>366</td>\n",
       "    </tr>\n",
       "    <tr>\n",
       "      <th>348831</th>\n",
       "      <td>Holly fathers slain at Sinai and Raithu</td>\n",
       "      <td>366</td>\n",
       "    </tr>\n",
       "    <tr>\n",
       "      <th>9349535</th>\n",
       "      <td>Holy fathers slain at Sinai and Raithu</td>\n",
       "      <td>365</td>\n",
       "    </tr>\n",
       "    <tr>\n",
       "      <th>3747101</th>\n",
       "      <td>2007 in Scotland</td>\n",
       "      <td>104</td>\n",
       "    </tr>\n",
       "    <tr>\n",
       "      <th>1672735</th>\n",
       "      <td>2005 in Scotland</td>\n",
       "      <td>103</td>\n",
       "    </tr>\n",
       "    <tr>\n",
       "      <th>5940038</th>\n",
       "      <td>2006 in Scotland</td>\n",
       "      <td>103</td>\n",
       "    </tr>\n",
       "    <tr>\n",
       "      <th>3427709</th>\n",
       "      <td>2003 in Scotland</td>\n",
       "      <td>102</td>\n",
       "    </tr>\n",
       "    <tr>\n",
       "      <th>5483187</th>\n",
       "      <td>2004 in Scotland</td>\n",
       "      <td>102</td>\n",
       "    </tr>\n",
       "    <tr>\n",
       "      <th>9082217</th>\n",
       "      <td>2001 in Scotland</td>\n",
       "      <td>101</td>\n",
       "    </tr>\n",
       "    <tr>\n",
       "      <th>9811445</th>\n",
       "      <td>2002 in Scotland</td>\n",
       "      <td>101</td>\n",
       "    </tr>\n",
       "    <tr>\n",
       "      <th>1265515</th>\n",
       "      <td>2000 in Scotland</td>\n",
       "      <td>100</td>\n",
       "    </tr>\n",
       "    <tr>\n",
       "      <th>2855529</th>\n",
       "      <td>1999 in Scotland</td>\n",
       "      <td>100</td>\n",
       "    </tr>\n",
       "    <tr>\n",
       "      <th>10463952</th>\n",
       "      <td>1998 in Scotland</td>\n",
       "      <td>99</td>\n",
       "    </tr>\n",
       "    <tr>\n",
       "      <th>10417119</th>\n",
       "      <td>1997 in Scotland</td>\n",
       "      <td>99</td>\n",
       "    </tr>\n",
       "    <tr>\n",
       "      <th>5922640</th>\n",
       "      <td>1996 in Scotland</td>\n",
       "      <td>98</td>\n",
       "    </tr>\n",
       "    <tr>\n",
       "      <th>7824403</th>\n",
       "      <td>1995 in Scotland</td>\n",
       "      <td>98</td>\n",
       "    </tr>\n",
       "    <tr>\n",
       "      <th>6168445</th>\n",
       "      <td>1994 in Scotland</td>\n",
       "      <td>97</td>\n",
       "    </tr>\n",
       "    <tr>\n",
       "      <th>5707635</th>\n",
       "      <td>1993 in Scotland</td>\n",
       "      <td>97</td>\n",
       "    </tr>\n",
       "    <tr>\n",
       "      <th>7005527</th>\n",
       "      <td>1991 in Scotland</td>\n",
       "      <td>96</td>\n",
       "    </tr>\n",
       "    <tr>\n",
       "      <th>2790716</th>\n",
       "      <td>1992 in Scotland</td>\n",
       "      <td>96</td>\n",
       "    </tr>\n",
       "    <tr>\n",
       "      <th>4807989</th>\n",
       "      <td>1989 in Scotland</td>\n",
       "      <td>95</td>\n",
       "    </tr>\n",
       "    <tr>\n",
       "      <th>2927664</th>\n",
       "      <td>1990 in Scotland</td>\n",
       "      <td>95</td>\n",
       "    </tr>\n",
       "    <tr>\n",
       "      <th>7288844</th>\n",
       "      <td>1988 in Scotland</td>\n",
       "      <td>94</td>\n",
       "    </tr>\n",
       "    <tr>\n",
       "      <th>6827142</th>\n",
       "      <td>1987 in Scotland</td>\n",
       "      <td>94</td>\n",
       "    </tr>\n",
       "    <tr>\n",
       "      <th>4544731</th>\n",
       "      <td>1986 in Scotland</td>\n",
       "      <td>93</td>\n",
       "    </tr>\n",
       "    <tr>\n",
       "      <th>1988634</th>\n",
       "      <td>1985 in Scotland</td>\n",
       "      <td>93</td>\n",
       "    </tr>\n",
       "    <tr>\n",
       "      <th>384869</th>\n",
       "      <td>1984 in Scotland</td>\n",
       "      <td>92</td>\n",
       "    </tr>\n",
       "    <tr>\n",
       "      <th>2551937</th>\n",
       "      <td>1983 in Scotland</td>\n",
       "      <td>92</td>\n",
       "    </tr>\n",
       "    <tr>\n",
       "      <th>7451802</th>\n",
       "      <td>1982 in Scotland</td>\n",
       "      <td>91</td>\n",
       "    </tr>\n",
       "    <tr>\n",
       "      <th>...</th>\n",
       "      <td>...</td>\n",
       "      <td>...</td>\n",
       "    </tr>\n",
       "    <tr>\n",
       "      <th>1611530</th>\n",
       "      <td>List of 2009 Canadian incumbents</td>\n",
       "      <td>60</td>\n",
       "    </tr>\n",
       "    <tr>\n",
       "      <th>3163047</th>\n",
       "      <td>1553 in architecture</td>\n",
       "      <td>60</td>\n",
       "    </tr>\n",
       "    <tr>\n",
       "      <th>8257496</th>\n",
       "      <td>1560s in architecture</td>\n",
       "      <td>60</td>\n",
       "    </tr>\n",
       "    <tr>\n",
       "      <th>8181836</th>\n",
       "      <td>Ontario general election, 1959</td>\n",
       "      <td>60</td>\n",
       "    </tr>\n",
       "    <tr>\n",
       "      <th>2002197</th>\n",
       "      <td>Karyaku</td>\n",
       "      <td>60</td>\n",
       "    </tr>\n",
       "    <tr>\n",
       "      <th>2315768</th>\n",
       "      <td>1836 in the UK</td>\n",
       "      <td>60</td>\n",
       "    </tr>\n",
       "    <tr>\n",
       "      <th>5147993</th>\n",
       "      <td>1557 in architecture</td>\n",
       "      <td>60</td>\n",
       "    </tr>\n",
       "    <tr>\n",
       "      <th>5277691</th>\n",
       "      <td>1920 in Scotland</td>\n",
       "      <td>60</td>\n",
       "    </tr>\n",
       "    <tr>\n",
       "      <th>3287735</th>\n",
       "      <td>Encho</td>\n",
       "      <td>60</td>\n",
       "    </tr>\n",
       "    <tr>\n",
       "      <th>1346830</th>\n",
       "      <td>1670 in England</td>\n",
       "      <td>60</td>\n",
       "    </tr>\n",
       "    <tr>\n",
       "      <th>8382878</th>\n",
       "      <td>1838 in the United Kingdom</td>\n",
       "      <td>60</td>\n",
       "    </tr>\n",
       "    <tr>\n",
       "      <th>2089886</th>\n",
       "      <td>1558 in architecture</td>\n",
       "      <td>60</td>\n",
       "    </tr>\n",
       "    <tr>\n",
       "      <th>8548725</th>\n",
       "      <td>1551 in architecture</td>\n",
       "      <td>60</td>\n",
       "    </tr>\n",
       "    <tr>\n",
       "      <th>4227662</th>\n",
       "      <td>Genko</td>\n",
       "      <td>60</td>\n",
       "    </tr>\n",
       "    <tr>\n",
       "      <th>6011737</th>\n",
       "      <td>1559 in architecture</td>\n",
       "      <td>60</td>\n",
       "    </tr>\n",
       "    <tr>\n",
       "      <th>2401677</th>\n",
       "      <td>Portal del Sur</td>\n",
       "      <td>60</td>\n",
       "    </tr>\n",
       "    <tr>\n",
       "      <th>5521742</th>\n",
       "      <td>1837 in the UK</td>\n",
       "      <td>60</td>\n",
       "    </tr>\n",
       "    <tr>\n",
       "      <th>2938682</th>\n",
       "      <td>1552 in architecture</td>\n",
       "      <td>60</td>\n",
       "    </tr>\n",
       "    <tr>\n",
       "      <th>4676620</th>\n",
       "      <td>1550 in architecture</td>\n",
       "      <td>60</td>\n",
       "    </tr>\n",
       "    <tr>\n",
       "      <th>7609224</th>\n",
       "      <td>1839 in the United Kingdom</td>\n",
       "      <td>60</td>\n",
       "    </tr>\n",
       "    <tr>\n",
       "      <th>9434873</th>\n",
       "      <td>Shochu (era)</td>\n",
       "      <td>60</td>\n",
       "    </tr>\n",
       "    <tr>\n",
       "      <th>2402488</th>\n",
       "      <td>Genkō (disambiguation)</td>\n",
       "      <td>60</td>\n",
       "    </tr>\n",
       "    <tr>\n",
       "      <th>5954972</th>\n",
       "      <td>1556 in architecture</td>\n",
       "      <td>60</td>\n",
       "    </tr>\n",
       "    <tr>\n",
       "      <th>7372394</th>\n",
       "      <td>1671 in England</td>\n",
       "      <td>60</td>\n",
       "    </tr>\n",
       "    <tr>\n",
       "      <th>8093557</th>\n",
       "      <td>Shōchū (era)</td>\n",
       "      <td>59</td>\n",
       "    </tr>\n",
       "    <tr>\n",
       "      <th>204011</th>\n",
       "      <td>1669 in England</td>\n",
       "      <td>59</td>\n",
       "    </tr>\n",
       "    <tr>\n",
       "      <th>8957378</th>\n",
       "      <td>1546 in architecture</td>\n",
       "      <td>59</td>\n",
       "    </tr>\n",
       "    <tr>\n",
       "      <th>7821574</th>\n",
       "      <td>1834 in the UK</td>\n",
       "      <td>59</td>\n",
       "    </tr>\n",
       "    <tr>\n",
       "      <th>2919238</th>\n",
       "      <td>26th Legislative Assembly of Ontario</td>\n",
       "      <td>59</td>\n",
       "    </tr>\n",
       "    <tr>\n",
       "      <th>4301033</th>\n",
       "      <td>1668 in England</td>\n",
       "      <td>59</td>\n",
       "    </tr>\n",
       "  </tbody>\n",
       "</table>\n",
       "<p>386 rows × 2 columns</p>\n",
       "</div>"
      ],
      "text/plain": [
       "                                             page  path length\n",
       "3822443    Holy fathers slain at sinai and raithu          366\n",
       "4307586                         Martyrs of Raithu          366\n",
       "348831    Holly fathers slain at Sinai and Raithu          366\n",
       "9349535    Holy fathers slain at Sinai and Raithu          365\n",
       "3747101                          2007 in Scotland          104\n",
       "1672735                          2005 in Scotland          103\n",
       "5940038                          2006 in Scotland          103\n",
       "3427709                          2003 in Scotland          102\n",
       "5483187                          2004 in Scotland          102\n",
       "9082217                          2001 in Scotland          101\n",
       "9811445                          2002 in Scotland          101\n",
       "1265515                          2000 in Scotland          100\n",
       "2855529                          1999 in Scotland          100\n",
       "10463952                         1998 in Scotland           99\n",
       "10417119                         1997 in Scotland           99\n",
       "5922640                          1996 in Scotland           98\n",
       "7824403                          1995 in Scotland           98\n",
       "6168445                          1994 in Scotland           97\n",
       "5707635                          1993 in Scotland           97\n",
       "7005527                          1991 in Scotland           96\n",
       "2790716                          1992 in Scotland           96\n",
       "4807989                          1989 in Scotland           95\n",
       "2927664                          1990 in Scotland           95\n",
       "7288844                          1988 in Scotland           94\n",
       "6827142                          1987 in Scotland           94\n",
       "4544731                          1986 in Scotland           93\n",
       "1988634                          1985 in Scotland           93\n",
       "384869                           1984 in Scotland           92\n",
       "2551937                          1983 in Scotland           92\n",
       "7451802                          1982 in Scotland           91\n",
       "...                                           ...          ...\n",
       "1611530          List of 2009 Canadian incumbents           60\n",
       "3163047                      1553 in architecture           60\n",
       "8257496                     1560s in architecture           60\n",
       "8181836            Ontario general election, 1959           60\n",
       "2002197                                   Karyaku           60\n",
       "2315768                            1836 in the UK           60\n",
       "5147993                      1557 in architecture           60\n",
       "5277691                          1920 in Scotland           60\n",
       "3287735                                     Encho           60\n",
       "1346830                           1670 in England           60\n",
       "8382878                1838 in the United Kingdom           60\n",
       "2089886                      1558 in architecture           60\n",
       "8548725                      1551 in architecture           60\n",
       "4227662                                     Genko           60\n",
       "6011737                      1559 in architecture           60\n",
       "2401677                            Portal del Sur           60\n",
       "5521742                            1837 in the UK           60\n",
       "2938682                      1552 in architecture           60\n",
       "4676620                      1550 in architecture           60\n",
       "7609224                1839 in the United Kingdom           60\n",
       "9434873                              Shochu (era)           60\n",
       "2402488                    Genkō (disambiguation)           60\n",
       "5954972                      1556 in architecture           60\n",
       "7372394                           1671 in England           60\n",
       "8093557                              Shōchū (era)           59\n",
       "204011                            1669 in England           59\n",
       "8957378                      1546 in architecture           59\n",
       "7821574                            1834 in the UK           59\n",
       "2919238      26th Legislative Assembly of Ontario           59\n",
       "4301033                           1668 in England           59\n",
       "\n",
       "[386 rows x 2 columns]"
      ]
     },
     "execution_count": 3,
     "metadata": {},
     "output_type": "execute_result"
    }
   ],
   "source": [
    "top1k= df.sort(columns='path length', ascending=False).head(1000)\n",
    "top1k[top1k['page'].apply(lambda e: \"liturgics\" not in e.lower())]\n"
   ]
  },
  {
   "cell_type": "markdown",
   "metadata": {},
   "source": [
    "## What's the total path length traversed?"
   ]
  },
  {
   "cell_type": "code",
   "execution_count": 52,
   "metadata": {
    "collapsed": false
   },
   "outputs": [
    {
     "data": {
      "text/plain": [
       "232356935"
      ]
     },
     "execution_count": 52,
     "metadata": {},
     "output_type": "execute_result"
    }
   ],
   "source": [
    "df['path length'].sum()"
   ]
  },
  {
   "cell_type": "markdown",
   "metadata": {},
   "source": [
    "## How many pages lead to dead links (or themselves)?\n"
   ]
  },
  {
   "cell_type": "code",
   "execution_count": 20,
   "metadata": {
    "collapsed": false
   },
   "outputs": [
    {
     "data": {
      "text/plain": [
       "page           550220\n",
       "path length    550220\n",
       "dtype: int64"
      ]
     },
     "execution_count": 20,
     "metadata": {},
     "output_type": "execute_result"
    }
   ],
   "source": [
    "df[df['path length'] == 0].count()"
   ]
  },
  {
   "cell_type": "markdown",
   "metadata": {},
   "source": [
    "## a sample: "
   ]
  },
  {
   "cell_type": "code",
   "execution_count": 21,
   "metadata": {
    "collapsed": false
   },
   "outputs": [
    {
     "data": {
      "text/html": [
       "<div style=\"max-height:1000px;max-width:1500px;overflow:auto;\">\n",
       "<table border=\"1\" class=\"dataframe\">\n",
       "  <thead>\n",
       "    <tr style=\"text-align: right;\">\n",
       "      <th></th>\n",
       "      <th>page</th>\n",
       "      <th>path length</th>\n",
       "    </tr>\n",
       "  </thead>\n",
       "  <tbody>\n",
       "    <tr>\n",
       "      <th>21 </th>\n",
       "      <td>                     Lowry model</td>\n",
       "      <td> 0</td>\n",
       "    </tr>\n",
       "    <tr>\n",
       "      <th>32 </th>\n",
       "      <td>             Mismagius (Pokémon)</td>\n",
       "      <td> 0</td>\n",
       "    </tr>\n",
       "    <tr>\n",
       "      <th>74 </th>\n",
       "      <td> 2002 Summer Camp Music Festival</td>\n",
       "      <td> 0</td>\n",
       "    </tr>\n",
       "    <tr>\n",
       "      <th>126</th>\n",
       "      <td>                          Rvd tv</td>\n",
       "      <td> 0</td>\n",
       "    </tr>\n",
       "    <tr>\n",
       "      <th>146</th>\n",
       "      <td>           La Resistencia (gang)</td>\n",
       "      <td> 0</td>\n",
       "    </tr>\n",
       "    <tr>\n",
       "      <th>158</th>\n",
       "      <td>  Presidency of William McKinley</td>\n",
       "      <td> 0</td>\n",
       "    </tr>\n",
       "    <tr>\n",
       "      <th>191</th>\n",
       "      <td>      Chen Ying (Three Kingdoms)</td>\n",
       "      <td> 0</td>\n",
       "    </tr>\n",
       "    <tr>\n",
       "      <th>204</th>\n",
       "      <td>                  Margot Grimmer</td>\n",
       "      <td> 0</td>\n",
       "    </tr>\n",
       "    <tr>\n",
       "      <th>208</th>\n",
       "      <td>                   Ghost (novel)</td>\n",
       "      <td> 0</td>\n",
       "    </tr>\n",
       "    <tr>\n",
       "      <th>252</th>\n",
       "      <td>               Small Swiss Hound</td>\n",
       "      <td> 0</td>\n",
       "    </tr>\n",
       "  </tbody>\n",
       "</table>\n",
       "</div>"
      ],
      "text/plain": [
       "                                page  path length\n",
       "21                       Lowry model            0\n",
       "32               Mismagius (Pokémon)            0\n",
       "74   2002 Summer Camp Music Festival            0\n",
       "126                           Rvd tv            0\n",
       "146            La Resistencia (gang)            0\n",
       "158   Presidency of William McKinley            0\n",
       "191       Chen Ying (Three Kingdoms)            0\n",
       "204                   Margot Grimmer            0\n",
       "208                    Ghost (novel)            0\n",
       "252                Small Swiss Hound            0"
      ]
     },
     "execution_count": 21,
     "metadata": {},
     "output_type": "execute_result"
    }
   ],
   "source": [
    "df[df['path length'] == 0].head(10)"
   ]
  },
  {
   "cell_type": "markdown",
   "metadata": {},
   "source": [
    "## How many articles have a path length of 2?\n",
    "_includes invalid links_"
   ]
  },
  {
   "cell_type": "code",
   "execution_count": 48,
   "metadata": {
    "collapsed": false
   },
   "outputs": [
    {
     "data": {
      "text/plain": [
       "page           326814\n",
       "path length    326814\n",
       "dtype: int64"
      ]
     },
     "execution_count": 48,
     "metadata": {},
     "output_type": "execute_result"
    }
   ],
   "source": [
    "df[df['path length'] == 2].count()"
   ]
  },
  {
   "cell_type": "markdown",
   "metadata": {},
   "source": [
    "## How many articles have a path length of 3?\n",
    "_includes invalid links_"
   ]
  },
  {
   "cell_type": "code",
   "execution_count": 50,
   "metadata": {
    "collapsed": false
   },
   "outputs": [
    {
     "data": {
      "text/plain": [
       "page           247101\n",
       "path length    247101\n",
       "dtype: int64"
      ]
     },
     "execution_count": 50,
     "metadata": {},
     "output_type": "execute_result"
    }
   ],
   "source": [
    "df[df['path length'] == 3].count()"
   ]
  },
  {
   "cell_type": "markdown",
   "metadata": {},
   "source": [
    "## What's the most frequent path length?"
   ]
  },
  {
   "cell_type": "code",
   "execution_count": 45,
   "metadata": {
    "collapsed": false
   },
   "outputs": [
    {
     "data": {
      "text/plain": [
       "0    29\n",
       "dtype: int64"
      ]
     },
     "execution_count": 45,
     "metadata": {},
     "output_type": "execute_result"
    }
   ],
   "source": [
    "df['path length'].mode()"
   ]
  },
  {
   "cell_type": "markdown",
   "metadata": {},
   "source": [
    "##How many pages have a path length of 29?"
   ]
  },
  {
   "cell_type": "code",
   "execution_count": 46,
   "metadata": {
    "collapsed": false
   },
   "outputs": [
    {
     "data": {
      "text/plain": [
       "page           698089\n",
       "path length    698089\n",
       "dtype: int64"
      ]
     },
     "execution_count": 46,
     "metadata": {},
     "output_type": "execute_result"
    }
   ],
   "source": [
    "df[df['path length'] == 29].count()"
   ]
  },
  {
   "cell_type": "markdown",
   "metadata": {},
   "source": [
    "## Summary Statistics"
   ]
  },
  {
   "cell_type": "code",
   "execution_count": 25,
   "metadata": {
    "collapsed": false
   },
   "outputs": [
    {
     "data": {
      "text/html": [
       "<div style=\"max-height:1000px;max-width:1500px;overflow:auto;\">\n",
       "<table border=\"1\" class=\"dataframe\">\n",
       "  <thead>\n",
       "    <tr style=\"text-align: right;\">\n",
       "      <th></th>\n",
       "      <th>path length</th>\n",
       "    </tr>\n",
       "  </thead>\n",
       "  <tbody>\n",
       "    <tr>\n",
       "      <th>count</th>\n",
       "      <td> 11277534.000000</td>\n",
       "    </tr>\n",
       "    <tr>\n",
       "      <th>mean</th>\n",
       "      <td>       20.603523</td>\n",
       "    </tr>\n",
       "    <tr>\n",
       "      <th>std</th>\n",
       "      <td>       12.504190</td>\n",
       "    </tr>\n",
       "    <tr>\n",
       "      <th>min</th>\n",
       "      <td>        0.000000</td>\n",
       "    </tr>\n",
       "    <tr>\n",
       "      <th>25%</th>\n",
       "      <td>        7.000000</td>\n",
       "    </tr>\n",
       "    <tr>\n",
       "      <th>50%</th>\n",
       "      <td>       26.000000</td>\n",
       "    </tr>\n",
       "    <tr>\n",
       "      <th>75%</th>\n",
       "      <td>       30.000000</td>\n",
       "    </tr>\n",
       "    <tr>\n",
       "      <th>max</th>\n",
       "      <td>      366.000000</td>\n",
       "    </tr>\n",
       "  </tbody>\n",
       "</table>\n",
       "</div>"
      ],
      "text/plain": [
       "           path length\n",
       "count  11277534.000000\n",
       "mean         20.603523\n",
       "std          12.504190\n",
       "min           0.000000\n",
       "25%           7.000000\n",
       "50%          26.000000\n",
       "75%          30.000000\n",
       "max         366.000000"
      ]
     },
     "execution_count": 25,
     "metadata": {},
     "output_type": "execute_result"
    }
   ],
   "source": [
    "df.describe()"
   ]
  },
  {
   "cell_type": "markdown",
   "metadata": {},
   "source": [
    "75% of pages traverse fewer than 30 first links!"
   ]
  },
  {
   "cell_type": "code",
   "execution_count": 8,
   "metadata": {
    "collapsed": false
   },
   "outputs": [
    {
     "data": {
      "image/png": "[encoded data removed]",
      "text/plain": [
       "<matplotlib.figure.Figure at 0x1615de4d0>"
      ]
     },
     "metadata": {},
     "output_type": "display_data"
    }
   ],
   "source": [
    "plt.figure(figsize=(8,6))\n",
    "\n",
    "sns.set_style(\"whitegrid\")\n",
    "sns.boxplot(x=df[\"path length\"])\n",
    "\n",
    "plt.savefig(path+'path_lengths_boxplot.png', format='png', dpi=300, bbox_inches='tight')\n"
   ]
  },
  {
   "cell_type": "markdown",
   "metadata": {},
   "source": [
    "## Density Plots "
   ]
  },
  {
   "cell_type": "code",
   "execution_count": 4,
   "metadata": {
    "collapsed": false
   },
   "outputs": [
    {
     "data": {
      "text/plain": [
       "<matplotlib.axes._subplots.AxesSubplot at 0x10b42b050>"
      ]
     },
     "execution_count": 4,
     "metadata": {},
     "output_type": "execute_result"
    },
    {
     "data": {
      "image/png": "[encoded data removed]",
      "text/plain": [
       "<matplotlib.figure.Figure at 0x1117c9150>"
      ]
     },
     "metadata": {},
     "output_type": "display_data"
    }
   ],
   "source": [
    "plt.figure(figsize=(8,6))\n",
    "\n",
    "sns.distplot(df[\"path length\"])"
   ]
  },
  {
   "cell_type": "code",
   "execution_count": 5,
   "metadata": {
    "collapsed": false
   },
   "outputs": [
    {
     "data": {
      "image/png": "[encoded data removed]",
      "text/plain": [
       "<matplotlib.figure.Figure at 0x14e40e090>"
      ]
     },
     "metadata": {},
     "output_type": "display_data"
    }
   ],
   "source": [
    "# runtime ~3min\n",
    "\n",
    "plt.figure(figsize=(8,6))\n",
    "\n",
    "with sns.axes_style(\"whitegrid\"):\n",
    "    sns.kdeplot(df[\"path length\"], shade=True, legend=False, color='g')\n",
    "    sns.despine(left=True)\n",
    "\n",
    "#make axis font size larger\n",
    "plt.tick_params(axis='both', which='major', labelsize=14)\n",
    "\n",
    "#labels\n",
    "plt.xlabel(\"path length\", fontsize=14)\n",
    "plt.ylabel(\"density\", fontsize=14)\n"
   ]
  },
  {
   "cell_type": "markdown",
   "metadata": {},
   "source": [
    "### in log space"
   ]
  },
  {
   "cell_type": "code",
   "execution_count": 6,
   "metadata": {
    "collapsed": false
   },
   "outputs": [
    {
     "data": {
      "image/png": "[encoded data removed]",
      "text/plain": [
       "<matplotlib.figure.Figure at 0x174ef1390>"
      ]
     },
     "metadata": {},
     "output_type": "display_data"
    }
   ],
   "source": [
    "# runtime ~3min\n",
    "\n",
    "plt.figure(figsize=(8,6))\n",
    "\n",
    "with sns.axes_style(\"whitegrid\"):\n",
    "    sns.kdeplot(np.log10(df[\"path length\"] + 1), shade=True, legend=False, color='g')\n",
    "    sns.despine(left=True)\n",
    "\n",
    "#make axis font size larger\n",
    "plt.tick_params(axis='both', which='major', labelsize=14)\n",
    "\n",
    "#labels\n",
    "plt.xlabel(\"$\\log_{10}$(path length)\", fontsize=14)\n",
    "plt.ylabel(\"density\", fontsize=14)\n",
    "\n",
    "\n",
    "\n"
   ]
  },
  {
   "cell_type": "markdown",
   "metadata": {},
   "source": [
    "### combined plot"
   ]
  },
  {
   "cell_type": "code",
   "execution_count": null,
   "metadata": {
    "collapsed": false
   },
   "outputs": [],
   "source": [
    "#defaults\n",
    "sns.set()\n",
    "plt.figure(figsize=(8,6))\n",
    "\n",
    "with sns.axes_style(\"whitegrid\"):\n",
    "    sns.kdeplot(df[\"path length\"], shade=True, legend=False, color='g')\n",
    "    sns.despine(left=True)\n",
    "\n",
    "#make axis font size larger\n",
    "plt.tick_params(axis='both', which='major', labelsize=14)\n",
    "\n",
    "#labels\n",
    "plt.xlabel(\"path length\", fontsize=14)\n",
    "plt.ylabel(\"density\", fontsize=14)\n",
    "\n",
    "#define plot axis limits\n",
    "axes = plt.gca()\n",
    "xticks = axes.xaxis.get_major_ticks()\n",
    "xticks[0].label1.set_visible(False)\n",
    "yticks = axes.yaxis.get_major_ticks()\n",
    "yticks[0].label1.set_visible(False)\n",
    "\n",
    "sns.set_style(\"dark\")\n",
    "#subplot in top corner\n",
    "a = plt.axes([.53, .51, .37, .37], axisbg='y')\n",
    "\n",
    "with sns.axes_style(\"whitegrid\"):\n",
    "    sns.kdeplot(np.log10(df[\"path length\"] + 1), shade=True, legend=False, color='g')\n",
    "    sns.despine(left=True)\n",
    "\n",
    "#make axis font size larger\n",
    "plt.tick_params(axis='both', which='major', labelsize=14)\n",
    "\n",
    "#labels\n",
    "plt.xlabel(\"$\\log_{10}$(path length)\", fontsize=14)\n",
    "plt.ylabel(\"density\", fontsize=14)\n",
    "\n",
    "#define plot axis limits\n",
    "axes = plt.gca()\n",
    "xticks = axes.xaxis.get_major_ticks()\n",
    "xticks[0].label1.set_visible(False)\n",
    "yticks = axes.yaxis.get_major_ticks()\n",
    "yticks[0].label1.set_visible(False)\n",
    "\n",
    "#transparent\n",
    "a.patch.set_alpha(0.1)\n",
    "\n",
    "#back to defaults\n",
    "sns.set()\n",
    "\n",
    "#save figure\n",
    "plt.savefig(path+'path_lengths_dist.png', format='png', dpi=300, bbox_inches='tight')\n"
   ]
  },
  {
   "cell_type": "markdown",
   "metadata": {},
   "source": [
    "## Distribution of Path Lengths"
   ]
  },
  {
   "cell_type": "code",
   "execution_count": 41,
   "metadata": {
    "collapsed": false
   },
   "outputs": [],
   "source": [
    "toppdf_10k = df.sort(columns='path length', ascending=False).head(10000)['path length']\n",
    "toppdf_1k = df.sort(columns='path length', ascending=False).head(1000)['path length']\n",
    "toppdf_100 = df.sort(columns='path length', ascending=False).head(100)['path length']\n"
   ]
  },
  {
   "cell_type": "code",
   "execution_count": 31,
   "metadata": {
    "collapsed": false
   },
   "outputs": [],
   "source": [
    "import matplotlib.pyplot as plt\n",
    "%matplotlib inline\n",
    "import seaborn as sns"
   ]
  },
  {
   "cell_type": "code",
   "execution_count": 40,
   "metadata": {
    "collapsed": false
   },
   "outputs": [
    {
     "data": {
      "text/plain": [
       "<matplotlib.text.Text at 0x168885e90>"
      ]
     },
     "execution_count": 40,
     "metadata": {},
     "output_type": "execute_result"
    },
    {
     "data": {
      "image/png": "[encoded data removed]",
      "text/plain": [
       "<matplotlib.figure.Figure at 0x13a5df6d0>"
      ]
     },
     "metadata": {},
     "output_type": "display_data"
    }
   ],
   "source": [
    "visits_plot1 = toppdf_10k.plot(kind='hist', title=\"Pages with Longest Paths (top 10k)\")\n",
    "visits_plot1.set_xlabel(\"path length\")\n",
    "visits_plot1.set_ylabel(\"frequency\")"
   ]
  },
  {
   "cell_type": "code",
   "execution_count": 42,
   "metadata": {
    "collapsed": false
   },
   "outputs": [
    {
     "data": {
      "text/plain": [
       "<matplotlib.text.Text at 0x162bcedd0>"
      ]
     },
     "execution_count": 42,
     "metadata": {},
     "output_type": "execute_result"
    },
    {
     "data": {
      "image/png": "[encoded data removed]",
      "text/plain": [
       "<matplotlib.figure.Figure at 0x162bc9250>"
      ]
     },
     "metadata": {},
     "output_type": "display_data"
    }
   ],
   "source": [
    "visits_plot2 = toppdf_1k.plot(kind='hist', title=\"Pages with Longest Paths (top 1k)\")\n",
    "visits_plot2.set_xlabel(\"path length\")\n",
    "visits_plot2.set_ylabel(\"frequency\")"
   ]
  },
  {
   "cell_type": "code",
   "execution_count": 44,
   "metadata": {
    "collapsed": false
   },
   "outputs": [
    {
     "data": {
      "text/plain": [
       "<matplotlib.text.Text at 0x1d40ffc90>"
      ]
     },
     "execution_count": 44,
     "metadata": {},
     "output_type": "execute_result"
    },
    {
     "data": {
      "image/png": "[encoded data removed]",
      "text/plain": [
       "<matplotlib.figure.Figure at 0x14ba47690>"
      ]
     },
     "metadata": {},
     "output_type": "display_data"
    }
   ],
   "source": [
    "visits_plot3 = toppdf_100.plot(kind='hist', title=\"Pages with Longest Paths (top 100)\")\n",
    "visits_plot3.set_xlabel(\"path length\")\n",
    "visits_plot3.set_ylabel(\"frequency\")"
   ]
  }
 ],
 "metadata": {
  "kernelspec": {
   "display_name": "Python 2",
   "language": "python",
   "name": "python2"
  },
  "language_info": {
   "codemirror_mode": {
    "name": "ipython",
    "version": 2
   },
   "file_extension": ".py",
   "mimetype": "text/x-python",
   "name": "python",
   "nbconvert_exporter": "python",
   "pygments_lexer": "ipython2",
   "version": "2.7.11"
  }
 },
 "nbformat": 4,
 "nbformat_minor": 0
}
