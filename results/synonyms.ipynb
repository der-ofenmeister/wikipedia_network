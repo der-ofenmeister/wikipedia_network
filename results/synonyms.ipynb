{
 "metadata": {
  "name": "",
  "signature": "sha256:7905ab10ab06dfdd6914e29c72379b09a1d3652a1866915eea2cbf7169ca8eab"
 },
 "nbformat": 3,
 "nbformat_minor": 0,
 "worksheets": [
  {
   "cells": [
    {
     "cell_type": "markdown",
     "metadata": {},
     "source": [
      "## Article rank by traverals visits vs. number of synonyms\n",
      "* synonyms are from WordNet"
     ]
    },
    {
     "cell_type": "code",
     "collapsed": false,
     "input": [
      "from nltk.corpus import wordnet as wn\n",
      "import pandas as pd\n",
      "import json\n",
      "import numpy as np\n",
      "\n",
      "import matplotlib.pyplot as plt\n",
      "import seaborn as sns\n",
      "%matplotlib inline\n",
      "\n",
      "path = \"/Users/mark/Dropbox/Math/Complex_Systems/research/wikipedia-network/writeup/graphics/\"\n"
     ],
     "language": "python",
     "metadata": {},
     "outputs": [],
     "prompt_number": 55
    },
    {
     "cell_type": "code",
     "collapsed": false,
     "input": [
      "#load highest ranking articles\n",
      "results_path = \"/Users/mark/Desktop/wiki_v4/\"\n",
      "with open(results_path + \"clicks.json\") as f:\n",
      "    dict = json.load(f)\n",
      "df = pd.DataFrame(dict.items())\n",
      "df.columns = ['page', 'visits']\n",
      "\n"
     ],
     "language": "python",
     "metadata": {},
     "outputs": [],
     "prompt_number": 55
    },
    {
     "cell_type": "code",
     "collapsed": false,
     "input": [
      "def get_num_syn(word):\n",
      "    syn_num = 0\n",
      "    syn_sets = wn.synsets(word)\n",
      "    for syn_set in syn_sets:\n",
      "        syn_num += len(syn_set.lemma_names())\n",
      "    return syn_num\n",
      "        "
     ],
     "language": "python",
     "metadata": {},
     "outputs": [],
     "prompt_number": 3
    },
    {
     "cell_type": "code",
     "collapsed": false,
     "input": [
      "#add num syn dataframe colum for all articles \n",
      "\n",
      "top_df = df.sort(columns='visits', ascending=False)\n",
      "top_df['number synonyms']= top_df['page'].map(get_num_syn)\n",
      "top_df['rank'] = range(top_df.shape[0])\n"
     ],
     "language": "python",
     "metadata": {},
     "outputs": [],
     "prompt_number": 4
    },
    {
     "cell_type": "code",
     "collapsed": false,
     "input": [
      "ex_zero_df = top_df[top_df['number synonyms'] > 0]\n",
      "sns.boxplot(x=\"number synonyms\", data=ex_zero_df)"
     ],
     "language": "python",
     "metadata": {},
     "outputs": [
      {
       "metadata": {},
       "output_type": "pyout",
       "prompt_number": 5,
       "text": [
        "<matplotlib.axes._subplots.AxesSubplot at 0x19fa0b510>"
       ]
      },
      {
       "metadata": {},
       "output_type": "display_data",
       "png": "[encoded data removed]",
       "text": [
        "<matplotlib.figure.Figure at 0x110e69910>"
       ]
      }
     ],
     "prompt_number": 5
    },
    {
     "cell_type": "code",
     "collapsed": false,
     "input": [
      "len(ex_zero_df)"
     ],
     "language": "python",
     "metadata": {},
     "outputs": [
      {
       "metadata": {},
       "output_type": "pyout",
       "prompt_number": 67,
       "text": [
        "93868"
       ]
      }
     ],
     "prompt_number": 67
    },
    {
     "cell_type": "code",
     "collapsed": false,
     "input": [
      "ex_zero_df['groups'] = ['top 100 articles']*100 + ['all other articles']*(len(ex_zero_df) - 100)\n"
     ],
     "language": "python",
     "metadata": {},
     "outputs": [
      {
       "metadata": {},
       "output_type": "display_data",
       "text": [
        "<matplotlib.figure.Figure at 0x2465e8f90>"
       ]
      }
     ],
     "prompt_number": 74
    },
    {
     "cell_type": "code",
     "collapsed": false,
     "input": [
      "sns.boxplot(x='number synonyms', y='groups', data=ex_zero_df)\n",
      "plt.text(150, 0.5, \"*excludes articles \\n with no synonyms\")\n",
      "\n",
      "#save figure\n",
      "plt.savefig(path+'synonyms.png', format='png', dpi=300, bbox_inches='tight')"
     ],
     "language": "python",
     "metadata": {},
     "outputs": [
      {
       "metadata": {},
       "output_type": "display_data",
       "png": "[encoded data removed]",
       "text": [
        "<matplotlib.figure.Figure at 0x118c76490>"
       ]
      }
     ],
     "prompt_number": 85
    },
    {
     "cell_type": "code",
     "collapsed": false,
     "input": [
      "\n",
      "\n"
     ],
     "language": "python",
     "metadata": {},
     "outputs": [],
     "prompt_number": 77
    },
    {
     "cell_type": "code",
     "collapsed": false,
     "input": [],
     "language": "python",
     "metadata": {},
     "outputs": [],
     "prompt_number": 52
    },
    {
     "cell_type": "code",
     "collapsed": false,
     "input": [
      "sns.lmplot('rank', 'number synonyms', data=top_df, fit_reg=False)"
     ],
     "language": "python",
     "metadata": {},
     "outputs": [
      {
       "metadata": {},
       "output_type": "pyout",
       "prompt_number": 16,
       "text": [
        "<seaborn.axisgrid.FacetGrid at 0x14b3c9290>"
       ]
      },
      {
       "metadata": {},
       "output_type": "display_data",
       "png": "[encoded data removed]",
       "text": [
        "<matplotlib.figure.Figure at 0x150ab2410>"
       ]
      }
     ],
     "prompt_number": 16
    },
    {
     "cell_type": "code",
     "collapsed": false,
     "input": [
      "#average syn of top 100 pages\n",
      "#vs. average syn of sample\n",
      "top_df[:100]['number synonyms'].sum()\n"
     ],
     "language": "python",
     "metadata": {},
     "outputs": [
      {
       "metadata": {},
       "output_type": "pyout",
       "prompt_number": 35,
       "text": [
        "501"
       ]
      }
     ],
     "prompt_number": 35
    },
    {
     "cell_type": "code",
     "collapsed": false,
     "input": [
      "np.mean(top_df[:100]['number synonyms'])\n"
     ],
     "language": "python",
     "metadata": {},
     "outputs": [
      {
       "metadata": {},
       "output_type": "pyout",
       "prompt_number": 7,
       "text": [
        "5.0099999999999998"
       ]
      }
     ],
     "prompt_number": 7
    },
    {
     "cell_type": "code",
     "collapsed": false,
     "input": [
      "#rest of dataset\n",
      "np.mean(top_df[100:]['number synonyms'])"
     ],
     "language": "python",
     "metadata": {},
     "outputs": [
      {
       "metadata": {},
       "output_type": "pyout",
       "prompt_number": 8,
       "text": [
        "0.04851812921272694"
       ]
      }
     ],
     "prompt_number": 8
    },
    {
     "cell_type": "code",
     "collapsed": false,
     "input": [
      "#highest ranking median\n",
      "np.median(top_df[:100]['number synonyms'])"
     ],
     "language": "python",
     "metadata": {},
     "outputs": [
      {
       "metadata": {},
       "output_type": "pyout",
       "prompt_number": 11,
       "text": [
        "2.5"
       ]
      }
     ],
     "prompt_number": 11
    },
    {
     "cell_type": "code",
     "collapsed": false,
     "input": [
      "#rest median\n",
      "np.mean(top_df[100:]['number synonyms'])"
     ],
     "language": "python",
     "metadata": {},
     "outputs": [
      {
       "metadata": {},
       "output_type": "pyout",
       "prompt_number": 12,
       "text": [
        "0.04851812921272694"
       ]
      }
     ],
     "prompt_number": 12
    },
    {
     "cell_type": "code",
     "collapsed": false,
     "input": [
      "#top 100 mean exclude zeros\n",
      "np.mean(top_df[:100][top_df[:100]['number synonyms'] > 0])"
     ],
     "language": "python",
     "metadata": {},
     "outputs": [
      {
       "metadata": {},
       "output_type": "pyout",
       "prompt_number": 38,
       "text": [
        "visits             2331610.400000\n",
        "number synonyms          9.109091\n",
        "rank                    44.145455\n",
        "dtype: float64"
       ]
      }
     ],
     "prompt_number": 38
    },
    {
     "cell_type": "code",
     "collapsed": false,
     "input": [
      "#mean of rest, exclude zeros\n",
      "np.mean(top_df[100:][top_df[100:]['number synonyms'] > 0])"
     ],
     "language": "python",
     "metadata": {},
     "outputs": [
      {
       "metadata": {},
       "output_type": "pyout",
       "prompt_number": 39,
       "text": [
        "visits                 181.215525\n",
        "number synonyms          5.832454\n",
        "rank               4018477.125590\n",
        "dtype: float64"
       ]
      }
     ],
     "prompt_number": 39
    },
    {
     "cell_type": "code",
     "collapsed": false,
     "input": [
      "np.median(top_df[100:][top_df[100:]['number synonyms'] > 0]['number synonyms'])"
     ],
     "language": "python",
     "metadata": {},
     "outputs": [
      {
       "metadata": {},
       "output_type": "pyout",
       "prompt_number": 41,
       "text": [
        "3.0"
       ]
      }
     ],
     "prompt_number": 41
    },
    {
     "cell_type": "code",
     "collapsed": false,
     "input": [
      "np.median(top_df[:100][top_df[:100]['number synonyms'] > 0]['number synonyms'])"
     ],
     "language": "python",
     "metadata": {},
     "outputs": [
      {
       "metadata": {},
       "output_type": "pyout",
       "prompt_number": 42,
       "text": [
        "7.0"
       ]
      }
     ],
     "prompt_number": 42
    }
   ],
   "metadata": {}
  }
 ]
}